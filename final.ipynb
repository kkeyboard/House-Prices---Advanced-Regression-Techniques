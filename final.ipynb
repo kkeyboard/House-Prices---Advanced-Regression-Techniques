{
 "cells": [
  {
   "cell_type": "code",
   "execution_count": 89,
   "metadata": {},
   "outputs": [],
   "source": [
    "import numpy as np\n",
    "import pandas as pd\n",
    "\n",
    "from sklearn.preprocessing import MinMaxScaler\n",
    "\n",
    "import seaborn as sns\n",
    "import matplotlib.pyplot as plt\n",
    "%matplotlib inline"
   ]
  },
  {
   "cell_type": "markdown",
   "metadata": {},
   "source": [
    "# 1. Data Management\n",
    "\n",
    "### 1-1. Read the data set"
   ]
  },
  {
   "cell_type": "code",
   "execution_count": 90,
   "metadata": {},
   "outputs": [
    {
     "data": {
      "text/html": [
       "<div>\n",
       "<style scoped>\n",
       "    .dataframe tbody tr th:only-of-type {\n",
       "        vertical-align: middle;\n",
       "    }\n",
       "\n",
       "    .dataframe tbody tr th {\n",
       "        vertical-align: top;\n",
       "    }\n",
       "\n",
       "    .dataframe thead th {\n",
       "        text-align: right;\n",
       "    }\n",
       "</style>\n",
       "<table border=\"1\" class=\"dataframe\">\n",
       "  <thead>\n",
       "    <tr style=\"text-align: right;\">\n",
       "      <th></th>\n",
       "      <th>Id</th>\n",
       "      <th>MSSubClass</th>\n",
       "      <th>MSZoning</th>\n",
       "      <th>LotFrontage</th>\n",
       "      <th>LotArea</th>\n",
       "      <th>Street</th>\n",
       "      <th>Alley</th>\n",
       "      <th>LotShape</th>\n",
       "      <th>LandContour</th>\n",
       "      <th>Utilities</th>\n",
       "      <th>...</th>\n",
       "      <th>PoolArea</th>\n",
       "      <th>PoolQC</th>\n",
       "      <th>Fence</th>\n",
       "      <th>MiscFeature</th>\n",
       "      <th>MiscVal</th>\n",
       "      <th>MoSold</th>\n",
       "      <th>YrSold</th>\n",
       "      <th>SaleType</th>\n",
       "      <th>SaleCondition</th>\n",
       "      <th>SalePrice</th>\n",
       "    </tr>\n",
       "  </thead>\n",
       "  <tbody>\n",
       "    <tr>\n",
       "      <th>0</th>\n",
       "      <td>1</td>\n",
       "      <td>60</td>\n",
       "      <td>RL</td>\n",
       "      <td>65.0</td>\n",
       "      <td>8450</td>\n",
       "      <td>Pave</td>\n",
       "      <td>NaN</td>\n",
       "      <td>Reg</td>\n",
       "      <td>Lvl</td>\n",
       "      <td>AllPub</td>\n",
       "      <td>...</td>\n",
       "      <td>0</td>\n",
       "      <td>NaN</td>\n",
       "      <td>NaN</td>\n",
       "      <td>NaN</td>\n",
       "      <td>0</td>\n",
       "      <td>2</td>\n",
       "      <td>2008</td>\n",
       "      <td>WD</td>\n",
       "      <td>Normal</td>\n",
       "      <td>208500</td>\n",
       "    </tr>\n",
       "    <tr>\n",
       "      <th>1</th>\n",
       "      <td>2</td>\n",
       "      <td>20</td>\n",
       "      <td>RL</td>\n",
       "      <td>80.0</td>\n",
       "      <td>9600</td>\n",
       "      <td>Pave</td>\n",
       "      <td>NaN</td>\n",
       "      <td>Reg</td>\n",
       "      <td>Lvl</td>\n",
       "      <td>AllPub</td>\n",
       "      <td>...</td>\n",
       "      <td>0</td>\n",
       "      <td>NaN</td>\n",
       "      <td>NaN</td>\n",
       "      <td>NaN</td>\n",
       "      <td>0</td>\n",
       "      <td>5</td>\n",
       "      <td>2007</td>\n",
       "      <td>WD</td>\n",
       "      <td>Normal</td>\n",
       "      <td>181500</td>\n",
       "    </tr>\n",
       "    <tr>\n",
       "      <th>2</th>\n",
       "      <td>3</td>\n",
       "      <td>60</td>\n",
       "      <td>RL</td>\n",
       "      <td>68.0</td>\n",
       "      <td>11250</td>\n",
       "      <td>Pave</td>\n",
       "      <td>NaN</td>\n",
       "      <td>IR1</td>\n",
       "      <td>Lvl</td>\n",
       "      <td>AllPub</td>\n",
       "      <td>...</td>\n",
       "      <td>0</td>\n",
       "      <td>NaN</td>\n",
       "      <td>NaN</td>\n",
       "      <td>NaN</td>\n",
       "      <td>0</td>\n",
       "      <td>9</td>\n",
       "      <td>2008</td>\n",
       "      <td>WD</td>\n",
       "      <td>Normal</td>\n",
       "      <td>223500</td>\n",
       "    </tr>\n",
       "    <tr>\n",
       "      <th>3</th>\n",
       "      <td>4</td>\n",
       "      <td>70</td>\n",
       "      <td>RL</td>\n",
       "      <td>60.0</td>\n",
       "      <td>9550</td>\n",
       "      <td>Pave</td>\n",
       "      <td>NaN</td>\n",
       "      <td>IR1</td>\n",
       "      <td>Lvl</td>\n",
       "      <td>AllPub</td>\n",
       "      <td>...</td>\n",
       "      <td>0</td>\n",
       "      <td>NaN</td>\n",
       "      <td>NaN</td>\n",
       "      <td>NaN</td>\n",
       "      <td>0</td>\n",
       "      <td>2</td>\n",
       "      <td>2006</td>\n",
       "      <td>WD</td>\n",
       "      <td>Abnorml</td>\n",
       "      <td>140000</td>\n",
       "    </tr>\n",
       "    <tr>\n",
       "      <th>4</th>\n",
       "      <td>5</td>\n",
       "      <td>60</td>\n",
       "      <td>RL</td>\n",
       "      <td>84.0</td>\n",
       "      <td>14260</td>\n",
       "      <td>Pave</td>\n",
       "      <td>NaN</td>\n",
       "      <td>IR1</td>\n",
       "      <td>Lvl</td>\n",
       "      <td>AllPub</td>\n",
       "      <td>...</td>\n",
       "      <td>0</td>\n",
       "      <td>NaN</td>\n",
       "      <td>NaN</td>\n",
       "      <td>NaN</td>\n",
       "      <td>0</td>\n",
       "      <td>12</td>\n",
       "      <td>2008</td>\n",
       "      <td>WD</td>\n",
       "      <td>Normal</td>\n",
       "      <td>250000</td>\n",
       "    </tr>\n",
       "  </tbody>\n",
       "</table>\n",
       "<p>5 rows × 81 columns</p>\n",
       "</div>"
      ],
      "text/plain": [
       "   Id  MSSubClass MSZoning  LotFrontage  LotArea Street Alley LotShape  \\\n",
       "0   1          60       RL         65.0     8450   Pave   NaN      Reg   \n",
       "1   2          20       RL         80.0     9600   Pave   NaN      Reg   \n",
       "2   3          60       RL         68.0    11250   Pave   NaN      IR1   \n",
       "3   4          70       RL         60.0     9550   Pave   NaN      IR1   \n",
       "4   5          60       RL         84.0    14260   Pave   NaN      IR1   \n",
       "\n",
       "  LandContour Utilities  ... PoolArea PoolQC Fence MiscFeature MiscVal MoSold  \\\n",
       "0         Lvl    AllPub  ...        0    NaN   NaN         NaN       0      2   \n",
       "1         Lvl    AllPub  ...        0    NaN   NaN         NaN       0      5   \n",
       "2         Lvl    AllPub  ...        0    NaN   NaN         NaN       0      9   \n",
       "3         Lvl    AllPub  ...        0    NaN   NaN         NaN       0      2   \n",
       "4         Lvl    AllPub  ...        0    NaN   NaN         NaN       0     12   \n",
       "\n",
       "  YrSold  SaleType  SaleCondition  SalePrice  \n",
       "0   2008        WD         Normal     208500  \n",
       "1   2007        WD         Normal     181500  \n",
       "2   2008        WD         Normal     223500  \n",
       "3   2006        WD        Abnorml     140000  \n",
       "4   2008        WD         Normal     250000  \n",
       "\n",
       "[5 rows x 81 columns]"
      ]
     },
     "execution_count": 90,
     "metadata": {},
     "output_type": "execute_result"
    }
   ],
   "source": [
    "# Read the train.csv data file.\n",
    "df = pd.read_csv('train.csv')\n",
    "df.head()"
   ]
  },
  {
   "cell_type": "code",
   "execution_count": 91,
   "metadata": {},
   "outputs": [
    {
     "name": "stdout",
     "output_type": "stream",
     "text": [
      "<class 'pandas.core.frame.DataFrame'>\n",
      "RangeIndex: 1460 entries, 0 to 1459\n",
      "Data columns (total 81 columns):\n",
      " #   Column         Non-Null Count  Dtype  \n",
      "---  ------         --------------  -----  \n",
      " 0   Id             1460 non-null   int64  \n",
      " 1   MSSubClass     1460 non-null   int64  \n",
      " 2   MSZoning       1460 non-null   object \n",
      " 3   LotFrontage    1201 non-null   float64\n",
      " 4   LotArea        1460 non-null   int64  \n",
      " 5   Street         1460 non-null   object \n",
      " 6   Alley          91 non-null     object \n",
      " 7   LotShape       1460 non-null   object \n",
      " 8   LandContour    1460 non-null   object \n",
      " 9   Utilities      1460 non-null   object \n",
      " 10  LotConfig      1460 non-null   object \n",
      " 11  LandSlope      1460 non-null   object \n",
      " 12  Neighborhood   1460 non-null   object \n",
      " 13  Condition1     1460 non-null   object \n",
      " 14  Condition2     1460 non-null   object \n",
      " 15  BldgType       1460 non-null   object \n",
      " 16  HouseStyle     1460 non-null   object \n",
      " 17  OverallQual    1460 non-null   int64  \n",
      " 18  OverallCond    1460 non-null   int64  \n",
      " 19  YearBuilt      1460 non-null   int64  \n",
      " 20  YearRemodAdd   1460 non-null   int64  \n",
      " 21  RoofStyle      1460 non-null   object \n",
      " 22  RoofMatl       1460 non-null   object \n",
      " 23  Exterior1st    1460 non-null   object \n",
      " 24  Exterior2nd    1460 non-null   object \n",
      " 25  MasVnrType     1452 non-null   object \n",
      " 26  MasVnrArea     1452 non-null   float64\n",
      " 27  ExterQual      1460 non-null   object \n",
      " 28  ExterCond      1460 non-null   object \n",
      " 29  Foundation     1460 non-null   object \n",
      " 30  BsmtQual       1423 non-null   object \n",
      " 31  BsmtCond       1423 non-null   object \n",
      " 32  BsmtExposure   1422 non-null   object \n",
      " 33  BsmtFinType1   1423 non-null   object \n",
      " 34  BsmtFinSF1     1460 non-null   int64  \n",
      " 35  BsmtFinType2   1422 non-null   object \n",
      " 36  BsmtFinSF2     1460 non-null   int64  \n",
      " 37  BsmtUnfSF      1460 non-null   int64  \n",
      " 38  TotalBsmtSF    1460 non-null   int64  \n",
      " 39  Heating        1460 non-null   object \n",
      " 40  HeatingQC      1460 non-null   object \n",
      " 41  CentralAir     1460 non-null   object \n",
      " 42  Electrical     1459 non-null   object \n",
      " 43  1stFlrSF       1460 non-null   int64  \n",
      " 44  2ndFlrSF       1460 non-null   int64  \n",
      " 45  LowQualFinSF   1460 non-null   int64  \n",
      " 46  GrLivArea      1460 non-null   int64  \n",
      " 47  BsmtFullBath   1460 non-null   int64  \n",
      " 48  BsmtHalfBath   1460 non-null   int64  \n",
      " 49  FullBath       1460 non-null   int64  \n",
      " 50  HalfBath       1460 non-null   int64  \n",
      " 51  BedroomAbvGr   1460 non-null   int64  \n",
      " 52  KitchenAbvGr   1460 non-null   int64  \n",
      " 53  KitchenQual    1460 non-null   object \n",
      " 54  TotRmsAbvGrd   1460 non-null   int64  \n",
      " 55  Functional     1460 non-null   object \n",
      " 56  Fireplaces     1460 non-null   int64  \n",
      " 57  FireplaceQu    770 non-null    object \n",
      " 58  GarageType     1379 non-null   object \n",
      " 59  GarageYrBlt    1379 non-null   float64\n",
      " 60  GarageFinish   1379 non-null   object \n",
      " 61  GarageCars     1460 non-null   int64  \n",
      " 62  GarageArea     1460 non-null   int64  \n",
      " 63  GarageQual     1379 non-null   object \n",
      " 64  GarageCond     1379 non-null   object \n",
      " 65  PavedDrive     1460 non-null   object \n",
      " 66  WoodDeckSF     1460 non-null   int64  \n",
      " 67  OpenPorchSF    1460 non-null   int64  \n",
      " 68  EnclosedPorch  1460 non-null   int64  \n",
      " 69  3SsnPorch      1460 non-null   int64  \n",
      " 70  ScreenPorch    1460 non-null   int64  \n",
      " 71  PoolArea       1460 non-null   int64  \n",
      " 72  PoolQC         7 non-null      object \n",
      " 73  Fence          281 non-null    object \n",
      " 74  MiscFeature    54 non-null     object \n",
      " 75  MiscVal        1460 non-null   int64  \n",
      " 76  MoSold         1460 non-null   int64  \n",
      " 77  YrSold         1460 non-null   int64  \n",
      " 78  SaleType       1460 non-null   object \n",
      " 79  SaleCondition  1460 non-null   object \n",
      " 80  SalePrice      1460 non-null   int64  \n",
      "dtypes: float64(3), int64(35), object(43)\n",
      "memory usage: 924.0+ KB\n"
     ]
    }
   ],
   "source": [
    "df.info()"
   ]
  },
  {
   "cell_type": "code",
   "execution_count": 92,
   "metadata": {},
   "outputs": [],
   "source": [
    "# According to the data description, these are ordinal or categorical column.\n",
    "num_to_cat_list = ['MSSubClass','OverallQual','OverallCond','MoSold']\n",
    "# Transform numeric data types into string data type.\n",
    "df[num_to_cat_list] = df[num_to_cat_list].astype(str)"
   ]
  },
  {
   "cell_type": "code",
   "execution_count": 93,
   "metadata": {},
   "outputs": [],
   "source": [
    "# The data type should be floating point because it indicates sqft.\n",
    "df['MasVnrArea'] = df['MasVnrArea'].astype(np.float)"
   ]
  },
  {
   "cell_type": "code",
   "execution_count": 94,
   "metadata": {},
   "outputs": [
    {
     "data": {
      "text/plain": [
       "Index(['MSSubClass', 'MSZoning', 'Street', 'Alley', 'LotShape', 'LandContour',\n",
       "       'Utilities', 'LotConfig', 'LandSlope', 'Neighborhood', 'Condition1',\n",
       "       'Condition2', 'BldgType', 'HouseStyle', 'OverallQual', 'OverallCond',\n",
       "       'RoofStyle', 'RoofMatl', 'Exterior1st', 'Exterior2nd', 'MasVnrType',\n",
       "       'ExterQual', 'ExterCond', 'Foundation', 'BsmtQual', 'BsmtCond',\n",
       "       'BsmtExposure', 'BsmtFinType1', 'BsmtFinType2', 'Heating', 'HeatingQC',\n",
       "       'CentralAir', 'Electrical', 'KitchenQual', 'Functional', 'FireplaceQu',\n",
       "       'GarageType', 'GarageFinish', 'GarageQual', 'GarageCond', 'PavedDrive',\n",
       "       'PoolQC', 'Fence', 'MiscFeature', 'MoSold', 'SaleType',\n",
       "       'SaleCondition'],\n",
       "      dtype='object')"
      ]
     },
     "execution_count": 94,
     "metadata": {},
     "output_type": "execute_result"
    }
   ],
   "source": [
    "# Categorical columns.\n",
    "categ_df = df.select_dtypes(include=['object'])\n",
    "categ_df.columns"
   ]
  },
  {
   "cell_type": "code",
   "execution_count": 95,
   "metadata": {},
   "outputs": [
    {
     "data": {
      "text/plain": [
       "Index(['Id', 'LotFrontage', 'LotArea', 'YearBuilt', 'YearRemodAdd',\n",
       "       'MasVnrArea', 'BsmtFinSF1', 'BsmtFinSF2', 'BsmtUnfSF', 'TotalBsmtSF',\n",
       "       '1stFlrSF', '2ndFlrSF', 'LowQualFinSF', 'GrLivArea', 'BsmtFullBath',\n",
       "       'BsmtHalfBath', 'FullBath', 'HalfBath', 'BedroomAbvGr', 'KitchenAbvGr',\n",
       "       'TotRmsAbvGrd', 'Fireplaces', 'GarageYrBlt', 'GarageCars', 'GarageArea',\n",
       "       'WoodDeckSF', 'OpenPorchSF', 'EnclosedPorch', '3SsnPorch',\n",
       "       'ScreenPorch', 'PoolArea', 'MiscVal', 'YrSold'],\n",
       "      dtype='object')"
      ]
     },
     "execution_count": 95,
     "metadata": {},
     "output_type": "execute_result"
    }
   ],
   "source": [
    "# Numerical columns.\n",
    "numer_df = df.select_dtypes(exclude=['object']).drop(columns='SalePrice')\n",
    "numer_df.columns"
   ]
  },
  {
   "cell_type": "markdown",
   "metadata": {},
   "source": [
    "### 1-2. Missing Values"
   ]
  },
  {
   "cell_type": "code",
   "execution_count": 96,
   "metadata": {},
   "outputs": [
    {
     "data": {
      "text/plain": [
       "19"
      ]
     },
     "execution_count": 96,
     "metadata": {},
     "output_type": "execute_result"
    }
   ],
   "source": [
    "# There are missing values.\n",
    "df.isnull().any().sum()"
   ]
  },
  {
   "cell_type": "code",
   "execution_count": 97,
   "metadata": {},
   "outputs": [],
   "source": [
    "#Show features with at least some NaN values\n",
    "null_counts = df.isnull().sum()\n",
    "null_cols = []\n",
    "##print(\"Percentage of null values in each column:\\n\")\n",
    "for i in range(len(null_counts)):\n",
    "    if null_counts[i] != 0:\n",
    "        #print(null_counts.index[i], null_counts[i]/len(df))\n",
    "        null_cols.append(null_counts.index[i])"
   ]
  },
  {
   "cell_type": "code",
   "execution_count": 98,
   "metadata": {},
   "outputs": [
    {
     "data": {
      "text/plain": [
       "<AxesSubplot:title={'center':'Missing Value Counts'}, ylabel='Frequency'>"
      ]
     },
     "execution_count": 98,
     "metadata": {},
     "output_type": "execute_result"
    },
    {
     "data": {
      "image/png": "[encoded data removed]",
      "text/plain": [
       "<Figure size 864x360 with 1 Axes>"
      ]
     },
     "metadata": {
      "needs_background": "light"
     },
     "output_type": "display_data"
    }
   ],
   "source": [
    "# Plot missing values.\n",
    "# Number of \"NA\" in each column.\n",
    "na_series = df.isnull().sum().sort_values()\n",
    "na_series[na_series.values >0].plot(kind='bar',figsize=(12,5), rot=60,ylabel = 'Frequency', \n",
    "               title = 'Missing Value Counts')"
   ]
  },
  {
   "cell_type": "code",
   "execution_count": 99,
   "metadata": {},
   "outputs": [
    {
     "data": {
      "text/plain": [
       "0"
      ]
     },
     "execution_count": 99,
     "metadata": {},
     "output_type": "execute_result"
    }
   ],
   "source": [
    "#Columns that have the data description with an explanation for NaN values\n",
    "##Basically indicates a lack of the feature is specified\n",
    "valid_none_cols = ['BsmtQual','BsmtCond','BsmtExposure','BsmtFinType1','BsmtFinType2','GarageType',\n",
    "                'GarageFinish','GarageQual','FireplaceQu','GarageCond']\n",
    "\n",
    "##Filling in with value 'None' to indicate for machine learning later\n",
    "df[valid_none_cols]= df[valid_none_cols].fillna('None')\n",
    "df[valid_none_cols].isna().any().sum() # No more NAs."
   ]
  },
  {
   "cell_type": "code",
   "execution_count": 100,
   "metadata": {},
   "outputs": [
    {
     "name": "stdout",
     "output_type": "stream",
     "text": [
      "['Alley' 'MasVnrType' 'Electrical' 'PoolQC' 'Fence' 'MiscFeature']\n"
     ]
    }
   ],
   "source": [
    "#Organizing the other features with NaN values into numerical and categorical features\n",
    "#\"Invalid\" simply means the data description didn't specify NaN values\n",
    "\n",
    "invalid_none_cols = np.array(null_cols)\n",
    "#Fill with feature names in null_cols that only are NOT already in valid_none_cols\n",
    "invalid_none_cols = invalid_none_cols[[i not in valid_none_cols for i in invalid_none_cols]]\n",
    "\n",
    "#Splitting\n",
    "invalid_none_categ = invalid_none_cols[[i in categ_df for i in invalid_none_cols]]\n",
    "print(invalid_none_categ)"
   ]
  },
  {
   "cell_type": "code",
   "execution_count": 101,
   "metadata": {},
   "outputs": [
    {
     "name": "stdout",
     "output_type": "stream",
     "text": [
      "['LotFrontage' 'MasVnrArea' 'GarageYrBlt']\n"
     ]
    }
   ],
   "source": [
    "invalid_none_numer = invalid_none_cols[[i in numer_df for i in invalid_none_cols]]\n",
    "print(invalid_none_numer)"
   ]
  },
  {
   "cell_type": "markdown",
   "metadata": {},
   "source": [
    "#### Comment:\n",
    "- From data_description.txt file:\n",
    "\n",
    "    PoolQC: Pool quality\n",
    "\n",
    "           Ex\tExcellent\n",
    "           Gd\tGood\n",
    "           TA\tAverage/Typical\n",
    "           Fa\tFair\n",
    "           NA\tNo Pool\n",
    "\n",
    "    Fence: Fence quality\n",
    "\n",
    "           GdPrv\tGood Privacy\n",
    "           MnPrv\tMinimum Privacy\n",
    "           GdWo\tGood Wood\n",
    "           MnWw\tMinimum Wood/Wire\n",
    "           NA\tNo Fence\n",
    "\n",
    "    MiscFeature: Miscellaneous feature not covered in other categories\n",
    "\n",
    "           Elev\tElevator\n",
    "           Gar2\t2nd Garage (if not described in garage section)\n",
    "           Othr\tOther\n",
    "           Shed\tShed (over 100 SF)\n",
    "           TenC\tTennis Court\n",
    "           NA\tNone\n",
    "\n",
    "- When read_csv() function reads the csv file, it reads NA as NaN value(as data is missing, unregistered). However, according to the data description, 'NA' is one of feature level to describ there is no feature in the corresponding house.\n",
    "- Regardless this information, it is right call to drop these columns because it has too many 'NA' levels(more than half of data) which means it will not likely affect the SalePrice anyway."
   ]
  },
  {
   "cell_type": "code",
   "execution_count": 102,
   "metadata": {},
   "outputs": [],
   "source": [
    "# Remove unnecessary features.\n",
    "df = df.drop(columns=[\"Id\", \"Alley\",\"PoolQC\",\"Fence\",\"MiscFeature\"])"
   ]
  },
  {
   "cell_type": "code",
   "execution_count": 103,
   "metadata": {},
   "outputs": [],
   "source": [
    "# According to data description file, the most columns uses 'NA' as 'No fireplace', 'No basement' and etc.\n",
    "# However, MasVnrType/Electrical column contains 'NA' without any designation. Then it should be missing value.\n",
    "\n",
    "bad_categ  = pd.concat([df['MasVnrType'],df['Electrical']],axis=1)\n",
    "#Getting the particular rows in the df with NaN values\n",
    "bad_rows = bad_categ[bad_categ.isna().any(axis=1)]\n",
    "#Deleting these rows from the total df\n",
    "df = df.drop(bad_rows.index)\n",
    "#Categories without NaN descriptions should no longer have NaN values"
   ]
  },
  {
   "cell_type": "code",
   "execution_count": 104,
   "metadata": {},
   "outputs": [
    {
     "data": {
      "text/plain": [
       "(1451, 76)"
      ]
     },
     "execution_count": 104,
     "metadata": {},
     "output_type": "execute_result"
    }
   ],
   "source": [
    "# 9 rows are dropped.\n",
    "df.shape"
   ]
  },
  {
   "cell_type": "code",
   "execution_count": 105,
   "metadata": {},
   "outputs": [
    {
     "data": {
      "text/plain": [
       "(257,)"
      ]
     },
     "execution_count": 105,
     "metadata": {},
     "output_type": "execute_result"
    }
   ],
   "source": [
    "##IMPUTING NUMERICAL FEATURES\n",
    "#For the most part these values can be assumed to indicate 0 when not filled with a number\n",
    "##LotFrontage has many missing values, so all 0 wouldn't be great\n",
    "#GarageYrBlt makes no sense with a value of 0. We'll change these two individually\n",
    "df['LotFrontage'].loc[df['LotFrontage'].isnull()].shape # 257 NAs."
   ]
  },
  {
   "cell_type": "code",
   "execution_count": 106,
   "metadata": {},
   "outputs": [
    {
     "data": {
      "text/plain": [
       "0"
      ]
     },
     "execution_count": 106,
     "metadata": {},
     "output_type": "execute_result"
    }
   ],
   "source": [
    "#Imputing LotFrontage by assuming the fill takes on the median value\n",
    "#Perhaps this can be improved with comparisons to the LotArea feature?\n",
    "df['LotFrontage'] = df['LotFrontage'].fillna(df['LotFrontage'].median())\n",
    "df['LotFrontage'].isna().sum() # 0 NAs."
   ]
  },
  {
   "cell_type": "code",
   "execution_count": 107,
   "metadata": {},
   "outputs": [
    {
     "data": {
      "text/plain": [
       "Text(0, 0.5, 'Year Built')"
      ]
     },
     "execution_count": 107,
     "metadata": {},
     "output_type": "execute_result"
    },
    {
     "data": {
      "image/png": "[encoded data removed]",
      "text/plain": [
       "<Figure size 432x288 with 1 Axes>"
      ]
     },
     "metadata": {
      "needs_background": "light"
     },
     "output_type": "display_data"
    }
   ],
   "source": [
    "#Imputing GarageYrBlt based on the year the house was built\n",
    "plt.plot(df[\"GarageYrBlt\"],df[\"YearBuilt\"],\"b.\")\n",
    "plt.xticks(np.arange(min(df[\"GarageYrBlt\"]),max(df[\"GarageYrBlt\"]),20.0))\n",
    "plt.xlabel(\"Year Garage Built\")\n",
    "plt.ylabel(\"Year Built\")"
   ]
  },
  {
   "cell_type": "code",
   "execution_count": 108,
   "metadata": {},
   "outputs": [],
   "source": [
    "#seems like the garage is built around the same year as the house or a bit later\n",
    "#Again use the median value to fill in\n",
    "df[\"GarageYrBlt\"] = df[\"GarageYrBlt\"].fillna(df['YearBuilt']-(df['GarageYrBlt']-df['YearBuilt']).median())\n",
    "\n",
    "#Fill the rest of the null values to 0\n",
    "for i in invalid_none_numer:\n",
    "    df[i] = df[i].fillna(0)"
   ]
  },
  {
   "cell_type": "markdown",
   "metadata": {},
   "source": [
    "### 1-3. The response variable (SalePrice) Transformation\n",
    "- src: https://www.marsja.se/transform-skewed-data-using-square-root-log-box-cox-methods-in-python/"
   ]
  },
  {
   "cell_type": "code",
   "execution_count": 109,
   "metadata": {},
   "outputs": [
    {
     "name": "stderr",
     "output_type": "stream",
     "text": [
      "/Users/anchal/.pyenv/versions/3.8.6/lib/python3.8/site-packages/statsmodels/graphics/gofplots.py:993: UserWarning: marker is redundantly defined by the 'marker' keyword argument and the fmt string \"bo\" (-> marker='o'). The keyword argument will take precedence.\n",
      "  ax.plot(x, y, fmt, **plot_style)\n"
     ]
    },
    {
     "data": {
      "image/png": "[encoded data removed]",
      "text/plain": [
       "<Figure size 432x288 with 1 Axes>"
      ]
     },
     "metadata": {
      "needs_background": "light"
     },
     "output_type": "display_data"
    }
   ],
   "source": [
    "# See if SalePrice column is normal.\n",
    "# !pip install statsmodels\n",
    "import statsmodels.api as sm\n",
    "from scipy.stats import boxcox\n",
    "\n",
    "# Use Q-Q plot to see normality. It is supposed to be straight line.\n",
    "fig = sm.qqplot(df['SalePrice'], fit= True, line=\"45\")\n",
    "plt.show()"
   ]
  },
  {
   "cell_type": "markdown",
   "metadata": {},
   "source": [
    "#### Comment: \n",
    "- Since we are going to use linear regression models, it is necessary to transform the response variable normally distributed. Becuase the response variable is linear combination of feature variables."
   ]
  },
  {
   "cell_type": "code",
   "execution_count": 110,
   "metadata": {},
   "outputs": [
    {
     "name": "stderr",
     "output_type": "stream",
     "text": [
      "/Users/anchal/.pyenv/versions/3.8.6/lib/python3.8/site-packages/statsmodels/graphics/gofplots.py:993: UserWarning: marker is redundantly defined by the 'marker' keyword argument and the fmt string \"bo\" (-> marker='o'). The keyword argument will take precedence.\n",
      "  ax.plot(x, y, fmt, **plot_style)\n"
     ]
    },
    {
     "data": {
      "image/png": "[encoded data removed]",
      "text/plain": [
       "<Figure size 432x288 with 1 Axes>"
      ]
     },
     "metadata": {
      "needs_background": "light"
     },
     "output_type": "display_data"
    }
   ],
   "source": [
    "# Log transformation. (Better)\n",
    "fig = sm.qqplot(np.log(df['SalePrice']), fit= True, line=\"45\")\n",
    "plt.show()"
   ]
  },
  {
   "cell_type": "code",
   "execution_count": 111,
   "metadata": {},
   "outputs": [
    {
     "name": "stderr",
     "output_type": "stream",
     "text": [
      "/Users/anchal/.pyenv/versions/3.8.6/lib/python3.8/site-packages/statsmodels/graphics/gofplots.py:993: UserWarning: marker is redundantly defined by the 'marker' keyword argument and the fmt string \"bo\" (-> marker='o'). The keyword argument will take precedence.\n",
      "  ax.plot(x, y, fmt, **plot_style)\n"
     ]
    },
    {
     "data": {
      "image/png": "[encoded data removed]",
      "text/plain": [
       "<Figure size 432x288 with 1 Axes>"
      ]
     },
     "metadata": {
      "needs_background": "light"
     },
     "output_type": "display_data"
    }
   ],
   "source": [
    "# Sqrt transformation. (Worse)\n",
    "fig = sm.qqplot(np.sqrt(df['SalePrice']), fit= True, line=\"45\")\n",
    "plt.show()"
   ]
  },
  {
   "cell_type": "code",
   "execution_count": 112,
   "metadata": {},
   "outputs": [
    {
     "data": {
      "image/png": "[encoded data removed]",
      "text/plain": [
       "<Figure size 864x360 with 2 Axes>"
      ]
     },
     "metadata": {
      "needs_background": "light"
     },
     "output_type": "display_data"
    }
   ],
   "source": [
    "# Compare distribution.\n",
    "fig, (ax1,ax2) = plt.subplots(1,2, figsize=(12,5))\n",
    "# Left plot.\n",
    "ax1.hist(df['SalePrice'], alpha=0.7)\n",
    "ax1.set_title(\"Before Log-Transformation\")\n",
    "ax1.set_xlabel('SalePrice')\n",
    "ax1.set_ylabel('Frequency')\n",
    "# Right plot.\n",
    "ax2.hist(np.log(df['SalePrice']), alpha=0.7, color='orange')\n",
    "ax2.set_title('After Log-Transformation')\n",
    "ax2.set_xlabel('Log-Scaled SalePrice')\n",
    "\n",
    "plt.tight_layout()\n",
    "plt.show()"
   ]
  },
  {
   "cell_type": "markdown",
   "metadata": {},
   "source": [
    "#### Comment:\n",
    "- Since log transformation normalizes the response variable, apply log transformation on SalePrice column."
   ]
  },
  {
   "cell_type": "code",
   "execution_count": 113,
   "metadata": {},
   "outputs": [],
   "source": [
    "# Apply log transformation.\n",
    "df['SalePrice'] = np.log(df['SalePrice'])"
   ]
  },
  {
   "cell_type": "markdown",
   "metadata": {},
   "source": [
    "### 1-4. Removing Outliers"
   ]
  },
  {
   "cell_type": "code",
   "execution_count": 114,
   "metadata": {},
   "outputs": [],
   "source": [
    "# GrLivArea and GarageArea columns have relatively large correlation with the SalePrice.\n",
    "# Use scatterplots to detect the outliers.\n",
    "def visualDetectionOutlier(train_df):\n",
    "    sp = train_df['SalePrice']\n",
    "    fig, axes = plt.subplots(nrows=2,ncols=1,figsize=(7,12))\n",
    "    axes[0].scatter(x=train_df['GrLivArea'],y=sp, alpha=0.5)\n",
    "    axes[0].set_title(\"GrLivArea vs SalePrice\")\n",
    "    axes[0].set_xlabel(\"sqft\")\n",
    "    axes[0].set_ylabel(\"Price\")\n",
    "    axes[1].scatter(x=train_df['GarageArea'],y=sp, alpha=0.5)\n",
    "    axes[1].set_title(\"GarageArea vs SalePrice\")\n",
    "    axes[1].set_xlabel(\"sqft\")\n",
    "    axes[1].set_ylabel(\"Price\")\n",
    "    fig.tight_layout()\n",
    "    plt.show()"
   ]
  },
  {
   "cell_type": "code",
   "execution_count": 115,
   "metadata": {},
   "outputs": [
    {
     "data": {
      "image/png": "[encoded data removed]",
      "text/plain": [
       "<Figure size 504x864 with 2 Axes>"
      ]
     },
     "metadata": {
      "needs_background": "light"
     },
     "output_type": "display_data"
    }
   ],
   "source": [
    "# Before removing outliers.\n",
    "visualDetectionOutlier(df)"
   ]
  },
  {
   "cell_type": "code",
   "execution_count": 116,
   "metadata": {},
   "outputs": [],
   "source": [
    "# [Plot 1: GrLivArea vs SalePrice] Bottom right two points look like outliers.\n",
    "ol_plot1_bottomright = df.loc[(df['GrLivArea'] > 4000) & (df['SalePrice'] < 300000)]\n",
    "# [Plot 2: GarageArea vs SalePrice] Bottom right four points look like outliers.\n",
    "ol_plot2_bottomright = df.loc[((df['GarageArea'] > 1200) & (df['SalePrice'] < 300000))]\n",
    "# [Plot 2: GarageArea vs SalePrice] Top middle two points look like outliers.\n",
    "ol_plot2_topmiddle = df.loc[((df['GarageArea'] > 800) & (df['GarageArea'] < 1000)) &\n",
    "                                  (df['SalePrice'] > 700000)]\n",
    "# Remove the outliers.\n",
    "df = df.drop(ol_plot1_bottomright.index.append(ol_plot2_bottomright.index).\n",
    "                         append(ol_plot2_topmiddle.index))"
   ]
  },
  {
   "cell_type": "code",
   "execution_count": 117,
   "metadata": {},
   "outputs": [
    {
     "data": {
      "image/png": "[encoded data removed]",
      "text/plain": [
       "<Figure size 504x864 with 2 Axes>"
      ]
     },
     "metadata": {
      "needs_background": "light"
     },
     "output_type": "display_data"
    }
   ],
   "source": [
    "# Check out the linearity again.\n",
    "visualDetectionOutlier(df)"
   ]
  },
  {
   "cell_type": "markdown",
   "metadata": {},
   "source": [
    "### 1-5. Min-Max Scale Numerical Columns"
   ]
  },
  {
   "cell_type": "code",
   "execution_count": 118,
   "metadata": {},
   "outputs": [],
   "source": [
    "# Select categorical and numerical columns from the cleaned dataframe.\n",
    "categ_df = df.select_dtypes(include=['object'])\n",
    "numer_df = df.select_dtypes(exclude=['object']).drop(columns='SalePrice')"
   ]
  },
  {
   "cell_type": "code",
   "execution_count": 119,
   "metadata": {},
   "outputs": [
    {
     "data": {
      "text/plain": [
       "Index(['LotFrontage', 'LotArea', 'YearBuilt', 'YearRemodAdd', 'MasVnrArea',\n",
       "       'BsmtFinSF1', 'BsmtFinSF2', 'BsmtUnfSF', 'TotalBsmtSF', '1stFlrSF',\n",
       "       '2ndFlrSF', 'LowQualFinSF', 'GrLivArea', 'BsmtFullBath', 'BsmtHalfBath',\n",
       "       'FullBath', 'HalfBath', 'BedroomAbvGr', 'KitchenAbvGr', 'TotRmsAbvGrd',\n",
       "       'Fireplaces', 'GarageYrBlt', 'GarageCars', 'GarageArea', 'WoodDeckSF',\n",
       "       'OpenPorchSF', 'EnclosedPorch', '3SsnPorch', 'ScreenPorch', 'PoolArea',\n",
       "       'MiscVal', 'YrSold'],\n",
       "      dtype='object')"
      ]
     },
     "execution_count": 119,
     "metadata": {},
     "output_type": "execute_result"
    }
   ],
   "source": [
    "# Transform numerical columns.\n",
    "# Use MinMaxScaler.\n",
    "scaler = MinMaxScaler()\n",
    "\n",
    "# Numerical column names.\n",
    "numer_col_names = numer_df.columns\n",
    "numer_col_names"
   ]
  },
  {
   "cell_type": "code",
   "execution_count": 120,
   "metadata": {},
   "outputs": [
    {
     "data": {
      "text/html": [
       "<div>\n",
       "<style scoped>\n",
       "    .dataframe tbody tr th:only-of-type {\n",
       "        vertical-align: middle;\n",
       "    }\n",
       "\n",
       "    .dataframe tbody tr th {\n",
       "        vertical-align: top;\n",
       "    }\n",
       "\n",
       "    .dataframe thead th {\n",
       "        text-align: right;\n",
       "    }\n",
       "</style>\n",
       "<table border=\"1\" class=\"dataframe\">\n",
       "  <thead>\n",
       "    <tr style=\"text-align: right;\">\n",
       "      <th></th>\n",
       "      <th>LotFrontage</th>\n",
       "      <th>LotArea</th>\n",
       "      <th>YearBuilt</th>\n",
       "      <th>YearRemodAdd</th>\n",
       "      <th>MasVnrArea</th>\n",
       "      <th>BsmtFinSF1</th>\n",
       "      <th>BsmtFinSF2</th>\n",
       "      <th>BsmtUnfSF</th>\n",
       "      <th>TotalBsmtSF</th>\n",
       "      <th>1stFlrSF</th>\n",
       "      <th>...</th>\n",
       "      <th>GarageCars</th>\n",
       "      <th>GarageArea</th>\n",
       "      <th>WoodDeckSF</th>\n",
       "      <th>OpenPorchSF</th>\n",
       "      <th>EnclosedPorch</th>\n",
       "      <th>3SsnPorch</th>\n",
       "      <th>ScreenPorch</th>\n",
       "      <th>PoolArea</th>\n",
       "      <th>MiscVal</th>\n",
       "      <th>YrSold</th>\n",
       "    </tr>\n",
       "  </thead>\n",
       "  <tbody>\n",
       "    <tr>\n",
       "      <th>0</th>\n",
       "      <td>0.150685</td>\n",
       "      <td>0.033420</td>\n",
       "      <td>0.949275</td>\n",
       "      <td>0.883333</td>\n",
       "      <td>0.122500</td>\n",
       "      <td>0.322669</td>\n",
       "      <td>0.000000</td>\n",
       "      <td>0.064212</td>\n",
       "      <td>0.266999</td>\n",
       "      <td>0.180373</td>\n",
       "      <td>...</td>\n",
       "      <td>0.50</td>\n",
       "      <td>0.469983</td>\n",
       "      <td>0.000000</td>\n",
       "      <td>0.111517</td>\n",
       "      <td>0.000000</td>\n",
       "      <td>0.0</td>\n",
       "      <td>0.0</td>\n",
       "      <td>0.0</td>\n",
       "      <td>0.00000</td>\n",
       "      <td>0.50</td>\n",
       "    </tr>\n",
       "    <tr>\n",
       "      <th>1</th>\n",
       "      <td>0.202055</td>\n",
       "      <td>0.038795</td>\n",
       "      <td>0.753623</td>\n",
       "      <td>0.433333</td>\n",
       "      <td>0.000000</td>\n",
       "      <td>0.446984</td>\n",
       "      <td>0.000000</td>\n",
       "      <td>0.121575</td>\n",
       "      <td>0.393637</td>\n",
       "      <td>0.320663</td>\n",
       "      <td>...</td>\n",
       "      <td>0.50</td>\n",
       "      <td>0.394511</td>\n",
       "      <td>0.347725</td>\n",
       "      <td>0.000000</td>\n",
       "      <td>0.000000</td>\n",
       "      <td>0.0</td>\n",
       "      <td>0.0</td>\n",
       "      <td>0.0</td>\n",
       "      <td>0.00000</td>\n",
       "      <td>0.25</td>\n",
       "    </tr>\n",
       "    <tr>\n",
       "      <th>2</th>\n",
       "      <td>0.160959</td>\n",
       "      <td>0.046507</td>\n",
       "      <td>0.934783</td>\n",
       "      <td>0.866667</td>\n",
       "      <td>0.101250</td>\n",
       "      <td>0.222121</td>\n",
       "      <td>0.000000</td>\n",
       "      <td>0.185788</td>\n",
       "      <td>0.286962</td>\n",
       "      <td>0.202488</td>\n",
       "      <td>...</td>\n",
       "      <td>0.50</td>\n",
       "      <td>0.521441</td>\n",
       "      <td>0.000000</td>\n",
       "      <td>0.076782</td>\n",
       "      <td>0.000000</td>\n",
       "      <td>0.0</td>\n",
       "      <td>0.0</td>\n",
       "      <td>0.0</td>\n",
       "      <td>0.00000</td>\n",
       "      <td>0.50</td>\n",
       "    </tr>\n",
       "    <tr>\n",
       "      <th>3</th>\n",
       "      <td>0.133562</td>\n",
       "      <td>0.038561</td>\n",
       "      <td>0.311594</td>\n",
       "      <td>0.333333</td>\n",
       "      <td>0.000000</td>\n",
       "      <td>0.098720</td>\n",
       "      <td>0.000000</td>\n",
       "      <td>0.231164</td>\n",
       "      <td>0.235808</td>\n",
       "      <td>0.216655</td>\n",
       "      <td>...</td>\n",
       "      <td>0.75</td>\n",
       "      <td>0.550600</td>\n",
       "      <td>0.000000</td>\n",
       "      <td>0.063985</td>\n",
       "      <td>0.492754</td>\n",
       "      <td>0.0</td>\n",
       "      <td>0.0</td>\n",
       "      <td>0.0</td>\n",
       "      <td>0.00000</td>\n",
       "      <td>0.00</td>\n",
       "    </tr>\n",
       "    <tr>\n",
       "      <th>4</th>\n",
       "      <td>0.215753</td>\n",
       "      <td>0.060576</td>\n",
       "      <td>0.927536</td>\n",
       "      <td>0.833333</td>\n",
       "      <td>0.218750</td>\n",
       "      <td>0.299360</td>\n",
       "      <td>0.000000</td>\n",
       "      <td>0.209760</td>\n",
       "      <td>0.357143</td>\n",
       "      <td>0.280235</td>\n",
       "      <td>...</td>\n",
       "      <td>0.75</td>\n",
       "      <td>0.716981</td>\n",
       "      <td>0.224037</td>\n",
       "      <td>0.153565</td>\n",
       "      <td>0.000000</td>\n",
       "      <td>0.0</td>\n",
       "      <td>0.0</td>\n",
       "      <td>0.0</td>\n",
       "      <td>0.00000</td>\n",
       "      <td>0.50</td>\n",
       "    </tr>\n",
       "    <tr>\n",
       "      <th>...</th>\n",
       "      <td>...</td>\n",
       "      <td>...</td>\n",
       "      <td>...</td>\n",
       "      <td>...</td>\n",
       "      <td>...</td>\n",
       "      <td>...</td>\n",
       "      <td>...</td>\n",
       "      <td>...</td>\n",
       "      <td>...</td>\n",
       "      <td>...</td>\n",
       "      <td>...</td>\n",
       "      <td>...</td>\n",
       "      <td>...</td>\n",
       "      <td>...</td>\n",
       "      <td>...</td>\n",
       "      <td>...</td>\n",
       "      <td>...</td>\n",
       "      <td>...</td>\n",
       "      <td>...</td>\n",
       "      <td>...</td>\n",
       "      <td>...</td>\n",
       "    </tr>\n",
       "    <tr>\n",
       "      <th>1455</th>\n",
       "      <td>0.140411</td>\n",
       "      <td>0.030929</td>\n",
       "      <td>0.920290</td>\n",
       "      <td>0.833333</td>\n",
       "      <td>0.000000</td>\n",
       "      <td>0.000000</td>\n",
       "      <td>0.000000</td>\n",
       "      <td>0.407962</td>\n",
       "      <td>0.297255</td>\n",
       "      <td>0.213891</td>\n",
       "      <td>...</td>\n",
       "      <td>0.50</td>\n",
       "      <td>0.394511</td>\n",
       "      <td>0.000000</td>\n",
       "      <td>0.073126</td>\n",
       "      <td>0.000000</td>\n",
       "      <td>0.0</td>\n",
       "      <td>0.0</td>\n",
       "      <td>0.0</td>\n",
       "      <td>0.00000</td>\n",
       "      <td>0.25</td>\n",
       "    </tr>\n",
       "    <tr>\n",
       "      <th>1456</th>\n",
       "      <td>0.219178</td>\n",
       "      <td>0.055505</td>\n",
       "      <td>0.768116</td>\n",
       "      <td>0.633333</td>\n",
       "      <td>0.074375</td>\n",
       "      <td>0.361060</td>\n",
       "      <td>0.110583</td>\n",
       "      <td>0.252140</td>\n",
       "      <td>0.480973</td>\n",
       "      <td>0.600898</td>\n",
       "      <td>...</td>\n",
       "      <td>0.50</td>\n",
       "      <td>0.428816</td>\n",
       "      <td>0.407235</td>\n",
       "      <td>0.000000</td>\n",
       "      <td>0.000000</td>\n",
       "      <td>0.0</td>\n",
       "      <td>0.0</td>\n",
       "      <td>0.0</td>\n",
       "      <td>0.00000</td>\n",
       "      <td>1.00</td>\n",
       "    </tr>\n",
       "    <tr>\n",
       "      <th>1457</th>\n",
       "      <td>0.154110</td>\n",
       "      <td>0.036187</td>\n",
       "      <td>0.500000</td>\n",
       "      <td>0.933333</td>\n",
       "      <td>0.000000</td>\n",
       "      <td>0.125686</td>\n",
       "      <td>0.000000</td>\n",
       "      <td>0.375428</td>\n",
       "      <td>0.359326</td>\n",
       "      <td>0.295093</td>\n",
       "      <td>...</td>\n",
       "      <td>0.25</td>\n",
       "      <td>0.216123</td>\n",
       "      <td>0.000000</td>\n",
       "      <td>0.109689</td>\n",
       "      <td>0.000000</td>\n",
       "      <td>0.0</td>\n",
       "      <td>0.0</td>\n",
       "      <td>0.0</td>\n",
       "      <td>0.16129</td>\n",
       "      <td>1.00</td>\n",
       "    </tr>\n",
       "    <tr>\n",
       "      <th>1458</th>\n",
       "      <td>0.160959</td>\n",
       "      <td>0.039342</td>\n",
       "      <td>0.565217</td>\n",
       "      <td>0.766667</td>\n",
       "      <td>0.000000</td>\n",
       "      <td>0.022395</td>\n",
       "      <td>0.698100</td>\n",
       "      <td>0.000000</td>\n",
       "      <td>0.336245</td>\n",
       "      <td>0.257084</td>\n",
       "      <td>...</td>\n",
       "      <td>0.25</td>\n",
       "      <td>0.205832</td>\n",
       "      <td>0.427071</td>\n",
       "      <td>0.000000</td>\n",
       "      <td>0.202899</td>\n",
       "      <td>0.0</td>\n",
       "      <td>0.0</td>\n",
       "      <td>0.0</td>\n",
       "      <td>0.00000</td>\n",
       "      <td>1.00</td>\n",
       "    </tr>\n",
       "    <tr>\n",
       "      <th>1459</th>\n",
       "      <td>0.184932</td>\n",
       "      <td>0.040370</td>\n",
       "      <td>0.673913</td>\n",
       "      <td>0.250000</td>\n",
       "      <td>0.000000</td>\n",
       "      <td>0.379342</td>\n",
       "      <td>0.196744</td>\n",
       "      <td>0.058219</td>\n",
       "      <td>0.391765</td>\n",
       "      <td>0.318590</td>\n",
       "      <td>...</td>\n",
       "      <td>0.25</td>\n",
       "      <td>0.236707</td>\n",
       "      <td>0.858810</td>\n",
       "      <td>0.124314</td>\n",
       "      <td>0.000000</td>\n",
       "      <td>0.0</td>\n",
       "      <td>0.0</td>\n",
       "      <td>0.0</td>\n",
       "      <td>0.00000</td>\n",
       "      <td>0.50</td>\n",
       "    </tr>\n",
       "  </tbody>\n",
       "</table>\n",
       "<p>1443 rows × 32 columns</p>\n",
       "</div>"
      ],
      "text/plain": [
       "      LotFrontage   LotArea  YearBuilt  YearRemodAdd  MasVnrArea  BsmtFinSF1  \\\n",
       "0        0.150685  0.033420   0.949275      0.883333    0.122500    0.322669   \n",
       "1        0.202055  0.038795   0.753623      0.433333    0.000000    0.446984   \n",
       "2        0.160959  0.046507   0.934783      0.866667    0.101250    0.222121   \n",
       "3        0.133562  0.038561   0.311594      0.333333    0.000000    0.098720   \n",
       "4        0.215753  0.060576   0.927536      0.833333    0.218750    0.299360   \n",
       "...           ...       ...        ...           ...         ...         ...   \n",
       "1455     0.140411  0.030929   0.920290      0.833333    0.000000    0.000000   \n",
       "1456     0.219178  0.055505   0.768116      0.633333    0.074375    0.361060   \n",
       "1457     0.154110  0.036187   0.500000      0.933333    0.000000    0.125686   \n",
       "1458     0.160959  0.039342   0.565217      0.766667    0.000000    0.022395   \n",
       "1459     0.184932  0.040370   0.673913      0.250000    0.000000    0.379342   \n",
       "\n",
       "      BsmtFinSF2  BsmtUnfSF  TotalBsmtSF  1stFlrSF  ...  GarageCars  \\\n",
       "0       0.000000   0.064212     0.266999  0.180373  ...        0.50   \n",
       "1       0.000000   0.121575     0.393637  0.320663  ...        0.50   \n",
       "2       0.000000   0.185788     0.286962  0.202488  ...        0.50   \n",
       "3       0.000000   0.231164     0.235808  0.216655  ...        0.75   \n",
       "4       0.000000   0.209760     0.357143  0.280235  ...        0.75   \n",
       "...          ...        ...          ...       ...  ...         ...   \n",
       "1455    0.000000   0.407962     0.297255  0.213891  ...        0.50   \n",
       "1456    0.110583   0.252140     0.480973  0.600898  ...        0.50   \n",
       "1457    0.000000   0.375428     0.359326  0.295093  ...        0.25   \n",
       "1458    0.698100   0.000000     0.336245  0.257084  ...        0.25   \n",
       "1459    0.196744   0.058219     0.391765  0.318590  ...        0.25   \n",
       "\n",
       "      GarageArea  WoodDeckSF  OpenPorchSF  EnclosedPorch  3SsnPorch  \\\n",
       "0       0.469983    0.000000     0.111517       0.000000        0.0   \n",
       "1       0.394511    0.347725     0.000000       0.000000        0.0   \n",
       "2       0.521441    0.000000     0.076782       0.000000        0.0   \n",
       "3       0.550600    0.000000     0.063985       0.492754        0.0   \n",
       "4       0.716981    0.224037     0.153565       0.000000        0.0   \n",
       "...          ...         ...          ...            ...        ...   \n",
       "1455    0.394511    0.000000     0.073126       0.000000        0.0   \n",
       "1456    0.428816    0.407235     0.000000       0.000000        0.0   \n",
       "1457    0.216123    0.000000     0.109689       0.000000        0.0   \n",
       "1458    0.205832    0.427071     0.000000       0.202899        0.0   \n",
       "1459    0.236707    0.858810     0.124314       0.000000        0.0   \n",
       "\n",
       "      ScreenPorch  PoolArea  MiscVal  YrSold  \n",
       "0             0.0       0.0  0.00000    0.50  \n",
       "1             0.0       0.0  0.00000    0.25  \n",
       "2             0.0       0.0  0.00000    0.50  \n",
       "3             0.0       0.0  0.00000    0.00  \n",
       "4             0.0       0.0  0.00000    0.50  \n",
       "...           ...       ...      ...     ...  \n",
       "1455          0.0       0.0  0.00000    0.25  \n",
       "1456          0.0       0.0  0.00000    1.00  \n",
       "1457          0.0       0.0  0.16129    1.00  \n",
       "1458          0.0       0.0  0.00000    1.00  \n",
       "1459          0.0       0.0  0.00000    0.50  \n",
       "\n",
       "[1443 rows x 32 columns]"
      ]
     },
     "execution_count": 120,
     "metadata": {},
     "output_type": "execute_result"
    }
   ],
   "source": [
    "# Transform the numerical columsn.\n",
    "df[numer_col_names] = scaler.fit_transform(df[numer_col_names])\n",
    "df[numer_col_names]"
   ]
  },
  {
   "cell_type": "markdown",
   "metadata": {},
   "source": [
    "### 1-6. Correlation Matrix "
   ]
  },
  {
   "cell_type": "code",
   "execution_count": 121,
   "metadata": {},
   "outputs": [
    {
     "data": {
      "image/png": "[encoded data removed]",
      "text/plain": [
       "<Figure size 864x648 with 2 Axes>"
      ]
     },
     "metadata": {
      "needs_background": "light"
     },
     "output_type": "display_data"
    }
   ],
   "source": [
    "# Correlation matrix.\n",
    "corrmat = df.corr()\n",
    "f, ax = plt.subplots(figsize=(12, 9))\n",
    "sns.heatmap(corrmat, vmax=.8, square=True, cmap='YlGnBu');"
   ]
  },
  {
   "cell_type": "code",
   "execution_count": 122,
   "metadata": {},
   "outputs": [
    {
     "name": "stdout",
     "output_type": "stream",
     "text": [
      "List of parameters that have a good linear model fit to Sale Price\n"
     ]
    },
    {
     "data": {
      "text/plain": [
       "TotRmsAbvGrd    0.535635\n",
       "YearRemodAdd    0.566891\n",
       "GarageYrBlt     0.571302\n",
       "YearBuilt       0.587201\n",
       "FullBath        0.591328\n",
       "1stFlrSF        0.613928\n",
       "TotalBsmtSF     0.640654\n",
       "GarageArea      0.666923\n",
       "GarageCars      0.684121\n",
       "GrLivArea       0.718665\n",
       "Name: SalePrice, dtype: float64"
      ]
     },
     "execution_count": 122,
     "metadata": {},
     "output_type": "execute_result"
    }
   ],
   "source": [
    "#Find out which parameters appear to have an appreciable linear relationship with SalePrice\n",
    "#Arbitrary 0.5 correlation cutoff\n",
    "print(\"List of parameters that have a good linear model fit to Sale Price\")\n",
    "corr_series = corrmat['SalePrice'].sort_values()[:-1]\n",
    "good_params = corr_series[(corr_series > 0.5) | (corr_series < -0.5)]\n",
    "good_params"
   ]
  },
  {
   "cell_type": "code",
   "execution_count": 123,
   "metadata": {},
   "outputs": [
    {
     "data": {
      "text/plain": [
       "GrLivArea        0.718665\n",
       "GarageCars       0.684121\n",
       "GarageArea       0.666923\n",
       "TotalBsmtSF      0.640654\n",
       "1stFlrSF         0.613928\n",
       "FullBath         0.591328\n",
       "YearBuilt        0.587201\n",
       "GarageYrBlt      0.571302\n",
       "YearRemodAdd     0.566891\n",
       "TotRmsAbvGrd     0.535635\n",
       "Fireplaces       0.488206\n",
       "MasVnrArea       0.426611\n",
       "BsmtFinSF1       0.378682\n",
       "LotFrontage      0.342499\n",
       "WoodDeckSF       0.331922\n",
       "OpenPorchSF      0.323636\n",
       "2ndFlrSF         0.310751\n",
       "HalfBath         0.309967\n",
       "LotArea          0.260770\n",
       "BsmtFullBath     0.235625\n",
       "BsmtUnfSF        0.224954\n",
       "BedroomAbvGr     0.208011\n",
       "KitchenAbvGr     0.150184\n",
       "EnclosedPorch    0.149259\n",
       "ScreenPorch      0.126086\n",
       "3SsnPorch        0.057026\n",
       "PoolArea         0.041235\n",
       "LowQualFinSF     0.037301\n",
       "YrSold           0.033518\n",
       "MiscVal          0.018007\n",
       "BsmtHalfBath     0.013811\n",
       "BsmtFinSF2       0.007980\n",
       "Name: SalePrice, dtype: float64"
      ]
     },
     "execution_count": 123,
     "metadata": {},
     "output_type": "execute_result"
    }
   ],
   "source": [
    "# Correlation between SalePrice and other variables.\n",
    "# Sorted from the least to the most correlated. Exclude SalePrice vs SalePrice corr.\n",
    "corrmat.loc['SalePrice'].abs().sort_values(ascending=False)[1:]"
   ]
  },
  {
   "cell_type": "code",
   "execution_count": 124,
   "metadata": {},
   "outputs": [
    {
     "data": {
      "text/plain": [
       "Index(['YearBuilt', 'YearRemodAdd', 'TotalBsmtSF', '1stFlrSF', 'GrLivArea',\n",
       "       'FullBath', 'TotRmsAbvGrd', 'GarageYrBlt', 'GarageCars', 'GarageArea'],\n",
       "      dtype='object')"
      ]
     },
     "execution_count": 124,
     "metadata": {},
     "output_type": "execute_result"
    }
   ],
   "source": [
    "# Find the list of good numerical good parameters.\n",
    "good_numer = numer_df.columns.intersection(good_params.index)\n",
    "good_numer"
   ]
  },
  {
   "cell_type": "code",
   "execution_count": 125,
   "metadata": {},
   "outputs": [
    {
     "data": {
      "text/plain": [
       "4.0"
      ]
     },
     "execution_count": 125,
     "metadata": {},
     "output_type": "execute_result"
    }
   ],
   "source": [
    "# To find row numbers for plots.\n",
    "np.ceil(np.sqrt(len(good_numer)))"
   ]
  },
  {
   "cell_type": "code",
   "execution_count": 126,
   "metadata": {},
   "outputs": [
    {
     "data": {
      "image/png": "[encoded data removed]",
      "text/plain": [
       "<Figure size 864x864 with 12 Axes>"
      ]
     },
     "metadata": {
      "needs_background": "light"
     },
     "output_type": "display_data"
    }
   ],
   "source": [
    "# Make it list.\n",
    "lst_gn = list(good_numer)\n",
    "\n",
    "# Plot highly correlated numerical columns against SalePrice.\n",
    "fig, axs = plt.subplots(3,4, figsize=(12,12))\n",
    "\n",
    "for i in range(0,4):\n",
    "    for j in range(0,4):\n",
    "        if len(lst_gn) > 0:\n",
    "            col = lst_gn.pop()\n",
    "        else:\n",
    "            break\n",
    "        axs[i,j].scatter(df[col],df['SalePrice'],alpha=0.7)\n",
    "        axs[i,j].set_title('{} vs SalePrice'.format(col))\n",
    "            \n",
    "plt.tight_layout()\n",
    "plt.show()"
   ]
  },
  {
   "cell_type": "markdown",
   "metadata": {},
   "source": [
    "### 1-7. One-Hot Encoding Categorical Columns"
   ]
  },
  {
   "cell_type": "code",
   "execution_count": 127,
   "metadata": {},
   "outputs": [
    {
     "data": {
      "text/plain": [
       "Index(['MSSubClass', 'MSZoning', 'Street', 'LotShape', 'LandContour',\n",
       "       'Utilities', 'LotConfig', 'LandSlope', 'Neighborhood', 'Condition1',\n",
       "       'Condition2', 'BldgType', 'HouseStyle', 'OverallQual', 'OverallCond',\n",
       "       'RoofStyle', 'RoofMatl', 'Exterior1st', 'Exterior2nd', 'MasVnrType',\n",
       "       'ExterQual', 'ExterCond', 'Foundation', 'BsmtQual', 'BsmtCond',\n",
       "       'BsmtExposure', 'BsmtFinType1', 'BsmtFinType2', 'Heating', 'HeatingQC',\n",
       "       'CentralAir', 'Electrical', 'KitchenQual', 'Functional', 'FireplaceQu',\n",
       "       'GarageType', 'GarageFinish', 'GarageQual', 'GarageCond', 'PavedDrive',\n",
       "       'MoSold', 'SaleType', 'SaleCondition'],\n",
       "      dtype='object')"
      ]
     },
     "execution_count": 127,
     "metadata": {},
     "output_type": "execute_result"
    }
   ],
   "source": [
    "# The categorical columns to be encoded.\n",
    "categ_df.columns"
   ]
  },
  {
   "cell_type": "code",
   "execution_count": 128,
   "metadata": {},
   "outputs": [],
   "source": [
    "#Pandas One Hot Encoding.\n",
    "df = pd.get_dummies(df, columns=categ_df.columns,prefix=categ_df.columns, drop_first=True)"
   ]
  },
  {
   "cell_type": "code",
   "execution_count": 129,
   "metadata": {},
   "outputs": [
    {
     "data": {
      "text/html": [
       "<div>\n",
       "<style scoped>\n",
       "    .dataframe tbody tr th:only-of-type {\n",
       "        vertical-align: middle;\n",
       "    }\n",
       "\n",
       "    .dataframe tbody tr th {\n",
       "        vertical-align: top;\n",
       "    }\n",
       "\n",
       "    .dataframe thead th {\n",
       "        text-align: right;\n",
       "    }\n",
       "</style>\n",
       "<table border=\"1\" class=\"dataframe\">\n",
       "  <thead>\n",
       "    <tr style=\"text-align: right;\">\n",
       "      <th></th>\n",
       "      <th>LotFrontage</th>\n",
       "      <th>LotArea</th>\n",
       "      <th>YearBuilt</th>\n",
       "      <th>YearRemodAdd</th>\n",
       "      <th>MasVnrArea</th>\n",
       "      <th>BsmtFinSF1</th>\n",
       "      <th>BsmtFinSF2</th>\n",
       "      <th>BsmtUnfSF</th>\n",
       "      <th>TotalBsmtSF</th>\n",
       "      <th>1stFlrSF</th>\n",
       "      <th>...</th>\n",
       "      <th>SaleType_ConLI</th>\n",
       "      <th>SaleType_ConLw</th>\n",
       "      <th>SaleType_New</th>\n",
       "      <th>SaleType_Oth</th>\n",
       "      <th>SaleType_WD</th>\n",
       "      <th>SaleCondition_AdjLand</th>\n",
       "      <th>SaleCondition_Alloca</th>\n",
       "      <th>SaleCondition_Family</th>\n",
       "      <th>SaleCondition_Normal</th>\n",
       "      <th>SaleCondition_Partial</th>\n",
       "    </tr>\n",
       "  </thead>\n",
       "  <tbody>\n",
       "    <tr>\n",
       "      <th>0</th>\n",
       "      <td>0.150685</td>\n",
       "      <td>0.033420</td>\n",
       "      <td>0.949275</td>\n",
       "      <td>0.883333</td>\n",
       "      <td>0.122500</td>\n",
       "      <td>0.322669</td>\n",
       "      <td>0.000000</td>\n",
       "      <td>0.064212</td>\n",
       "      <td>0.266999</td>\n",
       "      <td>0.180373</td>\n",
       "      <td>...</td>\n",
       "      <td>0</td>\n",
       "      <td>0</td>\n",
       "      <td>0</td>\n",
       "      <td>0</td>\n",
       "      <td>1</td>\n",
       "      <td>0</td>\n",
       "      <td>0</td>\n",
       "      <td>0</td>\n",
       "      <td>1</td>\n",
       "      <td>0</td>\n",
       "    </tr>\n",
       "    <tr>\n",
       "      <th>1</th>\n",
       "      <td>0.202055</td>\n",
       "      <td>0.038795</td>\n",
       "      <td>0.753623</td>\n",
       "      <td>0.433333</td>\n",
       "      <td>0.000000</td>\n",
       "      <td>0.446984</td>\n",
       "      <td>0.000000</td>\n",
       "      <td>0.121575</td>\n",
       "      <td>0.393637</td>\n",
       "      <td>0.320663</td>\n",
       "      <td>...</td>\n",
       "      <td>0</td>\n",
       "      <td>0</td>\n",
       "      <td>0</td>\n",
       "      <td>0</td>\n",
       "      <td>1</td>\n",
       "      <td>0</td>\n",
       "      <td>0</td>\n",
       "      <td>0</td>\n",
       "      <td>1</td>\n",
       "      <td>0</td>\n",
       "    </tr>\n",
       "    <tr>\n",
       "      <th>2</th>\n",
       "      <td>0.160959</td>\n",
       "      <td>0.046507</td>\n",
       "      <td>0.934783</td>\n",
       "      <td>0.866667</td>\n",
       "      <td>0.101250</td>\n",
       "      <td>0.222121</td>\n",
       "      <td>0.000000</td>\n",
       "      <td>0.185788</td>\n",
       "      <td>0.286962</td>\n",
       "      <td>0.202488</td>\n",
       "      <td>...</td>\n",
       "      <td>0</td>\n",
       "      <td>0</td>\n",
       "      <td>0</td>\n",
       "      <td>0</td>\n",
       "      <td>1</td>\n",
       "      <td>0</td>\n",
       "      <td>0</td>\n",
       "      <td>0</td>\n",
       "      <td>1</td>\n",
       "      <td>0</td>\n",
       "    </tr>\n",
       "    <tr>\n",
       "      <th>3</th>\n",
       "      <td>0.133562</td>\n",
       "      <td>0.038561</td>\n",
       "      <td>0.311594</td>\n",
       "      <td>0.333333</td>\n",
       "      <td>0.000000</td>\n",
       "      <td>0.098720</td>\n",
       "      <td>0.000000</td>\n",
       "      <td>0.231164</td>\n",
       "      <td>0.235808</td>\n",
       "      <td>0.216655</td>\n",
       "      <td>...</td>\n",
       "      <td>0</td>\n",
       "      <td>0</td>\n",
       "      <td>0</td>\n",
       "      <td>0</td>\n",
       "      <td>1</td>\n",
       "      <td>0</td>\n",
       "      <td>0</td>\n",
       "      <td>0</td>\n",
       "      <td>0</td>\n",
       "      <td>0</td>\n",
       "    </tr>\n",
       "    <tr>\n",
       "      <th>4</th>\n",
       "      <td>0.215753</td>\n",
       "      <td>0.060576</td>\n",
       "      <td>0.927536</td>\n",
       "      <td>0.833333</td>\n",
       "      <td>0.218750</td>\n",
       "      <td>0.299360</td>\n",
       "      <td>0.000000</td>\n",
       "      <td>0.209760</td>\n",
       "      <td>0.357143</td>\n",
       "      <td>0.280235</td>\n",
       "      <td>...</td>\n",
       "      <td>0</td>\n",
       "      <td>0</td>\n",
       "      <td>0</td>\n",
       "      <td>0</td>\n",
       "      <td>1</td>\n",
       "      <td>0</td>\n",
       "      <td>0</td>\n",
       "      <td>0</td>\n",
       "      <td>1</td>\n",
       "      <td>0</td>\n",
       "    </tr>\n",
       "    <tr>\n",
       "      <th>...</th>\n",
       "      <td>...</td>\n",
       "      <td>...</td>\n",
       "      <td>...</td>\n",
       "      <td>...</td>\n",
       "      <td>...</td>\n",
       "      <td>...</td>\n",
       "      <td>...</td>\n",
       "      <td>...</td>\n",
       "      <td>...</td>\n",
       "      <td>...</td>\n",
       "      <td>...</td>\n",
       "      <td>...</td>\n",
       "      <td>...</td>\n",
       "      <td>...</td>\n",
       "      <td>...</td>\n",
       "      <td>...</td>\n",
       "      <td>...</td>\n",
       "      <td>...</td>\n",
       "      <td>...</td>\n",
       "      <td>...</td>\n",
       "      <td>...</td>\n",
       "    </tr>\n",
       "    <tr>\n",
       "      <th>1455</th>\n",
       "      <td>0.140411</td>\n",
       "      <td>0.030929</td>\n",
       "      <td>0.920290</td>\n",
       "      <td>0.833333</td>\n",
       "      <td>0.000000</td>\n",
       "      <td>0.000000</td>\n",
       "      <td>0.000000</td>\n",
       "      <td>0.407962</td>\n",
       "      <td>0.297255</td>\n",
       "      <td>0.213891</td>\n",
       "      <td>...</td>\n",
       "      <td>0</td>\n",
       "      <td>0</td>\n",
       "      <td>0</td>\n",
       "      <td>0</td>\n",
       "      <td>1</td>\n",
       "      <td>0</td>\n",
       "      <td>0</td>\n",
       "      <td>0</td>\n",
       "      <td>1</td>\n",
       "      <td>0</td>\n",
       "    </tr>\n",
       "    <tr>\n",
       "      <th>1456</th>\n",
       "      <td>0.219178</td>\n",
       "      <td>0.055505</td>\n",
       "      <td>0.768116</td>\n",
       "      <td>0.633333</td>\n",
       "      <td>0.074375</td>\n",
       "      <td>0.361060</td>\n",
       "      <td>0.110583</td>\n",
       "      <td>0.252140</td>\n",
       "      <td>0.480973</td>\n",
       "      <td>0.600898</td>\n",
       "      <td>...</td>\n",
       "      <td>0</td>\n",
       "      <td>0</td>\n",
       "      <td>0</td>\n",
       "      <td>0</td>\n",
       "      <td>1</td>\n",
       "      <td>0</td>\n",
       "      <td>0</td>\n",
       "      <td>0</td>\n",
       "      <td>1</td>\n",
       "      <td>0</td>\n",
       "    </tr>\n",
       "    <tr>\n",
       "      <th>1457</th>\n",
       "      <td>0.154110</td>\n",
       "      <td>0.036187</td>\n",
       "      <td>0.500000</td>\n",
       "      <td>0.933333</td>\n",
       "      <td>0.000000</td>\n",
       "      <td>0.125686</td>\n",
       "      <td>0.000000</td>\n",
       "      <td>0.375428</td>\n",
       "      <td>0.359326</td>\n",
       "      <td>0.295093</td>\n",
       "      <td>...</td>\n",
       "      <td>0</td>\n",
       "      <td>0</td>\n",
       "      <td>0</td>\n",
       "      <td>0</td>\n",
       "      <td>1</td>\n",
       "      <td>0</td>\n",
       "      <td>0</td>\n",
       "      <td>0</td>\n",
       "      <td>1</td>\n",
       "      <td>0</td>\n",
       "    </tr>\n",
       "    <tr>\n",
       "      <th>1458</th>\n",
       "      <td>0.160959</td>\n",
       "      <td>0.039342</td>\n",
       "      <td>0.565217</td>\n",
       "      <td>0.766667</td>\n",
       "      <td>0.000000</td>\n",
       "      <td>0.022395</td>\n",
       "      <td>0.698100</td>\n",
       "      <td>0.000000</td>\n",
       "      <td>0.336245</td>\n",
       "      <td>0.257084</td>\n",
       "      <td>...</td>\n",
       "      <td>0</td>\n",
       "      <td>0</td>\n",
       "      <td>0</td>\n",
       "      <td>0</td>\n",
       "      <td>1</td>\n",
       "      <td>0</td>\n",
       "      <td>0</td>\n",
       "      <td>0</td>\n",
       "      <td>1</td>\n",
       "      <td>0</td>\n",
       "    </tr>\n",
       "    <tr>\n",
       "      <th>1459</th>\n",
       "      <td>0.184932</td>\n",
       "      <td>0.040370</td>\n",
       "      <td>0.673913</td>\n",
       "      <td>0.250000</td>\n",
       "      <td>0.000000</td>\n",
       "      <td>0.379342</td>\n",
       "      <td>0.196744</td>\n",
       "      <td>0.058219</td>\n",
       "      <td>0.391765</td>\n",
       "      <td>0.318590</td>\n",
       "      <td>...</td>\n",
       "      <td>0</td>\n",
       "      <td>0</td>\n",
       "      <td>0</td>\n",
       "      <td>0</td>\n",
       "      <td>1</td>\n",
       "      <td>0</td>\n",
       "      <td>0</td>\n",
       "      <td>0</td>\n",
       "      <td>1</td>\n",
       "      <td>0</td>\n",
       "    </tr>\n",
       "  </tbody>\n",
       "</table>\n",
       "<p>1443 rows × 283 columns</p>\n",
       "</div>"
      ],
      "text/plain": [
       "      LotFrontage   LotArea  YearBuilt  YearRemodAdd  MasVnrArea  BsmtFinSF1  \\\n",
       "0        0.150685  0.033420   0.949275      0.883333    0.122500    0.322669   \n",
       "1        0.202055  0.038795   0.753623      0.433333    0.000000    0.446984   \n",
       "2        0.160959  0.046507   0.934783      0.866667    0.101250    0.222121   \n",
       "3        0.133562  0.038561   0.311594      0.333333    0.000000    0.098720   \n",
       "4        0.215753  0.060576   0.927536      0.833333    0.218750    0.299360   \n",
       "...           ...       ...        ...           ...         ...         ...   \n",
       "1455     0.140411  0.030929   0.920290      0.833333    0.000000    0.000000   \n",
       "1456     0.219178  0.055505   0.768116      0.633333    0.074375    0.361060   \n",
       "1457     0.154110  0.036187   0.500000      0.933333    0.000000    0.125686   \n",
       "1458     0.160959  0.039342   0.565217      0.766667    0.000000    0.022395   \n",
       "1459     0.184932  0.040370   0.673913      0.250000    0.000000    0.379342   \n",
       "\n",
       "      BsmtFinSF2  BsmtUnfSF  TotalBsmtSF  1stFlrSF  ...  SaleType_ConLI  \\\n",
       "0       0.000000   0.064212     0.266999  0.180373  ...               0   \n",
       "1       0.000000   0.121575     0.393637  0.320663  ...               0   \n",
       "2       0.000000   0.185788     0.286962  0.202488  ...               0   \n",
       "3       0.000000   0.231164     0.235808  0.216655  ...               0   \n",
       "4       0.000000   0.209760     0.357143  0.280235  ...               0   \n",
       "...          ...        ...          ...       ...  ...             ...   \n",
       "1455    0.000000   0.407962     0.297255  0.213891  ...               0   \n",
       "1456    0.110583   0.252140     0.480973  0.600898  ...               0   \n",
       "1457    0.000000   0.375428     0.359326  0.295093  ...               0   \n",
       "1458    0.698100   0.000000     0.336245  0.257084  ...               0   \n",
       "1459    0.196744   0.058219     0.391765  0.318590  ...               0   \n",
       "\n",
       "      SaleType_ConLw  SaleType_New  SaleType_Oth  SaleType_WD  \\\n",
       "0                  0             0             0            1   \n",
       "1                  0             0             0            1   \n",
       "2                  0             0             0            1   \n",
       "3                  0             0             0            1   \n",
       "4                  0             0             0            1   \n",
       "...              ...           ...           ...          ...   \n",
       "1455               0             0             0            1   \n",
       "1456               0             0             0            1   \n",
       "1457               0             0             0            1   \n",
       "1458               0             0             0            1   \n",
       "1459               0             0             0            1   \n",
       "\n",
       "      SaleCondition_AdjLand  SaleCondition_Alloca  SaleCondition_Family  \\\n",
       "0                         0                     0                     0   \n",
       "1                         0                     0                     0   \n",
       "2                         0                     0                     0   \n",
       "3                         0                     0                     0   \n",
       "4                         0                     0                     0   \n",
       "...                     ...                   ...                   ...   \n",
       "1455                      0                     0                     0   \n",
       "1456                      0                     0                     0   \n",
       "1457                      0                     0                     0   \n",
       "1458                      0                     0                     0   \n",
       "1459                      0                     0                     0   \n",
       "\n",
       "      SaleCondition_Normal  SaleCondition_Partial  \n",
       "0                        1                      0  \n",
       "1                        1                      0  \n",
       "2                        1                      0  \n",
       "3                        0                      0  \n",
       "4                        1                      0  \n",
       "...                    ...                    ...  \n",
       "1455                     1                      0  \n",
       "1456                     1                      0  \n",
       "1457                     1                      0  \n",
       "1458                     1                      0  \n",
       "1459                     1                      0  \n",
       "\n",
       "[1443 rows x 283 columns]"
      ]
     },
     "execution_count": 129,
     "metadata": {},
     "output_type": "execute_result"
    }
   ],
   "source": [
    "df"
   ]
  },
  {
   "cell_type": "code",
   "execution_count": 130,
   "metadata": {},
   "outputs": [
    {
     "data": {
      "text/plain": [
       "(1443, 283)"
      ]
     },
     "execution_count": 130,
     "metadata": {},
     "output_type": "execute_result"
    }
   ],
   "source": [
    "df.shape"
   ]
  },
  {
   "cell_type": "code",
   "execution_count": 131,
   "metadata": {},
   "outputs": [
    {
     "data": {
      "text/html": [
       "<div>\n",
       "<style scoped>\n",
       "    .dataframe tbody tr th:only-of-type {\n",
       "        vertical-align: middle;\n",
       "    }\n",
       "\n",
       "    .dataframe tbody tr th {\n",
       "        vertical-align: top;\n",
       "    }\n",
       "\n",
       "    .dataframe thead th {\n",
       "        text-align: right;\n",
       "    }\n",
       "</style>\n",
       "<table border=\"1\" class=\"dataframe\">\n",
       "  <thead>\n",
       "    <tr style=\"text-align: right;\">\n",
       "      <th></th>\n",
       "      <th>LotFrontage</th>\n",
       "      <th>LotArea</th>\n",
       "      <th>YearBuilt</th>\n",
       "      <th>YearRemodAdd</th>\n",
       "      <th>MasVnrArea</th>\n",
       "      <th>BsmtFinSF1</th>\n",
       "      <th>BsmtFinSF2</th>\n",
       "      <th>BsmtUnfSF</th>\n",
       "      <th>TotalBsmtSF</th>\n",
       "      <th>1stFlrSF</th>\n",
       "      <th>...</th>\n",
       "      <th>SaleType_ConLI</th>\n",
       "      <th>SaleType_ConLw</th>\n",
       "      <th>SaleType_New</th>\n",
       "      <th>SaleType_Oth</th>\n",
       "      <th>SaleType_WD</th>\n",
       "      <th>SaleCondition_AdjLand</th>\n",
       "      <th>SaleCondition_Alloca</th>\n",
       "      <th>SaleCondition_Family</th>\n",
       "      <th>SaleCondition_Normal</th>\n",
       "      <th>SaleCondition_Partial</th>\n",
       "    </tr>\n",
       "  </thead>\n",
       "  <tbody>\n",
       "    <tr>\n",
       "      <th>0</th>\n",
       "      <td>0.150685</td>\n",
       "      <td>0.033420</td>\n",
       "      <td>0.949275</td>\n",
       "      <td>0.883333</td>\n",
       "      <td>0.122500</td>\n",
       "      <td>0.322669</td>\n",
       "      <td>0.000000</td>\n",
       "      <td>0.064212</td>\n",
       "      <td>0.266999</td>\n",
       "      <td>0.180373</td>\n",
       "      <td>...</td>\n",
       "      <td>0</td>\n",
       "      <td>0</td>\n",
       "      <td>0</td>\n",
       "      <td>0</td>\n",
       "      <td>1</td>\n",
       "      <td>0</td>\n",
       "      <td>0</td>\n",
       "      <td>0</td>\n",
       "      <td>1</td>\n",
       "      <td>0</td>\n",
       "    </tr>\n",
       "    <tr>\n",
       "      <th>1</th>\n",
       "      <td>0.202055</td>\n",
       "      <td>0.038795</td>\n",
       "      <td>0.753623</td>\n",
       "      <td>0.433333</td>\n",
       "      <td>0.000000</td>\n",
       "      <td>0.446984</td>\n",
       "      <td>0.000000</td>\n",
       "      <td>0.121575</td>\n",
       "      <td>0.393637</td>\n",
       "      <td>0.320663</td>\n",
       "      <td>...</td>\n",
       "      <td>0</td>\n",
       "      <td>0</td>\n",
       "      <td>0</td>\n",
       "      <td>0</td>\n",
       "      <td>1</td>\n",
       "      <td>0</td>\n",
       "      <td>0</td>\n",
       "      <td>0</td>\n",
       "      <td>1</td>\n",
       "      <td>0</td>\n",
       "    </tr>\n",
       "    <tr>\n",
       "      <th>2</th>\n",
       "      <td>0.160959</td>\n",
       "      <td>0.046507</td>\n",
       "      <td>0.934783</td>\n",
       "      <td>0.866667</td>\n",
       "      <td>0.101250</td>\n",
       "      <td>0.222121</td>\n",
       "      <td>0.000000</td>\n",
       "      <td>0.185788</td>\n",
       "      <td>0.286962</td>\n",
       "      <td>0.202488</td>\n",
       "      <td>...</td>\n",
       "      <td>0</td>\n",
       "      <td>0</td>\n",
       "      <td>0</td>\n",
       "      <td>0</td>\n",
       "      <td>1</td>\n",
       "      <td>0</td>\n",
       "      <td>0</td>\n",
       "      <td>0</td>\n",
       "      <td>1</td>\n",
       "      <td>0</td>\n",
       "    </tr>\n",
       "    <tr>\n",
       "      <th>3</th>\n",
       "      <td>0.133562</td>\n",
       "      <td>0.038561</td>\n",
       "      <td>0.311594</td>\n",
       "      <td>0.333333</td>\n",
       "      <td>0.000000</td>\n",
       "      <td>0.098720</td>\n",
       "      <td>0.000000</td>\n",
       "      <td>0.231164</td>\n",
       "      <td>0.235808</td>\n",
       "      <td>0.216655</td>\n",
       "      <td>...</td>\n",
       "      <td>0</td>\n",
       "      <td>0</td>\n",
       "      <td>0</td>\n",
       "      <td>0</td>\n",
       "      <td>1</td>\n",
       "      <td>0</td>\n",
       "      <td>0</td>\n",
       "      <td>0</td>\n",
       "      <td>0</td>\n",
       "      <td>0</td>\n",
       "    </tr>\n",
       "    <tr>\n",
       "      <th>4</th>\n",
       "      <td>0.215753</td>\n",
       "      <td>0.060576</td>\n",
       "      <td>0.927536</td>\n",
       "      <td>0.833333</td>\n",
       "      <td>0.218750</td>\n",
       "      <td>0.299360</td>\n",
       "      <td>0.000000</td>\n",
       "      <td>0.209760</td>\n",
       "      <td>0.357143</td>\n",
       "      <td>0.280235</td>\n",
       "      <td>...</td>\n",
       "      <td>0</td>\n",
       "      <td>0</td>\n",
       "      <td>0</td>\n",
       "      <td>0</td>\n",
       "      <td>1</td>\n",
       "      <td>0</td>\n",
       "      <td>0</td>\n",
       "      <td>0</td>\n",
       "      <td>1</td>\n",
       "      <td>0</td>\n",
       "    </tr>\n",
       "    <tr>\n",
       "      <th>...</th>\n",
       "      <td>...</td>\n",
       "      <td>...</td>\n",
       "      <td>...</td>\n",
       "      <td>...</td>\n",
       "      <td>...</td>\n",
       "      <td>...</td>\n",
       "      <td>...</td>\n",
       "      <td>...</td>\n",
       "      <td>...</td>\n",
       "      <td>...</td>\n",
       "      <td>...</td>\n",
       "      <td>...</td>\n",
       "      <td>...</td>\n",
       "      <td>...</td>\n",
       "      <td>...</td>\n",
       "      <td>...</td>\n",
       "      <td>...</td>\n",
       "      <td>...</td>\n",
       "      <td>...</td>\n",
       "      <td>...</td>\n",
       "      <td>...</td>\n",
       "    </tr>\n",
       "    <tr>\n",
       "      <th>1455</th>\n",
       "      <td>0.140411</td>\n",
       "      <td>0.030929</td>\n",
       "      <td>0.920290</td>\n",
       "      <td>0.833333</td>\n",
       "      <td>0.000000</td>\n",
       "      <td>0.000000</td>\n",
       "      <td>0.000000</td>\n",
       "      <td>0.407962</td>\n",
       "      <td>0.297255</td>\n",
       "      <td>0.213891</td>\n",
       "      <td>...</td>\n",
       "      <td>0</td>\n",
       "      <td>0</td>\n",
       "      <td>0</td>\n",
       "      <td>0</td>\n",
       "      <td>1</td>\n",
       "      <td>0</td>\n",
       "      <td>0</td>\n",
       "      <td>0</td>\n",
       "      <td>1</td>\n",
       "      <td>0</td>\n",
       "    </tr>\n",
       "    <tr>\n",
       "      <th>1456</th>\n",
       "      <td>0.219178</td>\n",
       "      <td>0.055505</td>\n",
       "      <td>0.768116</td>\n",
       "      <td>0.633333</td>\n",
       "      <td>0.074375</td>\n",
       "      <td>0.361060</td>\n",
       "      <td>0.110583</td>\n",
       "      <td>0.252140</td>\n",
       "      <td>0.480973</td>\n",
       "      <td>0.600898</td>\n",
       "      <td>...</td>\n",
       "      <td>0</td>\n",
       "      <td>0</td>\n",
       "      <td>0</td>\n",
       "      <td>0</td>\n",
       "      <td>1</td>\n",
       "      <td>0</td>\n",
       "      <td>0</td>\n",
       "      <td>0</td>\n",
       "      <td>1</td>\n",
       "      <td>0</td>\n",
       "    </tr>\n",
       "    <tr>\n",
       "      <th>1457</th>\n",
       "      <td>0.154110</td>\n",
       "      <td>0.036187</td>\n",
       "      <td>0.500000</td>\n",
       "      <td>0.933333</td>\n",
       "      <td>0.000000</td>\n",
       "      <td>0.125686</td>\n",
       "      <td>0.000000</td>\n",
       "      <td>0.375428</td>\n",
       "      <td>0.359326</td>\n",
       "      <td>0.295093</td>\n",
       "      <td>...</td>\n",
       "      <td>0</td>\n",
       "      <td>0</td>\n",
       "      <td>0</td>\n",
       "      <td>0</td>\n",
       "      <td>1</td>\n",
       "      <td>0</td>\n",
       "      <td>0</td>\n",
       "      <td>0</td>\n",
       "      <td>1</td>\n",
       "      <td>0</td>\n",
       "    </tr>\n",
       "    <tr>\n",
       "      <th>1458</th>\n",
       "      <td>0.160959</td>\n",
       "      <td>0.039342</td>\n",
       "      <td>0.565217</td>\n",
       "      <td>0.766667</td>\n",
       "      <td>0.000000</td>\n",
       "      <td>0.022395</td>\n",
       "      <td>0.698100</td>\n",
       "      <td>0.000000</td>\n",
       "      <td>0.336245</td>\n",
       "      <td>0.257084</td>\n",
       "      <td>...</td>\n",
       "      <td>0</td>\n",
       "      <td>0</td>\n",
       "      <td>0</td>\n",
       "      <td>0</td>\n",
       "      <td>1</td>\n",
       "      <td>0</td>\n",
       "      <td>0</td>\n",
       "      <td>0</td>\n",
       "      <td>1</td>\n",
       "      <td>0</td>\n",
       "    </tr>\n",
       "    <tr>\n",
       "      <th>1459</th>\n",
       "      <td>0.184932</td>\n",
       "      <td>0.040370</td>\n",
       "      <td>0.673913</td>\n",
       "      <td>0.250000</td>\n",
       "      <td>0.000000</td>\n",
       "      <td>0.379342</td>\n",
       "      <td>0.196744</td>\n",
       "      <td>0.058219</td>\n",
       "      <td>0.391765</td>\n",
       "      <td>0.318590</td>\n",
       "      <td>...</td>\n",
       "      <td>0</td>\n",
       "      <td>0</td>\n",
       "      <td>0</td>\n",
       "      <td>0</td>\n",
       "      <td>1</td>\n",
       "      <td>0</td>\n",
       "      <td>0</td>\n",
       "      <td>0</td>\n",
       "      <td>1</td>\n",
       "      <td>0</td>\n",
       "    </tr>\n",
       "  </tbody>\n",
       "</table>\n",
       "<p>1443 rows × 282 columns</p>\n",
       "</div>"
      ],
      "text/plain": [
       "      LotFrontage   LotArea  YearBuilt  YearRemodAdd  MasVnrArea  BsmtFinSF1  \\\n",
       "0        0.150685  0.033420   0.949275      0.883333    0.122500    0.322669   \n",
       "1        0.202055  0.038795   0.753623      0.433333    0.000000    0.446984   \n",
       "2        0.160959  0.046507   0.934783      0.866667    0.101250    0.222121   \n",
       "3        0.133562  0.038561   0.311594      0.333333    0.000000    0.098720   \n",
       "4        0.215753  0.060576   0.927536      0.833333    0.218750    0.299360   \n",
       "...           ...       ...        ...           ...         ...         ...   \n",
       "1455     0.140411  0.030929   0.920290      0.833333    0.000000    0.000000   \n",
       "1456     0.219178  0.055505   0.768116      0.633333    0.074375    0.361060   \n",
       "1457     0.154110  0.036187   0.500000      0.933333    0.000000    0.125686   \n",
       "1458     0.160959  0.039342   0.565217      0.766667    0.000000    0.022395   \n",
       "1459     0.184932  0.040370   0.673913      0.250000    0.000000    0.379342   \n",
       "\n",
       "      BsmtFinSF2  BsmtUnfSF  TotalBsmtSF  1stFlrSF  ...  SaleType_ConLI  \\\n",
       "0       0.000000   0.064212     0.266999  0.180373  ...               0   \n",
       "1       0.000000   0.121575     0.393637  0.320663  ...               0   \n",
       "2       0.000000   0.185788     0.286962  0.202488  ...               0   \n",
       "3       0.000000   0.231164     0.235808  0.216655  ...               0   \n",
       "4       0.000000   0.209760     0.357143  0.280235  ...               0   \n",
       "...          ...        ...          ...       ...  ...             ...   \n",
       "1455    0.000000   0.407962     0.297255  0.213891  ...               0   \n",
       "1456    0.110583   0.252140     0.480973  0.600898  ...               0   \n",
       "1457    0.000000   0.375428     0.359326  0.295093  ...               0   \n",
       "1458    0.698100   0.000000     0.336245  0.257084  ...               0   \n",
       "1459    0.196744   0.058219     0.391765  0.318590  ...               0   \n",
       "\n",
       "      SaleType_ConLw  SaleType_New  SaleType_Oth  SaleType_WD  \\\n",
       "0                  0             0             0            1   \n",
       "1                  0             0             0            1   \n",
       "2                  0             0             0            1   \n",
       "3                  0             0             0            1   \n",
       "4                  0             0             0            1   \n",
       "...              ...           ...           ...          ...   \n",
       "1455               0             0             0            1   \n",
       "1456               0             0             0            1   \n",
       "1457               0             0             0            1   \n",
       "1458               0             0             0            1   \n",
       "1459               0             0             0            1   \n",
       "\n",
       "      SaleCondition_AdjLand  SaleCondition_Alloca  SaleCondition_Family  \\\n",
       "0                         0                     0                     0   \n",
       "1                         0                     0                     0   \n",
       "2                         0                     0                     0   \n",
       "3                         0                     0                     0   \n",
       "4                         0                     0                     0   \n",
       "...                     ...                   ...                   ...   \n",
       "1455                      0                     0                     0   \n",
       "1456                      0                     0                     0   \n",
       "1457                      0                     0                     0   \n",
       "1458                      0                     0                     0   \n",
       "1459                      0                     0                     0   \n",
       "\n",
       "      SaleCondition_Normal  SaleCondition_Partial  \n",
       "0                        1                      0  \n",
       "1                        1                      0  \n",
       "2                        1                      0  \n",
       "3                        0                      0  \n",
       "4                        1                      0  \n",
       "...                    ...                    ...  \n",
       "1455                     1                      0  \n",
       "1456                     1                      0  \n",
       "1457                     1                      0  \n",
       "1458                     1                      0  \n",
       "1459                     1                      0  \n",
       "\n",
       "[1443 rows x 282 columns]"
      ]
     },
     "execution_count": 131,
     "metadata": {},
     "output_type": "execute_result"
    }
   ],
   "source": [
    "# Feature variables.\n",
    "X = df.copy().drop(columns='SalePrice')\n",
    "X"
   ]
  },
  {
   "cell_type": "code",
   "execution_count": 132,
   "metadata": {
    "scrolled": true
   },
   "outputs": [
    {
     "data": {
      "text/plain": [
       "0       12.247694\n",
       "1       12.109011\n",
       "2       12.317167\n",
       "3       11.849398\n",
       "4       12.429216\n",
       "          ...    \n",
       "1455    12.072541\n",
       "1456    12.254863\n",
       "1457    12.493130\n",
       "1458    11.864462\n",
       "1459    11.901583\n",
       "Name: SalePrice, Length: 1443, dtype: float64"
      ]
     },
     "execution_count": 132,
     "metadata": {},
     "output_type": "execute_result"
    }
   ],
   "source": [
    "# Response variable.\n",
    "y = df['SalePrice'].copy()\n",
    "y"
   ]
  },
  {
   "cell_type": "markdown",
   "metadata": {},
   "source": [
    "# 2. Machine Learning and Algorithms\n",
    "\n",
    "### 2-1. Feature Selection\n",
    "As visualized above, there are 282 features left after extensive data preprocessing and cleaning. In order to identify the best set of features that would enable our model to accurately predict the ```SalePrice```, we need to perform the feature selection process. From [Scikit-Learn](https://scikit-learn.org/stable/modules/feature_selection.html), we attempted three separate methods:\n",
    "\n",
    "1. VarianceThreshold() \n",
    "2. SelectFromModel() using Lasso Regression\n",
    "3. Recursive Feature Elimination using Random Forest Regressor\n",
    "\n",
    "After comparing each method's impact on the R^2 scores and MSE values for the ML regression methods, we came to the conclusion that the SelectFromModel() using Lasso Regression had the best effect, slightly increasing the R^2 scores and decreasing the MSE values."
   ]
  },
  {
   "cell_type": "code",
   "execution_count": 133,
   "metadata": {},
   "outputs": [
    {
     "name": "stdout",
     "output_type": "stream",
     "text": [
      "selected features: 157\n"
     ]
    },
    {
     "data": {
      "text/plain": [
       "Index(['LotFrontage', 'LotArea', 'YearBuilt', 'YearRemodAdd', 'BsmtFinSF1',\n",
       "       'BsmtFinSF2', 'TotalBsmtSF', '1stFlrSF', 'GrLivArea', 'BsmtFullBath',\n",
       "       ...\n",
       "       'MoSold_5', 'MoSold_6', 'MoSold_7', 'MoSold_9', 'SaleType_ConLD',\n",
       "       'SaleType_New', 'SaleType_WD', 'SaleCondition_AdjLand',\n",
       "       'SaleCondition_Alloca', 'SaleCondition_Normal'],\n",
       "      dtype='object', length=157)"
      ]
     },
     "execution_count": 133,
     "metadata": {},
     "output_type": "execute_result"
    }
   ],
   "source": [
    "# SelectFromModel() using Lasso Regression\n",
    "from sklearn.linear_model import LassoCV\n",
    "from sklearn.feature_selection import SelectFromModel\n",
    "Lasso = LassoCV(cv=10)\n",
    "selector = SelectFromModel(Lasso).fit(X, y)\n",
    "selected_features = X.columns[(selector.get_support())]\n",
    "print('selected features:', len(selected_features))\n",
    "selected_features"
   ]
  },
  {
   "cell_type": "code",
   "execution_count": 134,
   "metadata": {},
   "outputs": [],
   "source": [
    "df2 = pd.concat([X[selected_features], y], axis=1)"
   ]
  },
  {
   "cell_type": "code",
   "execution_count": 135,
   "metadata": {},
   "outputs": [
    {
     "data": {
      "text/html": [
       "<div>\n",
       "<style scoped>\n",
       "    .dataframe tbody tr th:only-of-type {\n",
       "        vertical-align: middle;\n",
       "    }\n",
       "\n",
       "    .dataframe tbody tr th {\n",
       "        vertical-align: top;\n",
       "    }\n",
       "\n",
       "    .dataframe thead th {\n",
       "        text-align: right;\n",
       "    }\n",
       "</style>\n",
       "<table border=\"1\" class=\"dataframe\">\n",
       "  <thead>\n",
       "    <tr style=\"text-align: right;\">\n",
       "      <th></th>\n",
       "      <th>LotFrontage</th>\n",
       "      <th>LotArea</th>\n",
       "      <th>YearBuilt</th>\n",
       "      <th>YearRemodAdd</th>\n",
       "      <th>BsmtFinSF1</th>\n",
       "      <th>BsmtFinSF2</th>\n",
       "      <th>TotalBsmtSF</th>\n",
       "      <th>1stFlrSF</th>\n",
       "      <th>GrLivArea</th>\n",
       "      <th>BsmtFullBath</th>\n",
       "      <th>...</th>\n",
       "      <th>MoSold_6</th>\n",
       "      <th>MoSold_7</th>\n",
       "      <th>MoSold_9</th>\n",
       "      <th>SaleType_ConLD</th>\n",
       "      <th>SaleType_New</th>\n",
       "      <th>SaleType_WD</th>\n",
       "      <th>SaleCondition_AdjLand</th>\n",
       "      <th>SaleCondition_Alloca</th>\n",
       "      <th>SaleCondition_Normal</th>\n",
       "      <th>SalePrice</th>\n",
       "    </tr>\n",
       "  </thead>\n",
       "  <tbody>\n",
       "    <tr>\n",
       "      <th>0</th>\n",
       "      <td>0.150685</td>\n",
       "      <td>0.033420</td>\n",
       "      <td>0.949275</td>\n",
       "      <td>0.883333</td>\n",
       "      <td>0.322669</td>\n",
       "      <td>0.000000</td>\n",
       "      <td>0.266999</td>\n",
       "      <td>0.180373</td>\n",
       "      <td>0.417856</td>\n",
       "      <td>0.333333</td>\n",
       "      <td>...</td>\n",
       "      <td>0</td>\n",
       "      <td>0</td>\n",
       "      <td>0</td>\n",
       "      <td>0</td>\n",
       "      <td>0</td>\n",
       "      <td>1</td>\n",
       "      <td>0</td>\n",
       "      <td>0</td>\n",
       "      <td>1</td>\n",
       "      <td>12.247694</td>\n",
       "    </tr>\n",
       "    <tr>\n",
       "      <th>1</th>\n",
       "      <td>0.202055</td>\n",
       "      <td>0.038795</td>\n",
       "      <td>0.753623</td>\n",
       "      <td>0.433333</td>\n",
       "      <td>0.446984</td>\n",
       "      <td>0.000000</td>\n",
       "      <td>0.393637</td>\n",
       "      <td>0.320663</td>\n",
       "      <td>0.281810</td>\n",
       "      <td>0.000000</td>\n",
       "      <td>...</td>\n",
       "      <td>0</td>\n",
       "      <td>0</td>\n",
       "      <td>0</td>\n",
       "      <td>0</td>\n",
       "      <td>0</td>\n",
       "      <td>1</td>\n",
       "      <td>0</td>\n",
       "      <td>0</td>\n",
       "      <td>1</td>\n",
       "      <td>12.109011</td>\n",
       "    </tr>\n",
       "    <tr>\n",
       "      <th>2</th>\n",
       "      <td>0.160959</td>\n",
       "      <td>0.046507</td>\n",
       "      <td>0.934783</td>\n",
       "      <td>0.866667</td>\n",
       "      <td>0.222121</td>\n",
       "      <td>0.000000</td>\n",
       "      <td>0.286962</td>\n",
       "      <td>0.202488</td>\n",
       "      <td>0.440935</td>\n",
       "      <td>0.333333</td>\n",
       "      <td>...</td>\n",
       "      <td>0</td>\n",
       "      <td>0</td>\n",
       "      <td>1</td>\n",
       "      <td>0</td>\n",
       "      <td>0</td>\n",
       "      <td>1</td>\n",
       "      <td>0</td>\n",
       "      <td>0</td>\n",
       "      <td>1</td>\n",
       "      <td>12.317167</td>\n",
       "    </tr>\n",
       "    <tr>\n",
       "      <th>3</th>\n",
       "      <td>0.133562</td>\n",
       "      <td>0.038561</td>\n",
       "      <td>0.311594</td>\n",
       "      <td>0.333333</td>\n",
       "      <td>0.098720</td>\n",
       "      <td>0.000000</td>\n",
       "      <td>0.235808</td>\n",
       "      <td>0.216655</td>\n",
       "      <td>0.419982</td>\n",
       "      <td>0.333333</td>\n",
       "      <td>...</td>\n",
       "      <td>0</td>\n",
       "      <td>0</td>\n",
       "      <td>0</td>\n",
       "      <td>0</td>\n",
       "      <td>0</td>\n",
       "      <td>1</td>\n",
       "      <td>0</td>\n",
       "      <td>0</td>\n",
       "      <td>0</td>\n",
       "      <td>11.849398</td>\n",
       "    </tr>\n",
       "    <tr>\n",
       "      <th>4</th>\n",
       "      <td>0.215753</td>\n",
       "      <td>0.060576</td>\n",
       "      <td>0.927536</td>\n",
       "      <td>0.833333</td>\n",
       "      <td>0.299360</td>\n",
       "      <td>0.000000</td>\n",
       "      <td>0.357143</td>\n",
       "      <td>0.280235</td>\n",
       "      <td>0.566049</td>\n",
       "      <td>0.333333</td>\n",
       "      <td>...</td>\n",
       "      <td>0</td>\n",
       "      <td>0</td>\n",
       "      <td>0</td>\n",
       "      <td>0</td>\n",
       "      <td>0</td>\n",
       "      <td>1</td>\n",
       "      <td>0</td>\n",
       "      <td>0</td>\n",
       "      <td>1</td>\n",
       "      <td>12.429216</td>\n",
       "    </tr>\n",
       "    <tr>\n",
       "      <th>...</th>\n",
       "      <td>...</td>\n",
       "      <td>...</td>\n",
       "      <td>...</td>\n",
       "      <td>...</td>\n",
       "      <td>...</td>\n",
       "      <td>...</td>\n",
       "      <td>...</td>\n",
       "      <td>...</td>\n",
       "      <td>...</td>\n",
       "      <td>...</td>\n",
       "      <td>...</td>\n",
       "      <td>...</td>\n",
       "      <td>...</td>\n",
       "      <td>...</td>\n",
       "      <td>...</td>\n",
       "      <td>...</td>\n",
       "      <td>...</td>\n",
       "      <td>...</td>\n",
       "      <td>...</td>\n",
       "      <td>...</td>\n",
       "      <td>...</td>\n",
       "    </tr>\n",
       "    <tr>\n",
       "      <th>1455</th>\n",
       "      <td>0.140411</td>\n",
       "      <td>0.030929</td>\n",
       "      <td>0.920290</td>\n",
       "      <td>0.833333</td>\n",
       "      <td>0.000000</td>\n",
       "      <td>0.000000</td>\n",
       "      <td>0.297255</td>\n",
       "      <td>0.213891</td>\n",
       "      <td>0.398725</td>\n",
       "      <td>0.000000</td>\n",
       "      <td>...</td>\n",
       "      <td>0</td>\n",
       "      <td>0</td>\n",
       "      <td>0</td>\n",
       "      <td>0</td>\n",
       "      <td>0</td>\n",
       "      <td>1</td>\n",
       "      <td>0</td>\n",
       "      <td>0</td>\n",
       "      <td>1</td>\n",
       "      <td>12.072541</td>\n",
       "    </tr>\n",
       "    <tr>\n",
       "      <th>1456</th>\n",
       "      <td>0.219178</td>\n",
       "      <td>0.055505</td>\n",
       "      <td>0.768116</td>\n",
       "      <td>0.633333</td>\n",
       "      <td>0.361060</td>\n",
       "      <td>0.110583</td>\n",
       "      <td>0.480973</td>\n",
       "      <td>0.600898</td>\n",
       "      <td>0.528090</td>\n",
       "      <td>0.333333</td>\n",
       "      <td>...</td>\n",
       "      <td>0</td>\n",
       "      <td>0</td>\n",
       "      <td>0</td>\n",
       "      <td>0</td>\n",
       "      <td>0</td>\n",
       "      <td>1</td>\n",
       "      <td>0</td>\n",
       "      <td>0</td>\n",
       "      <td>1</td>\n",
       "      <td>12.254863</td>\n",
       "    </tr>\n",
       "    <tr>\n",
       "      <th>1457</th>\n",
       "      <td>0.154110</td>\n",
       "      <td>0.036187</td>\n",
       "      <td>0.500000</td>\n",
       "      <td>0.933333</td>\n",
       "      <td>0.125686</td>\n",
       "      <td>0.000000</td>\n",
       "      <td>0.359326</td>\n",
       "      <td>0.295093</td>\n",
       "      <td>0.609171</td>\n",
       "      <td>0.000000</td>\n",
       "      <td>...</td>\n",
       "      <td>0</td>\n",
       "      <td>0</td>\n",
       "      <td>0</td>\n",
       "      <td>0</td>\n",
       "      <td>0</td>\n",
       "      <td>1</td>\n",
       "      <td>0</td>\n",
       "      <td>0</td>\n",
       "      <td>1</td>\n",
       "      <td>12.493130</td>\n",
       "    </tr>\n",
       "    <tr>\n",
       "      <th>1458</th>\n",
       "      <td>0.160959</td>\n",
       "      <td>0.039342</td>\n",
       "      <td>0.565217</td>\n",
       "      <td>0.766667</td>\n",
       "      <td>0.022395</td>\n",
       "      <td>0.698100</td>\n",
       "      <td>0.336245</td>\n",
       "      <td>0.257084</td>\n",
       "      <td>0.225934</td>\n",
       "      <td>0.333333</td>\n",
       "      <td>...</td>\n",
       "      <td>0</td>\n",
       "      <td>0</td>\n",
       "      <td>0</td>\n",
       "      <td>0</td>\n",
       "      <td>0</td>\n",
       "      <td>1</td>\n",
       "      <td>0</td>\n",
       "      <td>0</td>\n",
       "      <td>1</td>\n",
       "      <td>11.864462</td>\n",
       "    </tr>\n",
       "    <tr>\n",
       "      <th>1459</th>\n",
       "      <td>0.184932</td>\n",
       "      <td>0.040370</td>\n",
       "      <td>0.673913</td>\n",
       "      <td>0.250000</td>\n",
       "      <td>0.379342</td>\n",
       "      <td>0.196744</td>\n",
       "      <td>0.391765</td>\n",
       "      <td>0.318590</td>\n",
       "      <td>0.279988</td>\n",
       "      <td>0.333333</td>\n",
       "      <td>...</td>\n",
       "      <td>1</td>\n",
       "      <td>0</td>\n",
       "      <td>0</td>\n",
       "      <td>0</td>\n",
       "      <td>0</td>\n",
       "      <td>1</td>\n",
       "      <td>0</td>\n",
       "      <td>0</td>\n",
       "      <td>1</td>\n",
       "      <td>11.901583</td>\n",
       "    </tr>\n",
       "  </tbody>\n",
       "</table>\n",
       "<p>1443 rows × 158 columns</p>\n",
       "</div>"
      ],
      "text/plain": [
       "      LotFrontage   LotArea  YearBuilt  YearRemodAdd  BsmtFinSF1  BsmtFinSF2  \\\n",
       "0        0.150685  0.033420   0.949275      0.883333    0.322669    0.000000   \n",
       "1        0.202055  0.038795   0.753623      0.433333    0.446984    0.000000   \n",
       "2        0.160959  0.046507   0.934783      0.866667    0.222121    0.000000   \n",
       "3        0.133562  0.038561   0.311594      0.333333    0.098720    0.000000   \n",
       "4        0.215753  0.060576   0.927536      0.833333    0.299360    0.000000   \n",
       "...           ...       ...        ...           ...         ...         ...   \n",
       "1455     0.140411  0.030929   0.920290      0.833333    0.000000    0.000000   \n",
       "1456     0.219178  0.055505   0.768116      0.633333    0.361060    0.110583   \n",
       "1457     0.154110  0.036187   0.500000      0.933333    0.125686    0.000000   \n",
       "1458     0.160959  0.039342   0.565217      0.766667    0.022395    0.698100   \n",
       "1459     0.184932  0.040370   0.673913      0.250000    0.379342    0.196744   \n",
       "\n",
       "      TotalBsmtSF  1stFlrSF  GrLivArea  BsmtFullBath  ...  MoSold_6  MoSold_7  \\\n",
       "0        0.266999  0.180373   0.417856      0.333333  ...         0         0   \n",
       "1        0.393637  0.320663   0.281810      0.000000  ...         0         0   \n",
       "2        0.286962  0.202488   0.440935      0.333333  ...         0         0   \n",
       "3        0.235808  0.216655   0.419982      0.333333  ...         0         0   \n",
       "4        0.357143  0.280235   0.566049      0.333333  ...         0         0   \n",
       "...           ...       ...        ...           ...  ...       ...       ...   \n",
       "1455     0.297255  0.213891   0.398725      0.000000  ...         0         0   \n",
       "1456     0.480973  0.600898   0.528090      0.333333  ...         0         0   \n",
       "1457     0.359326  0.295093   0.609171      0.000000  ...         0         0   \n",
       "1458     0.336245  0.257084   0.225934      0.333333  ...         0         0   \n",
       "1459     0.391765  0.318590   0.279988      0.333333  ...         1         0   \n",
       "\n",
       "      MoSold_9  SaleType_ConLD  SaleType_New  SaleType_WD  \\\n",
       "0            0               0             0            1   \n",
       "1            0               0             0            1   \n",
       "2            1               0             0            1   \n",
       "3            0               0             0            1   \n",
       "4            0               0             0            1   \n",
       "...        ...             ...           ...          ...   \n",
       "1455         0               0             0            1   \n",
       "1456         0               0             0            1   \n",
       "1457         0               0             0            1   \n",
       "1458         0               0             0            1   \n",
       "1459         0               0             0            1   \n",
       "\n",
       "      SaleCondition_AdjLand  SaleCondition_Alloca  SaleCondition_Normal  \\\n",
       "0                         0                     0                     1   \n",
       "1                         0                     0                     1   \n",
       "2                         0                     0                     1   \n",
       "3                         0                     0                     0   \n",
       "4                         0                     0                     1   \n",
       "...                     ...                   ...                   ...   \n",
       "1455                      0                     0                     1   \n",
       "1456                      0                     0                     1   \n",
       "1457                      0                     0                     1   \n",
       "1458                      0                     0                     1   \n",
       "1459                      0                     0                     1   \n",
       "\n",
       "      SalePrice  \n",
       "0     12.247694  \n",
       "1     12.109011  \n",
       "2     12.317167  \n",
       "3     11.849398  \n",
       "4     12.429216  \n",
       "...         ...  \n",
       "1455  12.072541  \n",
       "1456  12.254863  \n",
       "1457  12.493130  \n",
       "1458  11.864462  \n",
       "1459  11.901583  \n",
       "\n",
       "[1443 rows x 158 columns]"
      ]
     },
     "execution_count": 135,
     "metadata": {},
     "output_type": "execute_result"
    }
   ],
   "source": [
    "df2"
   ]
  },
  {
   "cell_type": "markdown",
   "metadata": {},
   "source": [
    "### 2-2. Split the Dataset "
   ]
  },
  {
   "cell_type": "code",
   "execution_count": 136,
   "metadata": {},
   "outputs": [],
   "source": [
    "from sklearn.model_selection import train_test_split\n",
    "X = df2.iloc[:,:157]\n",
    "y = df2.iloc[:,157]\n",
    "X_train, X_test, y_train, y_test = train_test_split(X, y, random_state = 21, test_size = 0.2)"
   ]
  },
  {
   "cell_type": "code",
   "execution_count": 137,
   "metadata": {},
   "outputs": [
    {
     "data": {
      "text/html": [
       "<div>\n",
       "<style scoped>\n",
       "    .dataframe tbody tr th:only-of-type {\n",
       "        vertical-align: middle;\n",
       "    }\n",
       "\n",
       "    .dataframe tbody tr th {\n",
       "        vertical-align: top;\n",
       "    }\n",
       "\n",
       "    .dataframe thead th {\n",
       "        text-align: right;\n",
       "    }\n",
       "</style>\n",
       "<table border=\"1\" class=\"dataframe\">\n",
       "  <thead>\n",
       "    <tr style=\"text-align: right;\">\n",
       "      <th></th>\n",
       "      <th>LotFrontage</th>\n",
       "      <th>LotArea</th>\n",
       "      <th>YearBuilt</th>\n",
       "      <th>YearRemodAdd</th>\n",
       "      <th>BsmtFinSF1</th>\n",
       "      <th>BsmtFinSF2</th>\n",
       "      <th>TotalBsmtSF</th>\n",
       "      <th>1stFlrSF</th>\n",
       "      <th>GrLivArea</th>\n",
       "      <th>BsmtFullBath</th>\n",
       "      <th>...</th>\n",
       "      <th>MoSold_5</th>\n",
       "      <th>MoSold_6</th>\n",
       "      <th>MoSold_7</th>\n",
       "      <th>MoSold_9</th>\n",
       "      <th>SaleType_ConLD</th>\n",
       "      <th>SaleType_New</th>\n",
       "      <th>SaleType_WD</th>\n",
       "      <th>SaleCondition_AdjLand</th>\n",
       "      <th>SaleCondition_Alloca</th>\n",
       "      <th>SaleCondition_Normal</th>\n",
       "    </tr>\n",
       "  </thead>\n",
       "  <tbody>\n",
       "    <tr>\n",
       "      <th>90</th>\n",
       "      <td>0.133562</td>\n",
       "      <td>0.027577</td>\n",
       "      <td>0.565217</td>\n",
       "      <td>0.000000</td>\n",
       "      <td>0.000000</td>\n",
       "      <td>0.0</td>\n",
       "      <td>0.000000</td>\n",
       "      <td>0.243953</td>\n",
       "      <td>0.214394</td>\n",
       "      <td>0.0</td>\n",
       "      <td>...</td>\n",
       "      <td>0</td>\n",
       "      <td>0</td>\n",
       "      <td>1</td>\n",
       "      <td>0</td>\n",
       "      <td>0</td>\n",
       "      <td>0</td>\n",
       "      <td>1</td>\n",
       "      <td>0</td>\n",
       "      <td>0</td>\n",
       "      <td>1</td>\n",
       "    </tr>\n",
       "    <tr>\n",
       "      <th>84</th>\n",
       "      <td>0.164384</td>\n",
       "      <td>0.033794</td>\n",
       "      <td>0.891304</td>\n",
       "      <td>0.766667</td>\n",
       "      <td>0.000000</td>\n",
       "      <td>0.0</td>\n",
       "      <td>0.119775</td>\n",
       "      <td>0.162405</td>\n",
       "      <td>0.346189</td>\n",
       "      <td>0.0</td>\n",
       "      <td>...</td>\n",
       "      <td>1</td>\n",
       "      <td>0</td>\n",
       "      <td>0</td>\n",
       "      <td>0</td>\n",
       "      <td>0</td>\n",
       "      <td>0</td>\n",
       "      <td>1</td>\n",
       "      <td>0</td>\n",
       "      <td>0</td>\n",
       "      <td>1</td>\n",
       "    </tr>\n",
       "    <tr>\n",
       "      <th>506</th>\n",
       "      <td>0.202055</td>\n",
       "      <td>0.038580</td>\n",
       "      <td>0.876812</td>\n",
       "      <td>0.733333</td>\n",
       "      <td>0.173675</td>\n",
       "      <td>0.0</td>\n",
       "      <td>0.242358</td>\n",
       "      <td>0.252592</td>\n",
       "      <td>0.478895</td>\n",
       "      <td>0.0</td>\n",
       "      <td>...</td>\n",
       "      <td>0</td>\n",
       "      <td>0</td>\n",
       "      <td>0</td>\n",
       "      <td>1</td>\n",
       "      <td>0</td>\n",
       "      <td>0</td>\n",
       "      <td>1</td>\n",
       "      <td>0</td>\n",
       "      <td>0</td>\n",
       "      <td>1</td>\n",
       "    </tr>\n",
       "    <tr>\n",
       "      <th>516</th>\n",
       "      <td>0.164384</td>\n",
       "      <td>0.042759</td>\n",
       "      <td>0.724638</td>\n",
       "      <td>0.366667</td>\n",
       "      <td>0.000000</td>\n",
       "      <td>0.0</td>\n",
       "      <td>0.214910</td>\n",
       "      <td>0.360746</td>\n",
       "      <td>0.542059</td>\n",
       "      <td>0.0</td>\n",
       "      <td>...</td>\n",
       "      <td>0</td>\n",
       "      <td>0</td>\n",
       "      <td>0</td>\n",
       "      <td>0</td>\n",
       "      <td>0</td>\n",
       "      <td>0</td>\n",
       "      <td>0</td>\n",
       "      <td>0</td>\n",
       "      <td>0</td>\n",
       "      <td>0</td>\n",
       "    </tr>\n",
       "    <tr>\n",
       "      <th>1195</th>\n",
       "      <td>0.102740</td>\n",
       "      <td>0.031452</td>\n",
       "      <td>0.963768</td>\n",
       "      <td>0.916667</td>\n",
       "      <td>0.000000</td>\n",
       "      <td>0.0</td>\n",
       "      <td>0.227074</td>\n",
       "      <td>0.136144</td>\n",
       "      <td>0.340723</td>\n",
       "      <td>0.0</td>\n",
       "      <td>...</td>\n",
       "      <td>0</td>\n",
       "      <td>0</td>\n",
       "      <td>1</td>\n",
       "      <td>0</td>\n",
       "      <td>0</td>\n",
       "      <td>0</td>\n",
       "      <td>1</td>\n",
       "      <td>0</td>\n",
       "      <td>0</td>\n",
       "      <td>1</td>\n",
       "    </tr>\n",
       "  </tbody>\n",
       "</table>\n",
       "<p>5 rows × 157 columns</p>\n",
       "</div>"
      ],
      "text/plain": [
       "      LotFrontage   LotArea  YearBuilt  YearRemodAdd  BsmtFinSF1  BsmtFinSF2  \\\n",
       "90       0.133562  0.027577   0.565217      0.000000    0.000000         0.0   \n",
       "84       0.164384  0.033794   0.891304      0.766667    0.000000         0.0   \n",
       "506      0.202055  0.038580   0.876812      0.733333    0.173675         0.0   \n",
       "516      0.164384  0.042759   0.724638      0.366667    0.000000         0.0   \n",
       "1195     0.102740  0.031452   0.963768      0.916667    0.000000         0.0   \n",
       "\n",
       "      TotalBsmtSF  1stFlrSF  GrLivArea  BsmtFullBath  ...  MoSold_5  MoSold_6  \\\n",
       "90       0.000000  0.243953   0.214394           0.0  ...         0         0   \n",
       "84       0.119775  0.162405   0.346189           0.0  ...         1         0   \n",
       "506      0.242358  0.252592   0.478895           0.0  ...         0         0   \n",
       "516      0.214910  0.360746   0.542059           0.0  ...         0         0   \n",
       "1195     0.227074  0.136144   0.340723           0.0  ...         0         0   \n",
       "\n",
       "      MoSold_7  MoSold_9  SaleType_ConLD  SaleType_New  SaleType_WD  \\\n",
       "90           1         0               0             0            1   \n",
       "84           0         0               0             0            1   \n",
       "506          0         1               0             0            1   \n",
       "516          0         0               0             0            0   \n",
       "1195         1         0               0             0            1   \n",
       "\n",
       "      SaleCondition_AdjLand  SaleCondition_Alloca  SaleCondition_Normal  \n",
       "90                        0                     0                     1  \n",
       "84                        0                     0                     1  \n",
       "506                       0                     0                     1  \n",
       "516                       0                     0                     0  \n",
       "1195                      0                     0                     1  \n",
       "\n",
       "[5 rows x 157 columns]"
      ]
     },
     "execution_count": 137,
     "metadata": {},
     "output_type": "execute_result"
    }
   ],
   "source": [
    "X_train.head()"
   ]
  },
  {
   "cell_type": "code",
   "execution_count": 138,
   "metadata": {},
   "outputs": [
    {
     "data": {
      "text/plain": [
       "90      11.607326\n",
       "84      12.034691\n",
       "506     12.278393\n",
       "516     11.970350\n",
       "1195    12.078239\n",
       "Name: SalePrice, dtype: float64"
      ]
     },
     "execution_count": 138,
     "metadata": {},
     "output_type": "execute_result"
    }
   ],
   "source": [
    "y_train.head()"
   ]
  },
  {
   "cell_type": "markdown",
   "metadata": {},
   "source": [
    "### 2-3. Regression Methods\n",
    "\n",
    "Each regression method has been researched and chosen for its capabilities in supervised learning, especially regression. In order to avoid using biased models, 10-fold cross validation has been used to generalize each model based on the given data set. Specifically, the R^2 score and MSE has been obtained for each iteration of the cross validation, as well as the average of both metrics."
   ]
  },
  {
   "cell_type": "markdown",
   "metadata": {},
   "source": [
    "#### 2-3-1. Ridge Regression\n",
    "This linear model utilizes the least squares loss function and L2 regularization. The estimator has built-in support for multivariate regression, where it imposes a penalty on the size of the model coefficients for robustness to collinearity."
   ]
  },
  {
   "cell_type": "code",
   "execution_count": 139,
   "metadata": {},
   "outputs": [],
   "source": [
    "from sklearn.linear_model import Ridge\n",
    "ridgeReg = Ridge(alpha = 0.5)\n",
    "# ridgeReg.fit(X_train, y_train)\n",
    "# print('Ridge')\n",
    "# print(ridgeReg.score(X_test, y_test)) # returns R^2 score"
   ]
  },
  {
   "cell_type": "code",
   "execution_count": 140,
   "metadata": {},
   "outputs": [
    {
     "name": "stdout",
     "output_type": "stream",
     "text": [
      "R^2 Score: [0.91579966 0.9327697  0.92276102 0.91327879 0.93332233 0.91302244\n",
      " 0.92788435 0.92716391 0.89448819 0.93259064]\n",
      "\n",
      "\n",
      "Mean R^2 Score: 0.9213081029747141\n",
      "\n",
      "\n",
      "MSE: [0.01119675 0.00943708 0.01150821 0.01288254 0.01184677 0.01297847\n",
      " 0.01186199 0.01161688 0.01744969 0.01134699]\n",
      "\n",
      "\n",
      "Mean MSE Value: 0.012212537105781228\n"
     ]
    }
   ],
   "source": [
    "from sklearn.model_selection import KFold\n",
    "from sklearn.model_selection import cross_val_score\n",
    "from statistics import *\n",
    "\n",
    "cv = KFold(n_splits=10, random_state=21, shuffle=True)\n",
    "\n",
    "r2_ridge = cross_val_score(ridgeReg, X, y, scoring='r2', cv=cv, n_jobs=-1)\n",
    "mse_ridge = cross_val_score(ridgeReg, X, y, scoring='neg_mean_squared_error', cv=cv, n_jobs=-1)\n",
    "\n",
    "print(\"R^2 Score:\", r2_ridge)\n",
    "print(\"\\n\")\n",
    "print(\"Mean R^2 Score:\", mean(r2_ridge))\n",
    "print(\"\\n\")\n",
    "print(\"MSE:\", abs(mse_ridge))\n",
    "print(\"\\n\")\n",
    "print(\"Mean MSE Value:\", abs(mean(mse_ridge)))"
   ]
  },
  {
   "cell_type": "markdown",
   "metadata": {},
   "source": [
    "#### 2-3-2. Lasso Regression"
   ]
  },
  {
   "cell_type": "markdown",
   "metadata": {},
   "source": [
    "This linear model estimates sparse coefficients through coordinate descent. Unlike ridge regression, the lasso estimate solves the minimization of the least-squares penalty with L1 regularization."
   ]
  },
  {
   "cell_type": "code",
   "execution_count": 141,
   "metadata": {},
   "outputs": [],
   "source": [
    "from sklearn.linear_model import Lasso\n",
    "lassoReg = Lasso(alpha = 0.5)\n",
    "# lassoReg.fit(X_train, y_train)\n",
    "# print('Lasso')\n",
    "# print(lassoReg.score(X_test, y_test)) # returns R^2 score"
   ]
  },
  {
   "cell_type": "code",
   "execution_count": 142,
   "metadata": {},
   "outputs": [
    {
     "name": "stdout",
     "output_type": "stream",
     "text": [
      "R^2 Score: [-1.28050776e-02 -1.07636039e-05 -6.14948583e-05 -1.26188294e-06\n",
      " -5.83888152e-03 -8.92347894e-05 -1.10165790e-02 -2.42146147e-02\n",
      " -3.38708753e-03 -4.16809986e-04]\n",
      "\n",
      "\n",
      "Mean R^2 Score: -0.005784180554372997\n",
      "\n",
      "\n",
      "MSE: [0.13468025 0.14037102 0.14900402 0.14855134 0.17870968 0.14922959\n",
      " 0.16629767 0.16335552 0.16594159 0.16839979]\n",
      "\n",
      "\n",
      "Mean MSE Value: 0.15645404747634253\n"
     ]
    }
   ],
   "source": [
    "r2_lasso = cross_val_score(lassoReg, X, y, scoring='r2', cv=cv, n_jobs=-1)\n",
    "mse_lasso = cross_val_score(lassoReg, X, y, scoring='neg_mean_squared_error', cv=cv, n_jobs=-1)\n",
    "\n",
    "print(\"R^2 Score:\", r2_lasso)\n",
    "print(\"\\n\")\n",
    "print(\"Mean R^2 Score:\", mean(r2_lasso))\n",
    "print(\"\\n\")\n",
    "print(\"MSE:\", abs(mse_lasso))\n",
    "print(\"\\n\")\n",
    "print(\"Mean MSE Value:\", abs(mean(mse_lasso)))"
   ]
  },
  {
   "cell_type": "markdown",
   "metadata": {},
   "source": [
    "#### 2-3-3. XGBoost Regression\n",
    "This model is an implementation of the gradient boosting trees algorithm for regression predictive modeling."
   ]
  },
  {
   "cell_type": "code",
   "execution_count": 143,
   "metadata": {},
   "outputs": [],
   "source": [
    "# !pip install xgboost\n",
    "from xgboost import XGBRegressor\n",
    "\n",
    "XGB = XGBRegressor()\n",
    "# XGB.fit(X_train, y_train)\n",
    "# print(XGB.score(X_test, y_test)) # returns R^2 score"
   ]
  },
  {
   "cell_type": "code",
   "execution_count": 144,
   "metadata": {},
   "outputs": [
    {
     "name": "stdout",
     "output_type": "stream",
     "text": [
      "R^2 Score: [0.88424841 0.8746331  0.89958722 0.82170803 0.88286329 0.87424112\n",
      " 0.87723388 0.89321373 0.8497431  0.92711491]\n",
      "\n",
      "\n",
      "Mean R^2 Score: 0.8784586781825788\n",
      "\n",
      "\n",
      "MSE: [0.01539235 0.01759769 0.01496099 0.02648548 0.02081195 0.01876527\n",
      " 0.02019326 0.01703171 0.0248497  0.01226872]\n",
      "\n",
      "\n",
      "Mean MSE Value: 0.018835711786344748\n"
     ]
    }
   ],
   "source": [
    "r2_XGB = cross_val_score(XGB, X, y, scoring='r2', cv=cv, n_jobs=-1)\n",
    "mse_XGB = cross_val_score(XGB, X, y, scoring='neg_mean_squared_error', cv=cv, n_jobs=-1)\n",
    "\n",
    "print(\"R^2 Score:\", r2_XGB)\n",
    "print(\"\\n\")\n",
    "print(\"Mean R^2 Score:\", mean(r2_XGB))\n",
    "print(\"\\n\")\n",
    "print(\"MSE:\", abs(mse_XGB))\n",
    "print(\"\\n\")\n",
    "print(\"Mean MSE Value:\", abs(mean(mse_XGB)))"
   ]
  },
  {
   "cell_type": "markdown",
   "metadata": {},
   "source": [
    "#### 2-3-4. KNN Regression\n",
    "This model performs regression based on k-nearest neighbors, where the target variable is predicted by local interpolation of the subsets of nearest neighbors in the training set."
   ]
  },
  {
   "cell_type": "code",
   "execution_count": 145,
   "metadata": {},
   "outputs": [],
   "source": [
    "from sklearn.neighbors import KNeighborsRegressor\n",
    "\n",
    "KNN = KNeighborsRegressor()\n",
    "# KNN.fit(X_train,y_train)\n",
    "# print(KNN.score(X_test, y_test)) # returns R^2 score"
   ]
  },
  {
   "cell_type": "code",
   "execution_count": 146,
   "metadata": {},
   "outputs": [
    {
     "name": "stdout",
     "output_type": "stream",
     "text": [
      "R^2 Score: [0.77840339 0.74387883 0.79851789 0.71476785 0.76816783 0.77855988\n",
      " 0.80655485 0.81322441 0.73086903 0.81453643]\n",
      "\n",
      "\n",
      "Mean R^2 Score: 0.7747480401523651\n",
      "\n",
      "\n",
      "MSE: [0.02946735 0.0359516  0.0300198  0.04237157 0.04119015 0.03304247\n",
      " 0.03181894 0.02978948 0.04450926 0.03121901]\n",
      "\n",
      "\n",
      "Mean MSE Value: 0.03493796412780226\n"
     ]
    }
   ],
   "source": [
    "r2_KNN = cross_val_score(KNN, X, y, scoring='r2', cv=cv, n_jobs=-1)\n",
    "mse_KNN = cross_val_score(KNN, X, y, scoring='neg_mean_squared_error', cv=cv, n_jobs=-1)\n",
    "\n",
    "print(\"R^2 Score:\", r2_KNN)\n",
    "print(\"\\n\")\n",
    "print(\"Mean R^2 Score:\", mean(r2_KNN))\n",
    "print(\"\\n\")\n",
    "print(\"MSE:\", abs(mse_KNN))\n",
    "print(\"\\n\")\n",
    "print(\"Mean MSE Value:\", abs(mean(mse_KNN)))"
   ]
  },
  {
   "cell_type": "markdown",
   "metadata": {},
   "source": [
    "#### 2-3-5. Linear Regression\n",
    "This model performs ordinary least squares linear regression by minimizing the residual sum of squares between the observed targets (predicted by linear approximation) in the dataset."
   ]
  },
  {
   "cell_type": "code",
   "execution_count": 147,
   "metadata": {},
   "outputs": [],
   "source": [
    "from sklearn.linear_model import LinearRegression\n",
    "LR = LinearRegression()\n",
    "# LR.fit(X_train, y_train)\n",
    "# LR.score(X_train, y_train) # returns R^2 score"
   ]
  },
  {
   "cell_type": "code",
   "execution_count": 148,
   "metadata": {},
   "outputs": [
    {
     "name": "stdout",
     "output_type": "stream",
     "text": [
      "R^2 Score: [0.9125863  0.93034554 0.92098709 0.91701081 0.92918646 0.91538098\n",
      " 0.92518308 0.92754505 0.89898229 0.92411856]\n",
      "\n",
      "\n",
      "Mean R^2 Score: 0.9201326162216852\n",
      "\n",
      "\n",
      "MSE: [0.01162405 0.00977736 0.01177252 0.01232814 0.0125816  0.01262653\n",
      " 0.01230631 0.01155609 0.01670645 0.01277309]\n",
      "\n",
      "\n",
      "Mean MSE Value: 0.012405215266363952\n"
     ]
    }
   ],
   "source": [
    "r2_LR = cross_val_score(LR, X, y, scoring='r2', cv=cv, n_jobs=-1)\n",
    "mse_LR = cross_val_score(LR, X, y, scoring='neg_mean_squared_error', cv=cv, n_jobs=-1)\n",
    "\n",
    "print(\"R^2 Score:\", r2_LR)\n",
    "print(\"\\n\")\n",
    "print(\"Mean R^2 Score:\", mean(r2_LR))\n",
    "print(\"\\n\")\n",
    "print(\"MSE:\", abs(mse_LR))\n",
    "print(\"\\n\")\n",
    "print(\"Mean MSE Value:\", abs(mean(mse_LR)))"
   ]
  },
  {
   "cell_type": "markdown",
   "metadata": {},
   "source": [
    "#### 2-3-6. Random Forest Regression\n",
    "This model uses a meta estimator that fits a number of classifying decision trees on various sub-samples of the dataset, and uses averaging to improve the predictive accuracy and control over-fitting."
   ]
  },
  {
   "cell_type": "code",
   "execution_count": 149,
   "metadata": {},
   "outputs": [],
   "source": [
    "from sklearn.ensemble import RandomForestRegressor\n",
    "rfr = RandomForestRegressor()\n",
    "# rfr.fit(X_train, y_train)\n",
    "# print(rfr.score(X_test, y_test)) # returns R^2 score"
   ]
  },
  {
   "cell_type": "code",
   "execution_count": 150,
   "metadata": {},
   "outputs": [
    {
     "name": "stdout",
     "output_type": "stream",
     "text": [
      "R^2 Score: [0.88401212 0.89218497 0.90099734 0.85305518 0.85277807 0.86141437\n",
      " 0.86840257 0.88791028 0.84626802 0.90511424]\n",
      "\n",
      "\n",
      "Mean R^2 Score: 0.8752137163442771\n",
      "\n",
      "\n",
      "MSE: [0.01575135 0.01650167 0.01384338 0.02211529 0.02645071 0.02060672\n",
      " 0.02104491 0.01780872 0.02515061 0.0159272 ]\n",
      "\n",
      "\n",
      "Mean MSE Value: 0.019520055197287334\n"
     ]
    }
   ],
   "source": [
    "r2_rfr = cross_val_score(rfr, X, y, scoring='r2', cv=cv, n_jobs=-1)\n",
    "mse_rfr = cross_val_score(rfr, X, y, scoring='neg_mean_squared_error', cv=cv, n_jobs=-1)\n",
    "\n",
    "print(\"R^2 Score:\", r2_rfr)\n",
    "print(\"\\n\")\n",
    "print(\"Mean R^2 Score:\", mean(r2_rfr))\n",
    "print(\"\\n\")\n",
    "print(\"MSE:\", abs(mse_rfr))\n",
    "print(\"\\n\")\n",
    "print(\"Mean MSE Value:\", abs(mean(mse_rfr)))"
   ]
  },
  {
   "cell_type": "markdown",
   "metadata": {},
   "source": [
    "#### 2-3-7. Support Vector Regression\n",
    "This model identifies the data points within the epsilon-defined error decision boundary to produce a line of best fit for predicting discrete values. For our dataset, the linear kernel was the best fit."
   ]
  },
  {
   "cell_type": "code",
   "execution_count": 151,
   "metadata": {},
   "outputs": [],
   "source": [
    "from sklearn.svm import SVR\n",
    "# from sklearn.metrics import r2_score\n",
    "\n",
    "svr = SVR(kernel='linear')\n",
    "# svr.fit(X_train, np.asarray(y_train))\n",
    "# y_pred_svr = svr.predict(X_test)\n",
    "# r2_score(y_test, y_pred_svr) # returns R^2 score"
   ]
  },
  {
   "cell_type": "code",
   "execution_count": 152,
   "metadata": {},
   "outputs": [
    {
     "name": "stdout",
     "output_type": "stream",
     "text": [
      "R^2 Score: [0.90920591 0.92313634 0.91608953 0.91435899 0.92742144 0.90728509\n",
      " 0.92097287 0.92307866 0.88378519 0.9284953 ]\n",
      "\n",
      "\n",
      "Mean R^2 Score: 0.9153829327889408\n",
      "\n",
      "\n",
      "MSE: [0.01207357 0.01078931 0.01250223 0.01272207 0.0128952  0.01383457\n",
      " 0.01299883 0.01226845 0.01921977 0.01203636]\n",
      "\n",
      "\n",
      "Mean MSE Value: 0.01313403570592751\n"
     ]
    }
   ],
   "source": [
    "r2_svr = cross_val_score(svr, X, y, scoring='r2', cv=cv, n_jobs=-1)\n",
    "mse_svr = cross_val_score(svr, X, y, scoring='neg_mean_squared_error', cv=cv, n_jobs=-1)\n",
    "\n",
    "print(\"R^2 Score:\", r2_svr)\n",
    "print(\"\\n\")\n",
    "print(\"Mean R^2 Score:\", mean(r2_svr))\n",
    "print(\"\\n\")\n",
    "print(\"MSE:\", abs(mse_svr))\n",
    "print(\"\\n\")\n",
    "print(\"Mean MSE Value:\", abs(mean(mse_svr)))"
   ]
  },
  {
   "cell_type": "markdown",
   "metadata": {},
   "source": [
    "#### 2-3-8. Neural Network\n",
    "Due to the high complexity within this dataset, we built our own layered neural network to model the regression process."
   ]
  },
  {
   "cell_type": "code",
   "execution_count": 55,
   "metadata": {},
   "outputs": [],
   "source": [
    "# !pip install keras\n",
    "# !pip install tensorflow\n",
    "import keras\n",
    "import matplotlib.pyplot as plt\n",
    "\n",
    "from keras.models import Sequential\n",
    "from keras.layers import Dense, Activation, Embedding, Flatten, LeakyReLU, BatchNormalization, Dropout\n",
    "from keras.activations import relu, sigmoid\n",
    "from keras.layers import LeakyReLU"
   ]
  },
  {
   "cell_type": "code",
   "execution_count": 56,
   "metadata": {},
   "outputs": [],
   "source": [
    "from keras.wrappers.scikit_learn import KerasClassifier\n",
    "from sklearn.model_selection import GridSearchCV\n",
    "\n",
    "x_train_nn, x_test_nn, y_train_nn, y_test_nn = train_test_split(X, y, test_size = 0.2, random_state = 21)\n",
    "X_val, X_test, Y_val, Y_test = train_test_split(x_test_nn, y_test_nn, test_size=0.5)"
   ]
  },
  {
   "cell_type": "code",
   "execution_count": 57,
   "metadata": {},
   "outputs": [],
   "source": [
    "# creating model\n",
    "model = keras.Sequential()\n",
    "\n",
    "# I will be testing out activation rectifided linear units\n",
    "# first layer (input layer)\n",
    "model.add(keras.layers.Dense(60, activation='relu', input_shape=(157,)))\n",
    "# second layer\n",
    "# now using sigmoid as activation \n",
    "model.add(keras.layers.Dense(60, activation='sigmoid'))\n",
    "# third layer\n",
    "# output layer should still only be one (sale price)\n",
    "model.add(keras.layers.Dense(1))\n",
    "\n",
    "# using mean squared error for metric because it is regression problem\n",
    "model.compile(optimizer='adam', loss= 'mean_squared_error', metrics = ['mean_squared_error'])"
   ]
  },
  {
   "cell_type": "code",
   "execution_count": 58,
   "metadata": {},
   "outputs": [
    {
     "name": "stdout",
     "output_type": "stream",
     "text": [
      "Epoch 1/150\n",
      "37/37 [==============================] - 10s 12ms/step - loss: 136.4669 - mean_squared_error: 136.4669 - val_loss: 59.9053 - val_mean_squared_error: 59.9053\n",
      "Epoch 2/150\n",
      "37/37 [==============================] - 0s 1ms/step - loss: 48.2150 - mean_squared_error: 48.2150 - val_loss: 26.6019 - val_mean_squared_error: 26.6019\n",
      "Epoch 3/150\n",
      "37/37 [==============================] - 0s 1ms/step - loss: 24.1310 - mean_squared_error: 24.1310 - val_loss: 16.1118 - val_mean_squared_error: 16.1118\n",
      "Epoch 4/150\n",
      "37/37 [==============================] - 0s 1ms/step - loss: 14.7063 - mean_squared_error: 14.7063 - val_loss: 9.5325 - val_mean_squared_error: 9.5325\n",
      "Epoch 5/150\n",
      "37/37 [==============================] - 0s 1ms/step - loss: 8.8018 - mean_squared_error: 8.8018 - val_loss: 5.4257 - val_mean_squared_error: 5.4257\n",
      "Epoch 6/150\n",
      "37/37 [==============================] - 0s 1ms/step - loss: 4.9783 - mean_squared_error: 4.9783 - val_loss: 2.9556 - val_mean_squared_error: 2.9556\n",
      "Epoch 7/150\n",
      "37/37 [==============================] - 0s 1ms/step - loss: 2.8129 - mean_squared_error: 2.8129 - val_loss: 1.5465 - val_mean_squared_error: 1.5465\n",
      "Epoch 8/150\n",
      "37/37 [==============================] - 0s 1ms/step - loss: 1.4744 - mean_squared_error: 1.4744 - val_loss: 0.8022 - val_mean_squared_error: 0.8022\n",
      "Epoch 9/150\n",
      "37/37 [==============================] - 0s 1ms/step - loss: 0.8171 - mean_squared_error: 0.8171 - val_loss: 0.4265 - val_mean_squared_error: 0.4265\n",
      "Epoch 10/150\n",
      "37/37 [==============================] - 0s 1ms/step - loss: 0.4875 - mean_squared_error: 0.4875 - val_loss: 0.2568 - val_mean_squared_error: 0.2568\n",
      "Epoch 11/150\n",
      "37/37 [==============================] - 0s 1ms/step - loss: 0.2887 - mean_squared_error: 0.2887 - val_loss: 0.1848 - val_mean_squared_error: 0.1848\n",
      "Epoch 12/150\n",
      "37/37 [==============================] - 0s 1ms/step - loss: 0.2013 - mean_squared_error: 0.2013 - val_loss: 0.1590 - val_mean_squared_error: 0.1590\n",
      "Epoch 13/150\n",
      "37/37 [==============================] - 0s 1ms/step - loss: 0.1820 - mean_squared_error: 0.1820 - val_loss: 0.1529 - val_mean_squared_error: 0.1529\n",
      "Epoch 14/150\n",
      "37/37 [==============================] - 0s 1ms/step - loss: 0.1636 - mean_squared_error: 0.1636 - val_loss: 0.1529 - val_mean_squared_error: 0.1529\n",
      "Epoch 15/150\n",
      "37/37 [==============================] - 0s 1ms/step - loss: 0.1676 - mean_squared_error: 0.1676 - val_loss: 0.1545 - val_mean_squared_error: 0.1545\n",
      "Epoch 16/150\n",
      "37/37 [==============================] - 0s 1ms/step - loss: 0.1514 - mean_squared_error: 0.1514 - val_loss: 0.1552 - val_mean_squared_error: 0.1552\n",
      "Epoch 17/150\n",
      "37/37 [==============================] - 0s 1ms/step - loss: 0.1557 - mean_squared_error: 0.1557 - val_loss: 0.1561 - val_mean_squared_error: 0.1561\n",
      "Epoch 18/150\n",
      "37/37 [==============================] - 0s 1ms/step - loss: 0.1577 - mean_squared_error: 0.1577 - val_loss: 0.1568 - val_mean_squared_error: 0.1568\n",
      "Epoch 19/150\n",
      "37/37 [==============================] - 0s 1ms/step - loss: 0.1545 - mean_squared_error: 0.1545 - val_loss: 0.1567 - val_mean_squared_error: 0.1567\n",
      "Epoch 20/150\n",
      "37/37 [==============================] - 0s 1ms/step - loss: 0.1564 - mean_squared_error: 0.1564 - val_loss: 0.1565 - val_mean_squared_error: 0.1565\n",
      "Epoch 21/150\n",
      "37/37 [==============================] - 0s 1ms/step - loss: 0.1556 - mean_squared_error: 0.1556 - val_loss: 0.1569 - val_mean_squared_error: 0.1569\n",
      "Epoch 22/150\n",
      "37/37 [==============================] - 0s 1ms/step - loss: 0.1547 - mean_squared_error: 0.1547 - val_loss: 0.1567 - val_mean_squared_error: 0.1567\n",
      "Epoch 23/150\n",
      "37/37 [==============================] - 0s 1ms/step - loss: 0.1514 - mean_squared_error: 0.1514 - val_loss: 0.1564 - val_mean_squared_error: 0.1564\n",
      "Epoch 24/150\n",
      "37/37 [==============================] - 0s 1ms/step - loss: 0.1468 - mean_squared_error: 0.1468 - val_loss: 0.1566 - val_mean_squared_error: 0.1566\n",
      "Epoch 25/150\n",
      "37/37 [==============================] - 0s 1ms/step - loss: 0.1626 - mean_squared_error: 0.1626 - val_loss: 0.1558 - val_mean_squared_error: 0.1558\n",
      "Epoch 26/150\n",
      "37/37 [==============================] - 0s 1ms/step - loss: 0.1536 - mean_squared_error: 0.1536 - val_loss: 0.1553 - val_mean_squared_error: 0.1553\n",
      "Epoch 27/150\n",
      "37/37 [==============================] - 0s 1ms/step - loss: 0.1492 - mean_squared_error: 0.1492 - val_loss: 0.1546 - val_mean_squared_error: 0.1546\n",
      "Epoch 28/150\n",
      "37/37 [==============================] - 0s 1ms/step - loss: 0.1569 - mean_squared_error: 0.1569 - val_loss: 0.1544 - val_mean_squared_error: 0.1544\n",
      "Epoch 29/150\n",
      "37/37 [==============================] - 0s 1ms/step - loss: 0.1523 - mean_squared_error: 0.1523 - val_loss: 0.1538 - val_mean_squared_error: 0.1538\n",
      "Epoch 30/150\n",
      "37/37 [==============================] - 0s 1ms/step - loss: 0.1392 - mean_squared_error: 0.1392 - val_loss: 0.1531 - val_mean_squared_error: 0.1531\n",
      "Epoch 31/150\n",
      "37/37 [==============================] - 0s 1ms/step - loss: 0.1448 - mean_squared_error: 0.1448 - val_loss: 0.1528 - val_mean_squared_error: 0.1528\n",
      "Epoch 32/150\n",
      "37/37 [==============================] - 0s 1ms/step - loss: 0.1638 - mean_squared_error: 0.1638 - val_loss: 0.1519 - val_mean_squared_error: 0.1519\n",
      "Epoch 33/150\n",
      "37/37 [==============================] - 0s 1ms/step - loss: 0.1683 - mean_squared_error: 0.1683 - val_loss: 0.1511 - val_mean_squared_error: 0.1511\n",
      "Epoch 34/150\n",
      "37/37 [==============================] - 0s 1ms/step - loss: 0.1488 - mean_squared_error: 0.1488 - val_loss: 0.1498 - val_mean_squared_error: 0.1498\n",
      "Epoch 35/150\n",
      "37/37 [==============================] - 0s 1ms/step - loss: 0.1478 - mean_squared_error: 0.1478 - val_loss: 0.1493 - val_mean_squared_error: 0.1493\n",
      "Epoch 36/150\n",
      "37/37 [==============================] - 0s 1ms/step - loss: 0.1451 - mean_squared_error: 0.1451 - val_loss: 0.1466 - val_mean_squared_error: 0.1466\n",
      "Epoch 37/150\n",
      "37/37 [==============================] - 0s 1ms/step - loss: 0.1400 - mean_squared_error: 0.1400 - val_loss: 0.1369 - val_mean_squared_error: 0.1369\n",
      "Epoch 38/150\n",
      "37/37 [==============================] - 0s 1ms/step - loss: 0.1204 - mean_squared_error: 0.1204 - val_loss: 0.1017 - val_mean_squared_error: 0.1017\n",
      "Epoch 39/150\n",
      "37/37 [==============================] - 0s 1ms/step - loss: 0.1036 - mean_squared_error: 0.1036 - val_loss: 0.0939 - val_mean_squared_error: 0.0939\n",
      "Epoch 40/150\n",
      "37/37 [==============================] - 0s 1ms/step - loss: 0.0960 - mean_squared_error: 0.0960 - val_loss: 0.0907 - val_mean_squared_error: 0.0907\n",
      "Epoch 41/150\n",
      "37/37 [==============================] - 0s 1ms/step - loss: 0.0879 - mean_squared_error: 0.0879 - val_loss: 0.0863 - val_mean_squared_error: 0.0863\n",
      "Epoch 42/150\n",
      "37/37 [==============================] - 0s 1ms/step - loss: 0.0784 - mean_squared_error: 0.0784 - val_loss: 0.0812 - val_mean_squared_error: 0.0812\n",
      "Epoch 43/150\n",
      "37/37 [==============================] - 0s 1ms/step - loss: 0.0734 - mean_squared_error: 0.0734 - val_loss: 0.0745 - val_mean_squared_error: 0.0745\n",
      "Epoch 44/150\n",
      "37/37 [==============================] - 0s 1ms/step - loss: 0.0822 - mean_squared_error: 0.0822 - val_loss: 0.0653 - val_mean_squared_error: 0.0653\n",
      "Epoch 45/150\n",
      "37/37 [==============================] - 0s 1ms/step - loss: 0.0715 - mean_squared_error: 0.0715 - val_loss: 0.0552 - val_mean_squared_error: 0.0552\n",
      "Epoch 46/150\n",
      "37/37 [==============================] - 0s 1ms/step - loss: 0.0575 - mean_squared_error: 0.0575 - val_loss: 0.0485 - val_mean_squared_error: 0.0485\n",
      "Epoch 47/150\n",
      "37/37 [==============================] - 0s 1ms/step - loss: 0.0583 - mean_squared_error: 0.0583 - val_loss: 0.0445 - val_mean_squared_error: 0.0445\n",
      "Epoch 48/150\n",
      "37/37 [==============================] - 0s 1ms/step - loss: 0.0414 - mean_squared_error: 0.0414 - val_loss: 0.0420 - val_mean_squared_error: 0.0420\n",
      "Epoch 49/150\n",
      "37/37 [==============================] - 0s 1ms/step - loss: 0.0477 - mean_squared_error: 0.0477 - val_loss: 0.0396 - val_mean_squared_error: 0.0396\n",
      "Epoch 50/150\n",
      "37/37 [==============================] - 0s 1ms/step - loss: 0.0469 - mean_squared_error: 0.0469 - val_loss: 0.0377 - val_mean_squared_error: 0.0377\n",
      "Epoch 51/150\n",
      "37/37 [==============================] - 0s 1ms/step - loss: 0.0381 - mean_squared_error: 0.0381 - val_loss: 0.0357 - val_mean_squared_error: 0.0357\n",
      "Epoch 52/150\n",
      "37/37 [==============================] - 0s 1ms/step - loss: 0.0398 - mean_squared_error: 0.0398 - val_loss: 0.0335 - val_mean_squared_error: 0.0335\n",
      "Epoch 53/150\n",
      "37/37 [==============================] - 0s 1ms/step - loss: 0.0343 - mean_squared_error: 0.0343 - val_loss: 0.0318 - val_mean_squared_error: 0.0318\n",
      "Epoch 54/150\n",
      "37/37 [==============================] - 0s 1ms/step - loss: 0.0335 - mean_squared_error: 0.0335 - val_loss: 0.0301 - val_mean_squared_error: 0.0301\n",
      "Epoch 55/150\n",
      "37/37 [==============================] - 0s 1ms/step - loss: 0.0312 - mean_squared_error: 0.0312 - val_loss: 0.0281 - val_mean_squared_error: 0.0281\n",
      "Epoch 56/150\n",
      "37/37 [==============================] - 0s 1ms/step - loss: 0.0255 - mean_squared_error: 0.0255 - val_loss: 0.0270 - val_mean_squared_error: 0.0270\n",
      "Epoch 57/150\n",
      "37/37 [==============================] - 0s 1ms/step - loss: 0.0249 - mean_squared_error: 0.0249 - val_loss: 0.0254 - val_mean_squared_error: 0.0254\n",
      "Epoch 58/150\n",
      "37/37 [==============================] - 0s 1ms/step - loss: 0.0236 - mean_squared_error: 0.0236 - val_loss: 0.0247 - val_mean_squared_error: 0.0247\n",
      "Epoch 59/150\n",
      "37/37 [==============================] - 0s 1ms/step - loss: 0.0224 - mean_squared_error: 0.0224 - val_loss: 0.0240 - val_mean_squared_error: 0.0240\n",
      "Epoch 60/150\n",
      "37/37 [==============================] - 0s 1ms/step - loss: 0.0237 - mean_squared_error: 0.0237 - val_loss: 0.0230 - val_mean_squared_error: 0.0230\n",
      "Epoch 61/150\n",
      "37/37 [==============================] - 0s 1ms/step - loss: 0.0231 - mean_squared_error: 0.0231 - val_loss: 0.0226 - val_mean_squared_error: 0.0226\n",
      "Epoch 62/150\n",
      "37/37 [==============================] - 0s 1ms/step - loss: 0.0219 - mean_squared_error: 0.0219 - val_loss: 0.0220 - val_mean_squared_error: 0.0220\n",
      "Epoch 63/150\n",
      "37/37 [==============================] - 0s 1ms/step - loss: 0.0221 - mean_squared_error: 0.0221 - val_loss: 0.0215 - val_mean_squared_error: 0.0215\n",
      "Epoch 64/150\n",
      "37/37 [==============================] - 0s 1ms/step - loss: 0.0180 - mean_squared_error: 0.0180 - val_loss: 0.0211 - val_mean_squared_error: 0.0211\n",
      "Epoch 65/150\n",
      "37/37 [==============================] - 0s 1ms/step - loss: 0.0186 - mean_squared_error: 0.0186 - val_loss: 0.0209 - val_mean_squared_error: 0.0209\n",
      "Epoch 66/150\n",
      "37/37 [==============================] - 0s 1ms/step - loss: 0.0188 - mean_squared_error: 0.0188 - val_loss: 0.0206 - val_mean_squared_error: 0.0206\n",
      "Epoch 67/150\n",
      "37/37 [==============================] - 0s 1ms/step - loss: 0.0155 - mean_squared_error: 0.0155 - val_loss: 0.0201 - val_mean_squared_error: 0.0201\n",
      "Epoch 68/150\n",
      "37/37 [==============================] - 0s 1ms/step - loss: 0.0177 - mean_squared_error: 0.0177 - val_loss: 0.0206 - val_mean_squared_error: 0.0206\n",
      "Epoch 69/150\n",
      "37/37 [==============================] - 0s 1ms/step - loss: 0.0167 - mean_squared_error: 0.0167 - val_loss: 0.0200 - val_mean_squared_error: 0.0200\n",
      "Epoch 70/150\n",
      "37/37 [==============================] - 0s 1ms/step - loss: 0.0179 - mean_squared_error: 0.0179 - val_loss: 0.0193 - val_mean_squared_error: 0.0193\n",
      "Epoch 71/150\n",
      "37/37 [==============================] - 0s 1ms/step - loss: 0.0181 - mean_squared_error: 0.0181 - val_loss: 0.0193 - val_mean_squared_error: 0.0193\n",
      "Epoch 72/150\n",
      "37/37 [==============================] - 0s 1ms/step - loss: 0.0152 - mean_squared_error: 0.0152 - val_loss: 0.0188 - val_mean_squared_error: 0.0188\n",
      "Epoch 73/150\n",
      "37/37 [==============================] - 0s 1ms/step - loss: 0.0151 - mean_squared_error: 0.0151 - val_loss: 0.0186 - val_mean_squared_error: 0.0186\n",
      "Epoch 74/150\n",
      "37/37 [==============================] - 0s 1ms/step - loss: 0.0166 - mean_squared_error: 0.0166 - val_loss: 0.0187 - val_mean_squared_error: 0.0187\n",
      "Epoch 75/150\n",
      "37/37 [==============================] - 0s 1ms/step - loss: 0.0157 - mean_squared_error: 0.0157 - val_loss: 0.0183 - val_mean_squared_error: 0.0183\n",
      "Epoch 76/150\n",
      "37/37 [==============================] - 0s 1ms/step - loss: 0.0148 - mean_squared_error: 0.0148 - val_loss: 0.0183 - val_mean_squared_error: 0.0183\n",
      "Epoch 77/150\n",
      "37/37 [==============================] - 0s 1ms/step - loss: 0.0154 - mean_squared_error: 0.0154 - val_loss: 0.0181 - val_mean_squared_error: 0.0181\n",
      "Epoch 78/150\n",
      "37/37 [==============================] - 0s 1ms/step - loss: 0.0145 - mean_squared_error: 0.0145 - val_loss: 0.0181 - val_mean_squared_error: 0.0181\n",
      "Epoch 79/150\n",
      "37/37 [==============================] - 0s 1ms/step - loss: 0.0143 - mean_squared_error: 0.0143 - val_loss: 0.0183 - val_mean_squared_error: 0.0183\n",
      "Epoch 80/150\n",
      "37/37 [==============================] - 0s 2ms/step - loss: 0.0150 - mean_squared_error: 0.0150 - val_loss: 0.0177 - val_mean_squared_error: 0.0177\n",
      "Epoch 81/150\n",
      "37/37 [==============================] - 0s 1ms/step - loss: 0.0158 - mean_squared_error: 0.0158 - val_loss: 0.0173 - val_mean_squared_error: 0.0173\n",
      "Epoch 82/150\n",
      "37/37 [==============================] - 0s 1ms/step - loss: 0.0140 - mean_squared_error: 0.0140 - val_loss: 0.0180 - val_mean_squared_error: 0.0180\n",
      "Epoch 83/150\n",
      "37/37 [==============================] - 0s 1ms/step - loss: 0.0130 - mean_squared_error: 0.0130 - val_loss: 0.0184 - val_mean_squared_error: 0.0184\n",
      "Epoch 84/150\n",
      "37/37 [==============================] - 0s 1ms/step - loss: 0.0143 - mean_squared_error: 0.0143 - val_loss: 0.0171 - val_mean_squared_error: 0.0171\n",
      "Epoch 85/150\n",
      "37/37 [==============================] - 0s 1ms/step - loss: 0.0131 - mean_squared_error: 0.0131 - val_loss: 0.0169 - val_mean_squared_error: 0.0169\n",
      "Epoch 86/150\n",
      "37/37 [==============================] - 0s 1ms/step - loss: 0.0142 - mean_squared_error: 0.0142 - val_loss: 0.0172 - val_mean_squared_error: 0.0172\n",
      "Epoch 87/150\n",
      "37/37 [==============================] - 0s 1ms/step - loss: 0.0129 - mean_squared_error: 0.0129 - val_loss: 0.0169 - val_mean_squared_error: 0.0169\n",
      "Epoch 88/150\n",
      "37/37 [==============================] - 0s 1ms/step - loss: 0.0142 - mean_squared_error: 0.0142 - val_loss: 0.0166 - val_mean_squared_error: 0.0166\n",
      "Epoch 89/150\n",
      "37/37 [==============================] - 0s 1ms/step - loss: 0.0112 - mean_squared_error: 0.0112 - val_loss: 0.0168 - val_mean_squared_error: 0.0168\n",
      "Epoch 90/150\n",
      "37/37 [==============================] - 0s 1ms/step - loss: 0.0120 - mean_squared_error: 0.0120 - val_loss: 0.0168 - val_mean_squared_error: 0.0168\n",
      "Epoch 91/150\n",
      "37/37 [==============================] - 0s 1ms/step - loss: 0.0119 - mean_squared_error: 0.0119 - val_loss: 0.0164 - val_mean_squared_error: 0.0164\n",
      "Epoch 92/150\n",
      "37/37 [==============================] - 0s 1ms/step - loss: 0.0112 - mean_squared_error: 0.0112 - val_loss: 0.0162 - val_mean_squared_error: 0.0162\n",
      "Epoch 93/150\n",
      "37/37 [==============================] - 0s 1ms/step - loss: 0.0125 - mean_squared_error: 0.0125 - val_loss: 0.0165 - val_mean_squared_error: 0.0165\n",
      "Epoch 94/150\n",
      "37/37 [==============================] - 0s 1ms/step - loss: 0.0110 - mean_squared_error: 0.0110 - val_loss: 0.0162 - val_mean_squared_error: 0.0162\n",
      "Epoch 95/150\n",
      "37/37 [==============================] - 0s 1ms/step - loss: 0.0108 - mean_squared_error: 0.0108 - val_loss: 0.0162 - val_mean_squared_error: 0.0162\n",
      "Epoch 96/150\n",
      "37/37 [==============================] - 0s 1ms/step - loss: 0.0113 - mean_squared_error: 0.0113 - val_loss: 0.0169 - val_mean_squared_error: 0.0169\n",
      "Epoch 97/150\n",
      "37/37 [==============================] - 0s 1ms/step - loss: 0.0103 - mean_squared_error: 0.0103 - val_loss: 0.0159 - val_mean_squared_error: 0.0159\n",
      "Epoch 98/150\n",
      "37/37 [==============================] - 0s 1ms/step - loss: 0.0096 - mean_squared_error: 0.0096 - val_loss: 0.0159 - val_mean_squared_error: 0.0159\n",
      "Epoch 99/150\n",
      "37/37 [==============================] - 0s 1ms/step - loss: 0.0108 - mean_squared_error: 0.0108 - val_loss: 0.0159 - val_mean_squared_error: 0.0159\n",
      "Epoch 100/150\n",
      "37/37 [==============================] - 0s 1ms/step - loss: 0.0104 - mean_squared_error: 0.0104 - val_loss: 0.0157 - val_mean_squared_error: 0.0157\n",
      "Epoch 101/150\n"
     ]
    },
    {
     "name": "stdout",
     "output_type": "stream",
     "text": [
      "37/37 [==============================] - 0s 1ms/step - loss: 0.0097 - mean_squared_error: 0.0097 - val_loss: 0.0161 - val_mean_squared_error: 0.0161\n",
      "Epoch 102/150\n",
      "37/37 [==============================] - 0s 1ms/step - loss: 0.0103 - mean_squared_error: 0.0103 - val_loss: 0.0160 - val_mean_squared_error: 0.0160\n",
      "Epoch 103/150\n",
      "37/37 [==============================] - 0s 1ms/step - loss: 0.0092 - mean_squared_error: 0.0092 - val_loss: 0.0154 - val_mean_squared_error: 0.0154\n",
      "Epoch 104/150\n",
      "37/37 [==============================] - 0s 1ms/step - loss: 0.0103 - mean_squared_error: 0.0103 - val_loss: 0.0158 - val_mean_squared_error: 0.0158\n",
      "Epoch 105/150\n",
      "37/37 [==============================] - 0s 1ms/step - loss: 0.0093 - mean_squared_error: 0.0093 - val_loss: 0.0163 - val_mean_squared_error: 0.0163\n",
      "Epoch 106/150\n",
      "37/37 [==============================] - 0s 1ms/step - loss: 0.0099 - mean_squared_error: 0.0099 - val_loss: 0.0154 - val_mean_squared_error: 0.0154\n",
      "Epoch 107/150\n",
      "37/37 [==============================] - 0s 1ms/step - loss: 0.0092 - mean_squared_error: 0.0092 - val_loss: 0.0154 - val_mean_squared_error: 0.0154\n",
      "Epoch 108/150\n",
      "37/37 [==============================] - 0s 1ms/step - loss: 0.0094 - mean_squared_error: 0.0094 - val_loss: 0.0159 - val_mean_squared_error: 0.0159\n",
      "Epoch 109/150\n",
      "37/37 [==============================] - 0s 1ms/step - loss: 0.0095 - mean_squared_error: 0.0095 - val_loss: 0.0160 - val_mean_squared_error: 0.0160\n",
      "Epoch 110/150\n",
      "37/37 [==============================] - 0s 1ms/step - loss: 0.0113 - mean_squared_error: 0.0113 - val_loss: 0.0159 - val_mean_squared_error: 0.0159\n",
      "Epoch 111/150\n",
      "37/37 [==============================] - 0s 1ms/step - loss: 0.0092 - mean_squared_error: 0.0092 - val_loss: 0.0156 - val_mean_squared_error: 0.0156\n",
      "Epoch 112/150\n",
      "37/37 [==============================] - 0s 1ms/step - loss: 0.0094 - mean_squared_error: 0.0094 - val_loss: 0.0155 - val_mean_squared_error: 0.0155\n",
      "Epoch 113/150\n",
      "37/37 [==============================] - 0s 1ms/step - loss: 0.0092 - mean_squared_error: 0.0092 - val_loss: 0.0155 - val_mean_squared_error: 0.0155\n",
      "Epoch 114/150\n",
      "37/37 [==============================] - 0s 1ms/step - loss: 0.0083 - mean_squared_error: 0.0083 - val_loss: 0.0153 - val_mean_squared_error: 0.0153\n",
      "Epoch 115/150\n",
      "37/37 [==============================] - 0s 1ms/step - loss: 0.0082 - mean_squared_error: 0.0082 - val_loss: 0.0160 - val_mean_squared_error: 0.0160\n",
      "Epoch 116/150\n",
      "37/37 [==============================] - 0s 1ms/step - loss: 0.0084 - mean_squared_error: 0.0084 - val_loss: 0.0154 - val_mean_squared_error: 0.0154\n",
      "Epoch 117/150\n",
      "37/37 [==============================] - 0s 1ms/step - loss: 0.0086 - mean_squared_error: 0.0086 - val_loss: 0.0155 - val_mean_squared_error: 0.0155\n",
      "Epoch 118/150\n",
      "37/37 [==============================] - 0s 1ms/step - loss: 0.0078 - mean_squared_error: 0.0078 - val_loss: 0.0155 - val_mean_squared_error: 0.0155\n",
      "Epoch 119/150\n",
      "37/37 [==============================] - 0s 1ms/step - loss: 0.0089 - mean_squared_error: 0.0089 - val_loss: 0.0154 - val_mean_squared_error: 0.0154\n",
      "Epoch 120/150\n",
      "37/37 [==============================] - 0s 1ms/step - loss: 0.0074 - mean_squared_error: 0.0074 - val_loss: 0.0154 - val_mean_squared_error: 0.0154\n",
      "Epoch 121/150\n",
      "37/37 [==============================] - 0s 1ms/step - loss: 0.0077 - mean_squared_error: 0.0077 - val_loss: 0.0154 - val_mean_squared_error: 0.0154\n",
      "Epoch 122/150\n",
      "37/37 [==============================] - 0s 1ms/step - loss: 0.0084 - mean_squared_error: 0.0084 - val_loss: 0.0157 - val_mean_squared_error: 0.0157\n",
      "Epoch 123/150\n",
      "37/37 [==============================] - 0s 1ms/step - loss: 0.0086 - mean_squared_error: 0.0086 - val_loss: 0.0159 - val_mean_squared_error: 0.0159\n",
      "Epoch 124/150\n",
      "37/37 [==============================] - 0s 1ms/step - loss: 0.0081 - mean_squared_error: 0.0081 - val_loss: 0.0153 - val_mean_squared_error: 0.0153\n",
      "Epoch 125/150\n",
      "37/37 [==============================] - 0s 1ms/step - loss: 0.0075 - mean_squared_error: 0.0075 - val_loss: 0.0154 - val_mean_squared_error: 0.0154\n",
      "Epoch 126/150\n",
      "37/37 [==============================] - 0s 1ms/step - loss: 0.0072 - mean_squared_error: 0.0072 - val_loss: 0.0156 - val_mean_squared_error: 0.0156\n",
      "Epoch 127/150\n",
      "37/37 [==============================] - 0s 1ms/step - loss: 0.0068 - mean_squared_error: 0.0068 - val_loss: 0.0160 - val_mean_squared_error: 0.0160\n",
      "Epoch 128/150\n",
      "37/37 [==============================] - 0s 1ms/step - loss: 0.0079 - mean_squared_error: 0.0079 - val_loss: 0.0157 - val_mean_squared_error: 0.0157\n",
      "Epoch 129/150\n",
      "37/37 [==============================] - 0s 1ms/step - loss: 0.0076 - mean_squared_error: 0.0076 - val_loss: 0.0157 - val_mean_squared_error: 0.0157\n",
      "Epoch 130/150\n",
      "37/37 [==============================] - 0s 1ms/step - loss: 0.0066 - mean_squared_error: 0.0066 - val_loss: 0.0165 - val_mean_squared_error: 0.0165\n",
      "Epoch 131/150\n",
      "37/37 [==============================] - 0s 1ms/step - loss: 0.0075 - mean_squared_error: 0.0075 - val_loss: 0.0154 - val_mean_squared_error: 0.0154\n",
      "Epoch 132/150\n",
      "37/37 [==============================] - 0s 1ms/step - loss: 0.0068 - mean_squared_error: 0.0068 - val_loss: 0.0154 - val_mean_squared_error: 0.0154\n",
      "Epoch 133/150\n",
      "37/37 [==============================] - 0s 1ms/step - loss: 0.0069 - mean_squared_error: 0.0069 - val_loss: 0.0163 - val_mean_squared_error: 0.0163\n",
      "Epoch 134/150\n",
      "37/37 [==============================] - 0s 1ms/step - loss: 0.0071 - mean_squared_error: 0.0071 - val_loss: 0.0155 - val_mean_squared_error: 0.0155\n",
      "Epoch 135/150\n",
      "37/37 [==============================] - 0s 1ms/step - loss: 0.0063 - mean_squared_error: 0.0063 - val_loss: 0.0159 - val_mean_squared_error: 0.0159\n",
      "Epoch 136/150\n",
      "37/37 [==============================] - 0s 1ms/step - loss: 0.0060 - mean_squared_error: 0.0060 - val_loss: 0.0154 - val_mean_squared_error: 0.0154\n",
      "Epoch 137/150\n",
      "37/37 [==============================] - 0s 1ms/step - loss: 0.0067 - mean_squared_error: 0.0067 - val_loss: 0.0158 - val_mean_squared_error: 0.0158\n",
      "Epoch 138/150\n",
      "37/37 [==============================] - 0s 1ms/step - loss: 0.0066 - mean_squared_error: 0.0066 - val_loss: 0.0158 - val_mean_squared_error: 0.0158\n",
      "Epoch 139/150\n",
      "37/37 [==============================] - 0s 1ms/step - loss: 0.0061 - mean_squared_error: 0.0061 - val_loss: 0.0162 - val_mean_squared_error: 0.0162\n",
      "Epoch 140/150\n",
      "37/37 [==============================] - 0s 1ms/step - loss: 0.0059 - mean_squared_error: 0.0059 - val_loss: 0.0159 - val_mean_squared_error: 0.0159\n",
      "Epoch 141/150\n",
      "37/37 [==============================] - 0s 1ms/step - loss: 0.0065 - mean_squared_error: 0.0065 - val_loss: 0.0158 - val_mean_squared_error: 0.0158\n",
      "Epoch 142/150\n",
      "37/37 [==============================] - 0s 1ms/step - loss: 0.0059 - mean_squared_error: 0.0059 - val_loss: 0.0156 - val_mean_squared_error: 0.0156\n",
      "Epoch 143/150\n",
      "37/37 [==============================] - 0s 1ms/step - loss: 0.0069 - mean_squared_error: 0.0069 - val_loss: 0.0156 - val_mean_squared_error: 0.0156\n",
      "Epoch 144/150\n",
      "37/37 [==============================] - 0s 1ms/step - loss: 0.0054 - mean_squared_error: 0.0054 - val_loss: 0.0159 - val_mean_squared_error: 0.0159\n",
      "Epoch 145/150\n",
      "37/37 [==============================] - 0s 1ms/step - loss: 0.0068 - mean_squared_error: 0.0068 - val_loss: 0.0158 - val_mean_squared_error: 0.0158\n",
      "Epoch 146/150\n",
      "37/37 [==============================] - 0s 1ms/step - loss: 0.0055 - mean_squared_error: 0.0055 - val_loss: 0.0161 - val_mean_squared_error: 0.0161\n",
      "Epoch 147/150\n",
      "37/37 [==============================] - 0s 1ms/step - loss: 0.0054 - mean_squared_error: 0.0054 - val_loss: 0.0164 - val_mean_squared_error: 0.0164\n",
      "Epoch 148/150\n",
      "37/37 [==============================] - 0s 1ms/step - loss: 0.0050 - mean_squared_error: 0.0050 - val_loss: 0.0159 - val_mean_squared_error: 0.0159\n",
      "Epoch 149/150\n",
      "37/37 [==============================] - 0s 1ms/step - loss: 0.0063 - mean_squared_error: 0.0063 - val_loss: 0.0167 - val_mean_squared_error: 0.0167\n",
      "Epoch 150/150\n",
      "37/37 [==============================] - 0s 1ms/step - loss: 0.0056 - mean_squared_error: 0.0056 - val_loss: 0.0162 - val_mean_squared_error: 0.0162\n"
     ]
    }
   ],
   "source": [
    "# train the model\n",
    "\n",
    "# testing different number of epochs\n",
    "hist=model.fit(x_train_nn,y_train_nn, epochs=150, validation_data=(X_val, Y_val))"
   ]
  },
  {
   "cell_type": "code",
   "execution_count": 59,
   "metadata": {},
   "outputs": [
    {
     "name": "stdout",
     "output_type": "stream",
     "text": [
      "MSE: 0.013631264908344121 R2_NN: 0.9004539635724889\n"
     ]
    }
   ],
   "source": [
    "#evaluating the model\n",
    "from sklearn.metrics import mean_squared_error\n",
    "from sklearn.metrics import r2_score\n",
    "\n",
    "# model.evaluate(x_test_nn, y_test_nn)[1]\n",
    "m1y_test_pred = model.predict(x_test_nn)\n",
    "m1y_train_pred = model.predict(x_train_nn)\n",
    "\n",
    "mse_nn = mean_squared_error(y_test_nn, m1y_test_pred)\n",
    "r2_nn =  r2_score(y_test_nn, m1y_test_pred)\n",
    "print(\"MSE:\", mse_nn, \"R2_NN:\", r2_nn)"
   ]
  },
  {
   "cell_type": "code",
   "execution_count": 60,
   "metadata": {},
   "outputs": [
    {
     "data": {
      "image/png": "[encoded data removed]",
      "text/plain": [
       "<Figure size 432x288 with 1 Axes>"
      ]
     },
     "metadata": {
      "needs_background": "light"
     },
     "output_type": "display_data"
    }
   ],
   "source": [
    "# plotting to look for overfitting\n",
    "plt.plot(hist.history['loss'])\n",
    "plt.plot(hist.history['val_loss'])\n",
    "plt.title('Model Loss')\n",
    "plt.ylabel('Loss')\n",
    "plt.xlabel('Epoch')\n",
    "plt.legend(['Train', 'Pred'], loc = 'upper right')\n",
    "plt.show()"
   ]
  },
  {
   "cell_type": "markdown",
   "metadata": {},
   "source": [
    "### 2-4. Results\n",
    "Below are the R^2 scores and MSE values for each regression method with the default hyperparameters. As we can see, ridge regression had the best results, followed by linear regression."
   ]
  },
  {
   "cell_type": "code",
   "execution_count": 153,
   "metadata": {},
   "outputs": [
    {
     "name": "stdout",
     "output_type": "stream",
     "text": [
      "+----------------+-----------------------+----------------------+\n",
      "|  ML Algorithm  |     Avg R^2 Score     |       Avg MSE        |\n",
      "+----------------+-----------------------+----------------------+\n",
      "|     Ridge      |   0.9213081029747141  | 0.012212537105781228 |\n",
      "|     Linear     |   0.9201326162216852  | 0.012405215266363952 |\n",
      "|      SVR       |   0.9153829327889408  | 0.01313403570592751  |\n",
      "| Neural Network |   0.9004539635724889  | 0.013631264908344121 |\n",
      "|    XGBoost     |   0.8784586781825788  | 0.018835711786344748 |\n",
      "| Random Forest  |   0.8752137163442771  | 0.019520055197287334 |\n",
      "|      KNN       |   0.7747480401523651  | 0.03493796412780226  |\n",
      "|     Lasso      | -0.005784180554372997 | 0.15645404747634253  |\n",
      "+----------------+-----------------------+----------------------+\n"
     ]
    }
   ],
   "source": [
    "# !pip install prettytable\n",
    "from prettytable import PrettyTable \n",
    "  \n",
    "# Specify the column Names while initializing the table \n",
    "myTable = PrettyTable([\"ML Algorithm\", \"Avg R^2 Score\", \"Avg MSE\"]) \n",
    "\n",
    "# Add rows \n",
    "myTable.add_row([\"Ridge\", mean(r2_ridge), abs(mean(mse_ridge))])\n",
    "myTable.add_row([\"Linear\", mean(r2_LR), abs(mean(mse_LR))]) \n",
    "myTable.add_row([\"SVR\", mean(r2_svr), abs(mean(mse_svr))]) \n",
    "myTable.add_row([\"Neural Network\", r2_nn, mse_nn])\n",
    "myTable.add_row([\"XGBoost\", mean(r2_XGB), abs(mean(mse_XGB))])\n",
    "myTable.add_row([\"Random Forest\", mean(r2_rfr), abs(mean(mse_rfr))]) \n",
    "myTable.add_row([\"KNN\", mean(r2_KNN), abs(mean(mse_KNN))]) \n",
    "myTable.add_row([\"Lasso\", mean(r2_lasso), abs(mean(mse_lasso))])\n",
    "  \n",
    "print(myTable)"
   ]
  },
  {
   "cell_type": "markdown",
   "metadata": {},
   "source": [
    "### 2-5. Finding Optimal Hyperparameters"
   ]
  },
  {
   "cell_type": "markdown",
   "metadata": {},
   "source": [
    "We will use GridSearch() to populate optimal hyperparameters for the above regression methods. In this section and the following section, we will exclude lasso regression, as its R^2 scores were negative and indicate a worse fit than the mean line. Additionally, we will exclude the neural network because optimization has already been attempted through trial-and-error of the number of hidden layers, neurons, activations, and epochs."
   ]
  },
  {
   "cell_type": "markdown",
   "metadata": {},
   "source": [
    "#### 2-5-1. Ridge Regression"
   ]
  },
  {
   "cell_type": "code",
   "execution_count": 106,
   "metadata": {},
   "outputs": [],
   "source": [
    "# https://scikit-learn.org/stable/modules/generated/sklearn.linear_model.Ridge.html\n",
    "\n",
    "alpha = [0.05, 0.1, 0.5, 1, 2, 3, 4, 4.5, 5, 5.5, 6]\n",
    "tol = [0.0001, 0.0005, 0.001, 0.01, 0.05, 0.1, 0.15, 0.2, 0.25, 0.3, 0.4, 0.5]\n",
    "parameter_space = {\n",
    "    'alpha' : alpha,\n",
    "    'tol'   : tol,\n",
    "}"
   ]
  },
  {
   "cell_type": "code",
   "execution_count": 107,
   "metadata": {},
   "outputs": [
    {
     "name": "stdout",
     "output_type": "stream",
     "text": [
      "Best parameters found :\n",
      " {'alpha': 0.5, 'tol': 0.0001}\n",
      "Best score :\n",
      " 0.9183787421950826\n"
     ]
    }
   ],
   "source": [
    "from sklearn.model_selection import GridSearchCV\n",
    "\n",
    "def grid_search(clf, parameters, X, y): # using the GridSearch method to parse through every combination of hyperparameters specified in the above code block\n",
    "    gridSearch = GridSearchCV(clf, param_grid=parameters, n_jobs=-1, cv=5) \n",
    "    gridSearch.fit(X,y)\n",
    "    params = gridSearch.best_params_\n",
    "    score = gridSearch.best_score_\n",
    "    return gridSearch, params, score\n",
    "\n",
    "clf, params, score = grid_search(ridgeReg, parameter_space, X, y)\n",
    "\n",
    "print('Best parameters found :\\n', params)\n",
    "print('Best score :\\n', score)"
   ]
  },
  {
   "cell_type": "markdown",
   "metadata": {},
   "source": [
    "#### 2-5-2. XGBoost Regression"
   ]
  },
  {
   "cell_type": "code",
   "execution_count": 80,
   "metadata": {},
   "outputs": [],
   "source": [
    "# https://xgboost.readthedocs.io/en/latest/python/python_api.html\n",
    "\n",
    "learning_rate = [0.05, 0.1, 0.15, 0.2, 0.25, 0.3]\n",
    "n_estimators = [1000, 2000, 500]\n",
    "max_depth = [5, 6, 7, 8, 9, 10]\n",
    "\n",
    "parameter_space = {\n",
    "    'learning_rate' : learning_rate,\n",
    "    'n_estimators': n_estimators,\n",
    "    'max_depth' : max_depth\n",
    "}"
   ]
  },
  {
   "cell_type": "code",
   "execution_count": 81,
   "metadata": {},
   "outputs": [
    {
     "name": "stdout",
     "output_type": "stream",
     "text": [
      "Best parameters found :\n",
      " {'learning_rate': 0.05, 'max_depth': 5, 'n_estimators': 1000}\n",
      "Best score :\n",
      " 0.8993433917433228\n"
     ]
    }
   ],
   "source": [
    "from sklearn.model_selection import GridSearchCV\n",
    "\n",
    "def grid_search(clf, parameters, X, y): # using the GridSearch method to parse through every combination of hyperparameters specified in the above code block\n",
    "    gridSearch = GridSearchCV(clf, param_grid=parameters, n_jobs=-1, cv=5) \n",
    "    gridSearch.fit(X,y)\n",
    "    params = gridSearch.best_params_\n",
    "    score = gridSearch.best_score_\n",
    "    return gridSearch, params, score\n",
    "\n",
    "clf, params, score = grid_search(XGB, parameter_space, X, y)\n",
    "\n",
    "print('Best parameters found :\\n', params)\n",
    "print('Best score :\\n', score)"
   ]
  },
  {
   "cell_type": "markdown",
   "metadata": {},
   "source": [
    "#### 2-5-3. KNN Regression"
   ]
  },
  {
   "cell_type": "code",
   "execution_count": 82,
   "metadata": {},
   "outputs": [],
   "source": [
    "# https://scikit-learn.org/stable/modules/generated/sklearn.neighbors.KNeighborsRegressor.html\n",
    "\n",
    "n_neighbors = [1, 2, 3, 4, 5, 6, 7, 8, 9, 10]\n",
    "leaf_size = [2, 5, 7, 10, 20, 30]\n",
    "\n",
    "parameter_space = {\n",
    "    'n_neighbors' : n_neighbors,\n",
    "    'leaf_size': leaf_size\n",
    "}"
   ]
  },
  {
   "cell_type": "code",
   "execution_count": 83,
   "metadata": {},
   "outputs": [
    {
     "name": "stdout",
     "output_type": "stream",
     "text": [
      "Best parameters found :\n",
      " {'leaf_size': 2, 'n_neighbors': 7}\n",
      "Best score :\n",
      " 0.7764670637059556\n"
     ]
    }
   ],
   "source": [
    "from sklearn.model_selection import GridSearchCV\n",
    "\n",
    "def grid_search(clf, parameters, X, y): # using the GridSearch method to parse through every combination of hyperparameters specified in the above code block\n",
    "    gridSearch = GridSearchCV(clf, param_grid=parameters, n_jobs=-1, cv=5) \n",
    "    gridSearch.fit(X,y)\n",
    "    params = gridSearch.best_params_\n",
    "    score = gridSearch.best_score_\n",
    "    return gridSearch, params, score\n",
    "\n",
    "clf, params, score = grid_search(KNN, parameter_space, X, y)\n",
    "\n",
    "print('Best parameters found :\\n', params)\n",
    "print('Best score :\\n', score)"
   ]
  },
  {
   "cell_type": "markdown",
   "metadata": {},
   "source": [
    "#### 2-5-4. Linear Regression"
   ]
  },
  {
   "cell_type": "code",
   "execution_count": 84,
   "metadata": {},
   "outputs": [],
   "source": [
    "# https://scikit-learn.org/stable/modules/generated/sklearn.linear_model.LinearRegression.html\n",
    "normalize = [True, False]\n",
    "\n",
    "parameter_space = {\n",
    "    'normalize' : normalize,\n",
    "}"
   ]
  },
  {
   "cell_type": "code",
   "execution_count": 85,
   "metadata": {},
   "outputs": [
    {
     "name": "stdout",
     "output_type": "stream",
     "text": [
      "Best parameters found :\n",
      " {'normalize': True}\n",
      "Best score :\n",
      " 0.9156872023885485\n"
     ]
    }
   ],
   "source": [
    "from sklearn.model_selection import GridSearchCV\n",
    "\n",
    "def grid_search(clf, parameters, X, y): # using the GridSearch method to parse through every combination of hyperparameters specified in the above code block\n",
    "    gridSearch = GridSearchCV(clf, param_grid=parameters, n_jobs=-1, cv=5) \n",
    "    gridSearch.fit(X,y)\n",
    "    params = gridSearch.best_params_\n",
    "    score = gridSearch.best_score_\n",
    "    return gridSearch, params, score\n",
    "\n",
    "clf, params, score = grid_search(LR, parameter_space, X, y)\n",
    "\n",
    "print('Best parameters found :\\n', params)\n",
    "print('Best score :\\n', score)"
   ]
  },
  {
   "cell_type": "markdown",
   "metadata": {},
   "source": [
    "#### 2-5-5. Random Forest Regression"
   ]
  },
  {
   "cell_type": "code",
   "execution_count": 86,
   "metadata": {},
   "outputs": [],
   "source": [
    "# https://scikit-learn.org/stable/modules/generated/sklearn.ensemble.RandomForestRegressor.html\n",
    "\n",
    "min_samples_leaf = [1, 2, 3, 4, 5]\n",
    "n_estimators = [1000, 2000, 500]\n",
    "# max_depth = [5, 6, 7, 8, 9, 10]\n",
    "\n",
    "parameter_space = {\n",
    "    'min_samples_leaf' : min_samples_leaf,\n",
    "    'n_estimators': n_estimators\n",
    "    #'max_depth' : max_depth\n",
    "}"
   ]
  },
  {
   "cell_type": "code",
   "execution_count": 87,
   "metadata": {},
   "outputs": [
    {
     "name": "stdout",
     "output_type": "stream",
     "text": [
      "Best parameters found :\n",
      " {'min_samples_leaf': 1, 'n_estimators': 2000}\n",
      "Best score :\n",
      " 0.8729666936288091\n"
     ]
    }
   ],
   "source": [
    "from sklearn.model_selection import GridSearchCV\n",
    "\n",
    "def grid_search(clf, parameters, X, y): # using the GridSearch method to parse through every combination of hyperparameters specified in the above code block\n",
    "    gridSearch = GridSearchCV(clf, param_grid=parameters, n_jobs=-1, cv=5) \n",
    "    gridSearch.fit(X,y)\n",
    "    params = gridSearch.best_params_\n",
    "    score = gridSearch.best_score_\n",
    "    return gridSearch, params, score\n",
    "\n",
    "clf, params, score = grid_search(rfr, parameter_space, X, y)\n",
    "\n",
    "print('Best parameters found :\\n', params)\n",
    "print('Best score :\\n', score)"
   ]
  },
  {
   "cell_type": "markdown",
   "metadata": {},
   "source": [
    "#### 2-5-6. Support Vector Regression"
   ]
  },
  {
   "cell_type": "code",
   "execution_count": 88,
   "metadata": {},
   "outputs": [],
   "source": [
    "# https://scikit-learn.org/stable/modules/generated/sklearn.svm.SVR.html\n",
    "\n",
    "C = [0.001, 0.005, 0.05, 0.01, 0.1, 0.5, 1.0, 10.0]\n",
    "epsilon = [0.001, 0.005, 0.05, 0.01, 0.1, 0.5, 1.0, 10.0]\n",
    "\n",
    "parameter_space = {\n",
    "    'C' : C,\n",
    "    'epsilon': epsilon\n",
    "}"
   ]
  },
  {
   "cell_type": "code",
   "execution_count": 89,
   "metadata": {},
   "outputs": [
    {
     "name": "stdout",
     "output_type": "stream",
     "text": [
      "Best parameters found :\n",
      " {'C': 1.0, 'epsilon': 0.005}\n",
      "Best score :\n",
      " 0.9219454924090803\n"
     ]
    }
   ],
   "source": [
    "from sklearn.model_selection import GridSearchCV\n",
    "\n",
    "def grid_search(clf, parameters, X, y): # using the GridSearch method to parse through every combination of hyperparameters specified in the above code block\n",
    "    gridSearch = GridSearchCV(clf, param_grid=parameters, n_jobs=-1, cv=5) \n",
    "    gridSearch.fit(X,y)\n",
    "    params = gridSearch.best_params_\n",
    "    score = gridSearch.best_score_\n",
    "    return gridSearch, params, score\n",
    "\n",
    "clf, params, score = grid_search(svr, parameter_space, X, y)\n",
    "\n",
    "print('Best parameters found :\\n', params)\n",
    "print('Best score :\\n', score)"
   ]
  },
  {
   "cell_type": "markdown",
   "metadata": {},
   "source": [
    "### 2-6. Implementation of Optimal Hyperparameters\n",
    "Now, we will implement the obtained hyperparameters in our initial regression methods. Once again, we will be exclusing lasso regression and the neural network."
   ]
  },
  {
   "cell_type": "markdown",
   "metadata": {},
   "source": [
    "#### 2-6-1. Ridge Regression"
   ]
  },
  {
   "cell_type": "code",
   "execution_count": 160,
   "metadata": {},
   "outputs": [],
   "source": [
    "from sklearn.linear_model import Ridge\n",
    "ridgeReg = Ridge(alpha = 0.5, tol = 0.0001)\n",
    "# ridgeReg.fit(X_train, y_train)\n",
    "# print('Ridge')\n",
    "# print(ridgeReg.score(X_test, y_test)) # returns R^2 score"
   ]
  },
  {
   "cell_type": "code",
   "execution_count": 161,
   "metadata": {},
   "outputs": [
    {
     "name": "stdout",
     "output_type": "stream",
     "text": [
      "R^2 Score: [0.91579966 0.9327697  0.92276102 0.91327879 0.93332233 0.91302244\n",
      " 0.92788435 0.92716391 0.89448819 0.93259064]\n",
      "\n",
      "\n",
      "Mean R^2 Score: 0.9213081029747141\n",
      "\n",
      "\n",
      "MSE: [0.01119675 0.00943708 0.01150821 0.01288254 0.01184677 0.01297847\n",
      " 0.01186199 0.01161688 0.01744969 0.01134699]\n",
      "\n",
      "\n",
      "Mean MSE Value: 0.012212537105781228\n"
     ]
    }
   ],
   "source": [
    "from sklearn.model_selection import KFold\n",
    "from sklearn.model_selection import cross_val_score\n",
    "from statistics import *\n",
    "\n",
    "cv = KFold(n_splits=10, random_state=21, shuffle=True)\n",
    "\n",
    "r2_ridge = cross_val_score(ridgeReg, X, y, scoring='r2', cv=cv, n_jobs=-1)\n",
    "mse_ridge = cross_val_score(ridgeReg, X, y, scoring='neg_mean_squared_error', cv=cv, n_jobs=-1)\n",
    "\n",
    "print(\"R^2 Score:\", r2_ridge)\n",
    "print(\"\\n\")\n",
    "print(\"Mean R^2 Score:\", mean(r2_ridge))\n",
    "print(\"\\n\")\n",
    "print(\"MSE:\", abs(mse_ridge))\n",
    "print(\"\\n\")\n",
    "print(\"Mean MSE Value:\", abs(mean(mse_ridge)))"
   ]
  },
  {
   "cell_type": "markdown",
   "metadata": {},
   "source": [
    "After performing GridSearch, there is no change in the average scores. This means that the default parameters were optimal."
   ]
  },
  {
   "cell_type": "markdown",
   "metadata": {},
   "source": [
    "#### 2-6-2. XGBoost Regression"
   ]
  },
  {
   "cell_type": "code",
   "execution_count": 78,
   "metadata": {},
   "outputs": [],
   "source": [
    "# !pip install xgboost\n",
    "from xgboost import XGBRegressor\n",
    "XGB = XGBRegressor(learning_rate = 0.05, max_depth = 5, n_estimators = 1000)\n",
    "# XGB.fit(X_train, y_train)\n",
    "# print(XGB.score(X_test, y_test)) # returns R^2 score"
   ]
  },
  {
   "cell_type": "code",
   "execution_count": 79,
   "metadata": {},
   "outputs": [
    {
     "name": "stdout",
     "output_type": "stream",
     "text": [
      "R^2 Score: [0.90115492 0.91239525 0.91027006 0.88197903 0.90169638 0.89250953\n",
      " 0.89974238 0.91710079 0.88240005 0.935682  ]\n",
      "\n",
      "\n",
      "Mean R^2 Score: 0.9034930388466688\n",
      "\n",
      "\n",
      "MSE: [0.01314417 0.01229704 0.0133693  0.01753215 0.01746583 0.01603933\n",
      " 0.01649093 0.01322188 0.01944885 0.01082663]\n",
      "\n",
      "\n",
      "Mean MSE Value: 0.014983609885065727\n"
     ]
    }
   ],
   "source": [
    "r2_XGB = cross_val_score(XGB, X, y, scoring='r2', cv=cv, n_jobs=-1)\n",
    "mse_XGB = cross_val_score(XGB, X, y, scoring='neg_mean_squared_error', cv=cv, n_jobs=-1)\n",
    "\n",
    "print(\"R^2 Score:\", r2_XGB)\n",
    "print(\"\\n\")\n",
    "print(\"Mean R^2 Score:\", mean(r2_XGB))\n",
    "print(\"\\n\")\n",
    "print(\"MSE:\", abs(mse_XGB))\n",
    "print(\"\\n\")\n",
    "print(\"Mean MSE Value:\", abs(mean(mse_XGB)))"
   ]
  },
  {
   "cell_type": "markdown",
   "metadata": {},
   "source": [
    "After performing GridSearch, there is a decent increase in the average R^2 score and decrease in MSE value."
   ]
  },
  {
   "cell_type": "markdown",
   "metadata": {},
   "source": [
    "#### 2-6-3. KNN Regression"
   ]
  },
  {
   "cell_type": "code",
   "execution_count": 80,
   "metadata": {},
   "outputs": [],
   "source": [
    "from sklearn.neighbors import KNeighborsRegressor\n",
    "\n",
    "KNN = KNeighborsRegressor(leaf_size = 2, n_neighbors = 7)\n",
    "# KNN.fit(X_train,y_train)\n",
    "# print(KNN.score(X_test, y_test)) # returns R^2 score"
   ]
  },
  {
   "cell_type": "code",
   "execution_count": 81,
   "metadata": {},
   "outputs": [
    {
     "name": "stdout",
     "output_type": "stream",
     "text": [
      "R^2 Score: [0.78255355 0.75283004 0.782098   0.71792834 0.77624673 0.79330948\n",
      " 0.80175875 0.79406542 0.73111068 0.79640768]\n",
      "\n",
      "\n",
      "Mean R^2 Score: 0.7728308658232684\n",
      "\n",
      "\n",
      "MSE: [0.02891548 0.03469513 0.03246628 0.04190207 0.03975475 0.03084159\n",
      " 0.03260783 0.03284522 0.0444693  0.03427062]\n",
      "\n",
      "\n",
      "Mean MSE Value: 0.035276826240965856\n"
     ]
    }
   ],
   "source": [
    "r2_KNN = cross_val_score(KNN, X, y, scoring='r2', cv=cv, n_jobs=-1)\n",
    "mse_KNN = cross_val_score(KNN, X, y, scoring='neg_mean_squared_error', cv=cv, n_jobs=-1)\n",
    "\n",
    "print(\"R^2 Score:\", r2_KNN)\n",
    "print(\"\\n\")\n",
    "print(\"Mean R^2 Score:\", mean(r2_KNN))\n",
    "print(\"\\n\")\n",
    "print(\"MSE:\", abs(mse_KNN))\n",
    "print(\"\\n\")\n",
    "print(\"Mean MSE Value:\", abs(mean(mse_KNN)))"
   ]
  },
  {
   "cell_type": "markdown",
   "metadata": {},
   "source": [
    "After performing GridSearch, there is a slight increase in the average R^2 score and decrease in MSE value."
   ]
  },
  {
   "cell_type": "markdown",
   "metadata": {},
   "source": [
    "#### 2-6-4. Linear Regression"
   ]
  },
  {
   "cell_type": "code",
   "execution_count": 82,
   "metadata": {},
   "outputs": [],
   "source": [
    "from sklearn.linear_model import LinearRegression\n",
    "LR = LinearRegression(normalize=True)\n",
    "# LR.fit(X_train, y_train)\n",
    "# LR.score(X_train, y_train) # returns R^2 score"
   ]
  },
  {
   "cell_type": "code",
   "execution_count": 83,
   "metadata": {},
   "outputs": [
    {
     "name": "stdout",
     "output_type": "stream",
     "text": [
      "R^2 Score: [0.91597585 0.93029831 0.92119611 0.91706952 0.92918975 0.91536887\n",
      " 0.92515085 0.92754548 0.89861673 0.92422966]\n",
      "\n",
      "\n",
      "Mean R^2 Score: 0.9204641129618735\n",
      "\n",
      "\n",
      "MSE: [0.01117332 0.00978399 0.01174138 0.01231942 0.01258102 0.01262834\n",
      " 0.01231161 0.01155602 0.01676691 0.01275439]\n",
      "\n",
      "\n",
      "Mean MSE Value: 0.012361639516191167\n"
     ]
    }
   ],
   "source": [
    "r2_LR = cross_val_score(LR, X, y, scoring='r2', cv=cv, n_jobs=-1)\n",
    "mse_LR = cross_val_score(LR, X, y, scoring='neg_mean_squared_error', cv=cv, n_jobs=-1)\n",
    "\n",
    "print(\"R^2 Score:\", r2_LR)\n",
    "print(\"\\n\")\n",
    "print(\"Mean R^2 Score:\", mean(r2_LR))\n",
    "print(\"\\n\")\n",
    "print(\"MSE:\", abs(mse_LR))\n",
    "print(\"\\n\")\n",
    "print(\"Mean MSE Value:\", abs(mean(mse_LR)))"
   ]
  },
  {
   "cell_type": "markdown",
   "metadata": {},
   "source": [
    "After performing GridSearch, there is a decent increase in the average R^2 score and decrease in MSE value."
   ]
  },
  {
   "cell_type": "markdown",
   "metadata": {},
   "source": [
    "#### 2-6-5. Random Forest Regression"
   ]
  },
  {
   "cell_type": "code",
   "execution_count": 84,
   "metadata": {},
   "outputs": [],
   "source": [
    "from sklearn.ensemble import RandomForestRegressor\n",
    "rfr = RandomForestRegressor(min_samples_leaf = 1, n_estimators = 2000)\n",
    "# rfr.fit(X_train, y_train)\n",
    "# print(rfr.score(X_test, y_test))"
   ]
  },
  {
   "cell_type": "code",
   "execution_count": 85,
   "metadata": {},
   "outputs": [
    {
     "name": "stdout",
     "output_type": "stream",
     "text": [
      "R^2 Score: [0.88335455 0.88382032 0.90704243 0.85403344 0.8522473  0.86448451\n",
      " 0.8689868  0.88954544 0.8507096  0.90701648]\n",
      "\n",
      "\n",
      "Mean R^2 Score: 0.8761240872679814\n",
      "\n",
      "\n",
      "MSE: [0.01561078 0.01654568 0.01386037 0.02164481 0.02628796 0.02024772\n",
      " 0.02144392 0.01783531 0.02461983 0.01572708]\n",
      "\n",
      "\n",
      "Mean MSE Value: 0.01938234607136116\n"
     ]
    }
   ],
   "source": [
    "r2_rfr = cross_val_score(rfr, X, y, scoring='r2', cv=cv, n_jobs=-1)\n",
    "mse_rfr = cross_val_score(rfr, X, y, scoring='neg_mean_squared_error', cv=cv, n_jobs=-1)\n",
    "\n",
    "print(\"R^2 Score:\", r2_rfr)\n",
    "print(\"\\n\")\n",
    "print(\"Mean R^2 Score:\", mean(r2_rfr))\n",
    "print(\"\\n\")\n",
    "print(\"MSE:\", abs(mse_rfr))\n",
    "print(\"\\n\")\n",
    "print(\"Mean MSE Value:\", abs(mean(mse_rfr)))"
   ]
  },
  {
   "cell_type": "markdown",
   "metadata": {},
   "source": [
    "After performing GridSearch, there is a slight increase in the average R^2 score and decrease in MSE value."
   ]
  },
  {
   "cell_type": "markdown",
   "metadata": {},
   "source": [
    "#### 2-6-6. Support Vector Regression"
   ]
  },
  {
   "cell_type": "code",
   "execution_count": 86,
   "metadata": {},
   "outputs": [],
   "source": [
    "from sklearn.svm import SVR\n",
    "# from sklearn.metrics import r2_score\n",
    "\n",
    "svr = SVR(kernel='linear', C = 1, epsilon = 0.005)\n",
    "# svr.fit(X_train, np.asarray(y_train))\n",
    "# y_pred_svr = svr.predict(X_test)\n",
    "# r2_score(y_test, y_pred_svr) # returns R^2 score"
   ]
  },
  {
   "cell_type": "code",
   "execution_count": 87,
   "metadata": {},
   "outputs": [
    {
     "name": "stdout",
     "output_type": "stream",
     "text": [
      "R^2 Score: [0.91240858 0.93108424 0.9272325  0.91462794 0.93334181 0.91533287\n",
      " 0.92484807 0.92826653 0.89469962 0.93641559]\n",
      "\n",
      "\n",
      "Mean R^2 Score: 0.9218257748780413\n",
      "\n",
      "\n",
      "MSE: [0.01164768 0.00967367 0.01084198 0.01268212 0.01184331 0.01263371\n",
      " 0.01236141 0.01144102 0.01741473 0.01070314]\n",
      "\n",
      "\n",
      "Mean MSE Value: 0.012124277991002975\n"
     ]
    }
   ],
   "source": [
    "r2_svr = cross_val_score(svr, X, y, scoring='r2', cv=cv, n_jobs=-1)\n",
    "mse_svr = cross_val_score(svr, X, y, scoring='neg_mean_squared_error', cv=cv, n_jobs=-1)\n",
    "\n",
    "print(\"R^2 Score:\", r2_svr)\n",
    "print(\"\\n\")\n",
    "print(\"Mean R^2 Score:\", mean(r2_svr))\n",
    "print(\"\\n\")\n",
    "print(\"MSE:\", abs(mse_svr))\n",
    "print(\"\\n\")\n",
    "print(\"Mean MSE Value:\", abs(mean(mse_svr)))"
   ]
  },
  {
   "cell_type": "markdown",
   "metadata": {},
   "source": [
    "After performing GridSearch, there is a slight increase in the average R^2 score and decrease in MSE value."
   ]
  },
  {
   "cell_type": "markdown",
   "metadata": {},
   "source": [
    "## 3. Final Results\n",
    "Below are the R^2 scores and MSE values for each regression method after implementing the optimal hyperparameters. As we can see, support vector regression had the best results, followed by ridge regression."
   ]
  },
  {
   "cell_type": "code",
   "execution_count": 88,
   "metadata": {},
   "outputs": [
    {
     "name": "stdout",
     "output_type": "stream",
     "text": [
      "+----------------+--------------------+----------------------+\n",
      "|  ML Algorithm  |   Avg R^2 Score    |       Avg MSE        |\n",
      "+----------------+--------------------+----------------------+\n",
      "|      SVR       | 0.9218257748780413 | 0.012124277991002975 |\n",
      "|     Ridge      | 0.9213081029747141 | 0.012212537105781228 |\n",
      "|     Linear     | 0.9204641129618735 | 0.012361639516191167 |\n",
      "| Neural Network | 0.9004539635724889 | 0.013631264908344121 |\n",
      "|    XGBoost     | 0.9034930388466688 | 0.014983609885065727 |\n",
      "| Random Forest  | 0.8761240872679814 | 0.01938234607136116  |\n",
      "|      KNN       | 0.7728308658232684 | 0.035276826240965856 |\n",
      "+----------------+--------------------+----------------------+\n"
     ]
    }
   ],
   "source": [
    "# !pip install prettytable\n",
    "from prettytable import PrettyTable \n",
    "  \n",
    "# Specify the column Names while initializing the table \n",
    "myTable = PrettyTable([\"ML Algorithm\", \"Avg R^2 Score\", \"Avg MSE\"]) \n",
    "\n",
    "# Add rows \n",
    "myTable.add_row([\"SVR\", mean(r2_svr), abs(mean(mse_svr))]) \n",
    "myTable.add_row([\"Ridge\", mean(r2_ridge), abs(mean(mse_ridge))])\n",
    "myTable.add_row([\"Linear\", mean(r2_LR), abs(mean(mse_LR))]) \n",
    "myTable.add_row([\"Neural Network\", r2_nn, mse_nn])\n",
    "myTable.add_row([\"XGBoost\", mean(r2_XGB), abs(mean(mse_XGB))])\n",
    "myTable.add_row([\"Random Forest\", mean(r2_rfr), abs(mean(mse_rfr))]) \n",
    "myTable.add_row([\"KNN\", mean(r2_KNN), abs(mean(mse_KNN))]) \n",
    "  \n",
    "print(myTable)"
   ]
  },
  {
   "cell_type": "markdown",
   "metadata": {},
   "source": [
    "## 4. Discussion\n",
    "We want to analyze why Lasso regression had a negative R^2 score."
   ]
  },
  {
   "cell_type": "code",
   "execution_count": 162,
   "metadata": {},
   "outputs": [
    {
     "data": {
      "image/png": "[encoded data removed]",
      "text/plain": [
       "<Figure size 576x396 with 1 Axes>"
      ]
     },
     "metadata": {},
     "output_type": "display_data"
    },
    {
     "data": {
      "text/plain": [
       "<AxesSubplot:title={'center':'Prediction Error for Ridge'}, xlabel='$y$', ylabel='$\\\\hat{y}$'>"
      ]
     },
     "execution_count": 162,
     "metadata": {},
     "output_type": "execute_result"
    }
   ],
   "source": [
    "visualizer = PredictionError(ridgeReg)\n",
    "visualizer.fit(X_train, y_train)\n",
    "visualizer.score(X_test, y_test)\n",
    "visualizer.poof()"
   ]
  },
  {
   "cell_type": "code",
   "execution_count": 163,
   "metadata": {},
   "outputs": [
    {
     "data": {
      "image/png": "[encoded data removed]",
      "text/plain": [
       "<Figure size 576x396 with 1 Axes>"
      ]
     },
     "metadata": {},
     "output_type": "display_data"
    },
    {
     "data": {
      "text/plain": [
       "<AxesSubplot:title={'center':'Prediction Error for Lasso'}, xlabel='$y$', ylabel='$\\\\hat{y}$'>"
      ]
     },
     "execution_count": 163,
     "metadata": {},
     "output_type": "execute_result"
    }
   ],
   "source": [
    "# !pip install yellowbrick\n",
    "from yellowbrick.regressor import PredictionError, ResidualsPlot\n",
    "visualizer = PredictionError(lassoReg)\n",
    "visualizer.fit(X_train, y_train)\n",
    "visualizer.score(X_test, y_test)\n",
    "visualizer.poof()"
   ]
  },
  {
   "cell_type": "markdown",
   "metadata": {},
   "source": [
    "As observed, there is a stark performance difference between ridge regression and lasso regression. The prediction error plot of Lasso regression indicates that the mean of the data provides a better fit to the prediction of SalePrice than the model itself, explaining the negativity of the accuracy scores."
   ]
  },
  {
   "cell_type": "code",
   "execution_count": null,
   "metadata": {},
   "outputs": [],
   "source": []
  }
 ],
 "metadata": {
  "kernelspec": {
   "display_name": "Python 3",
   "language": "python",
   "name": "python3"
  },
  "language_info": {
   "codemirror_mode": {
    "name": "ipython",
    "version": 3
   },
   "file_extension": ".py",
   "mimetype": "text/x-python",
   "name": "python",
   "nbconvert_exporter": "python",
   "pygments_lexer": "ipython3",
   "version": "3.8.6"
  }
 },
 "nbformat": 4,
 "nbformat_minor": 4
}
